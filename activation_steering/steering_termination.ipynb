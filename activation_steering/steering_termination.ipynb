{
 "cells": [
  {
   "cell_type": "markdown",
   "metadata": {},
   "source": [
<<<<<<< HEAD
    "# Activation steering to terminate\n"
=======
    "# Experiment Template\n",
    "Many Mech.Int experiments and ideas are not particularly involved from an engineering perspective, and can involve considerable levels of jank. As such, this template should serve as a quick way to spin up some experiments for your latest idea. I also recommend a naming convention that goes \"01 Experiment Name.ipynb\" for notebooks and \"01_experiment_name_scripts.py\" for scripts, if these become necessary."
>>>>>>> e7f9d2a41d56855ee095970487d402844c82cb3d
   ]
  },
  {
   "cell_type": "code",
<<<<<<< HEAD
   "execution_count": 1,
=======
   "execution_count": 19,
>>>>>>> e7f9d2a41d56855ee095970487d402844c82cb3d
   "metadata": {},
   "outputs": [
    {
     "data": {
      "text/plain": [
       "{'COMMAND_MODE': 'unix2003',\n",
       " 'HOME': '/Users/benjamin.berczi',\n",
       " 'HOMEBREW_CELLAR': '/opt/homebrew/Cellar',\n",
       " 'HOMEBREW_PREFIX': '/opt/homebrew',\n",
       " 'HOMEBREW_REPOSITORY': '/opt/homebrew',\n",
       " 'INFOPATH': '/opt/homebrew/share/info:',\n",
       " 'LOGNAME': 'benjamin.berczi',\n",
       " 'LaunchInstanceID': '74E4E318-53B5-4B19-8242-DEFF82A98823',\n",
       " 'MANPATH': '/opt/homebrew/share/man::',\n",
       " 'MallocNanoZone': '0',\n",
       " 'OLDPWD': '/',\n",
       " 'ORIGINAL_XDG_CURRENT_DESKTOP': 'undefined',\n",
       " 'PATH': '/opt/homebrew/bin:/Users/benjamin.berczi/Library/Python/3.11/bin:/Users/benjamin.berczi/.rd/bin:/opt/homebrew/bin:/opt/homebrew/sbin:/usr/local/bin:/System/Cryptexes/App/usr/bin:/usr/bin:/bin:/usr/sbin:/sbin:/var/run/com.apple.security.cryptexd/codex.system/bootstrap/usr/local/bin:/var/run/com.apple.security.cryptexd/codex.system/bootstrap/usr/bin:/var/run/com.apple.security.cryptexd/codex.system/bootstrap/usr/appleinternal/bin:/Users/benjamin.berczi/.rd/bin:/opt/homebrew/bin:/opt/homebrew/sbin:/usr/local/bin:/System/Cryptexes/App/usr/bin:/usr/bin:/bin:/usr/sbin:/sbin:/var/run/com.apple.security.cryptexd/codex.system/bootstrap/usr/local/bin:/var/run/com.apple.security.cryptexd/codex.system/bootstrap/usr/bin:/var/run/com.apple.security.cryptexd/codex.system/bootstrap/usr/appleinternal/bin',\n",
       " 'PWD': '/',\n",
       " 'SECURITYSESSIONID': '186b2',\n",
       " 'SHELL': '/bin/zsh',\n",
       " 'SHLVL': '0',\n",
       " 'SSH_AUTH_SOCK': '/private/tmp/com.apple.launchd.R7R9khr3np/Listeners',\n",
       " 'TMPDIR': '/var/folders/z5/k_gvzs715zz85rhc9nwmk4kw0000gp/T/',\n",
       " 'USER': 'benjamin.berczi',\n",
       " 'VSCODE_AMD_ENTRYPOINT': 'vs/workbench/api/node/extensionHostProcess',\n",
       " 'VSCODE_CODE_CACHE_PATH': '/Users/benjamin.berczi/Library/Application Support/Code/CachedData/019f4d1419fbc8219a181fab7892ebccf7ee29a2',\n",
       " 'VSCODE_CRASH_REPORTER_PROCESS_TYPE': 'extensionHost',\n",
       " 'VSCODE_CWD': '/',\n",
       " 'VSCODE_HANDLES_UNCAUGHT_ERRORS': 'true',\n",
       " 'VSCODE_IPC_HOOK': '/Users/benjamin.berczi/Library/Application Support/Code/1.87-main.sock',\n",
       " 'VSCODE_NLS_CONFIG': '{\"locale\":\"en-gb\",\"osLocale\":\"en-gb\",\"availableLanguages\":{},\"_languagePackSupport\":true}',\n",
       " 'VSCODE_PID': '961',\n",
       " 'XPC_FLAGS': '0x0',\n",
       " 'XPC_SERVICE_NAME': 'application.com.microsoft.VSCode.3833237.3833243',\n",
       " '_': '/Applications/Visual Studio Code.app/Contents/MacOS/Electron',\n",
       " '__CFBundleIdentifier': 'com.microsoft.VSCode',\n",
       " '__CF_USER_TEXT_ENCODING': '0x1F6:0:2',\n",
       " 'ELECTRON_RUN_AS_NODE': '1',\n",
<<<<<<< HEAD
       " 'VSCODE_L10N_BUNDLE_LOCATION': '',\n",
=======
>>>>>>> e7f9d2a41d56855ee095970487d402844c82cb3d
       " 'PYDEVD_IPYTHON_COMPATIBLE_DEBUGGING': '1',\n",
       " 'PYTHONUNBUFFERED': '1',\n",
       " 'PYTHONIOENCODING': 'utf-8',\n",
       " 'LC_CTYPE': 'UTF-8',\n",
       " 'PYDEVD_USE_FRAME_EVAL': 'NO',\n",
       " 'TERM': 'xterm-color',\n",
       " 'CLICOLOR': '1',\n",
       " 'FORCE_COLOR': '1',\n",
       " 'CLICOLOR_FORCE': '1',\n",
       " 'PAGER': 'cat',\n",
       " 'GIT_PAGER': 'cat',\n",
<<<<<<< HEAD
       " 'MPLBACKEND': 'module://matplotlib_inline.backend_inline'}"
      ]
     },
     "execution_count": 1,
=======
       " 'MPLBACKEND': 'module://matplotlib_inline.backend_inline',\n",
       " 'CUDA_VISIBLE_DEVICES': '',\n",
       " 'PYTORCH_ENABLE_MPS_FALLBACK': '1',\n",
       " 'CUBLAS_WORKSPACE_CONFIG': ':4096:8',\n",
       " 'WANDB_TMPDIR': '/tmp',\n",
       " 'WANDB_SERVICE': '2-1534-tcp-localhost-56295'}"
      ]
     },
     "execution_count": 19,
>>>>>>> e7f9d2a41d56855ee095970487d402844c82cb3d
     "metadata": {},
     "output_type": "execute_result"
    }
   ],
   "source": [
    "%env"
   ]
  },
  {
   "cell_type": "code",
<<<<<<< HEAD
   "execution_count": 2,
=======
   "execution_count": 20,
>>>>>>> e7f9d2a41d56855ee095970487d402844c82cb3d
   "metadata": {},
   "outputs": [],
   "source": [
    "import os \n",
    "PYTORCH_ENABLE_MPS_FALLBACK=1\n",
    "CUDA_VISIBLE_DEVICES=\"\"\n",
    "os.environ[\"CUDA_VISIBLE_DEVICES\"]=\"\"\n",
    "os.environ[\"PYTORCH_ENABLE_MPS_FALLBACK\"]=\"1\"\n",
    "\n",
    "\n"
   ]
  },
  {
   "cell_type": "code",
<<<<<<< HEAD
   "execution_count": 3,
=======
   "execution_count": 21,
>>>>>>> e7f9d2a41d56855ee095970487d402844c82cb3d
   "metadata": {},
   "outputs": [],
   "source": [
    "import sys\n",
    "sys.path\n",
    "\n",
    "sys.path.append(\"/Users/benjamin.berczi/Documents/maze-dataset\")\n",
    "sys.path.append(\"/Users/benjamin.berczi/Documents/maze-transformer-1\")\n",
    "sys.path.append(\"/Users/benjamin.berczi/Documents/research\")\n",
    "sys.path.append(\"/Users/benjamin.berczi/Documents/research/unsearch_research\")\n"
   ]
  },
  {
   "cell_type": "code",
<<<<<<< HEAD
   "execution_count": 4,
   "metadata": {},
   "outputs": [
    {
     "name": "stderr",
     "output_type": "stream",
     "text": [
      "/opt/homebrew/Cellar/python@3.11/3.11.7/Frameworks/Python.framework/Versions/3.11/lib/python3.11/site-packages/_distutils_hack/__init__.py:33: UserWarning: Setuptools is replacing distutils.\n",
      "  warnings.warn(\"Setuptools is replacing distutils.\")\n",
      "/opt/homebrew/lib/python3.11/site-packages/transformers/utils/generic.py:311: UserWarning: torch.utils._pytree._register_pytree_node is deprecated. Please use torch.utils._pytree.register_pytree_node instead.\n",
      "  torch.utils._pytree._register_pytree_node(\n",
      "/opt/homebrew/lib/python3.11/site-packages/transformers/utils/generic.py:311: UserWarning: torch.utils._pytree._register_pytree_node is deprecated. Please use torch.utils._pytree.register_pytree_node instead.\n",
      "  torch.utils._pytree._register_pytree_node(\n"
     ]
    },
    {
     "name": "stdout",
     "output_type": "stream",
     "text": [
=======
   "execution_count": 22,
   "metadata": {},
   "outputs": [
    {
     "name": "stdout",
     "output_type": "stream",
     "text": [
      "The autoreload extension is already loaded. To reload it, use:\n",
      "  %reload_ext autoreload\n",
>>>>>>> e7f9d2a41d56855ee095970487d402844c82cb3d
      "dict_keys(['test-g3-n5-a_dfs-h75556', 'demo_small-g3-n100-a_dfs-h88371', 'demo-g6-n10K-a_dfs-h30615'])\n"
     ]
    }
   ],
   "source": [
    "# Imports\n",
    "%load_ext autoreload\n",
    "%autoreload 2\n",
    "\n",
    "# General Utilities\n",
    "from pathlib import Path\n",
    "\n",
    "# Generic ML\n",
    "import numpy as np\n",
    "import torch\n",
    "from torch.utils.data import DataLoader\n",
    "torch.set_float32_matmul_precision('medium') # if your GPU has TensorCores\n",
    "\n",
    "# Maze Transformer and Dataset\n",
    "\n",
    "# Other useful things\n",
    "from muutils.nbutils.configure_notebook import configure_notebook\n",
    "from unsearch_research import *\n",
    "\n",
    "# other package imports\n",
    "import matplotlib.pyplot as plt # keep this import for CI to work\n",
    "from zanj import ZANJ # saving/loading data\n",
    "from muutils.mlutils import pprint_summary # pretty printing as json\n",
    "\n",
    "# maze_dataset imports\n",
    "\n",
    "from maze_dataset import LatticeMaze, SolvedMaze, MazeDataset, MazeDatasetConfig\n",
    "from maze_dataset.tokenization import MazeTokenizer, TokenizationMode\n",
    "from maze_dataset.generation import LatticeMazeGenerators, GENERATORS_MAP\n",
    "from maze_dataset.generation.default_generators import DEFAULT_GENERATORS\n",
    "from maze_dataset.dataset.configs import MAZE_DATASET_CONFIGS\n",
    "from maze_dataset.plotting import plot_dataset_mazes, print_dataset_mazes\n",
    "\n",
    "# check the configs\n",
    "print(MAZE_DATASET_CONFIGS.keys())\n",
    "# for saving/loading things\n",
    "zanj: ZANJ = ZANJ(external_list_threshold=256)"
   ]
  },
  {
   "cell_type": "code",
<<<<<<< HEAD
   "execution_count": null,
   "metadata": {},
   "outputs": [],
   "source": []
  },
  {
   "cell_type": "code",
   "execution_count": 5,
=======
   "execution_count": 23,
>>>>>>> e7f9d2a41d56855ee095970487d402844c82cb3d
   "metadata": {},
   "outputs": [
    {
     "name": "stdout",
     "output_type": "stream",
     "text": [
      "set up plots with PLOT_MODE = 'inline', FIG_OUTPUT_FMT = None, FIG_BASEPATH = None\n"
     ]
    }
   ],
   "source": [
    "# Configuration\n",
    "SEED = 42\n",
    "DARK_MODE = True\n",
    "LOCAL_DATA_PATH = Path(\"/Users/benjamin.berczi/Documents\")\n",
    "#LOCAL_DATA_PATH: str = \"../data/maze_dataset\"\n",
    "\n",
    "DEVICE = configure_notebook(\n",
    "    seed=SEED,\n",
    "    dark_mode=DARK_MODE,\n",
    "    device=None,  # Defaults GPU > MPS > CPU\n",
    ")\n",
    "set_unsearch_style(dark_mode=DARK_MODE) # Matplotlib style"
   ]
  },
  {
   "cell_type": "code",
<<<<<<< HEAD
   "execution_count": 6,
   "metadata": {},
   "outputs": [
    {
     "name": "stderr",
     "output_type": "stream",
     "text": [
      "Failed to detect the name of this notebook, you can set it manually with the WANDB_NOTEBOOK_NAME environment variable to enable code saving.\n"
     ]
    },
    {
     "name": "stdout",
     "output_type": "stream",
     "text": [
      "No wandb context found, creating one...\n"
     ]
    },
    {
     "name": "stderr",
     "output_type": "stream",
     "text": [
      "\u001b[34m\u001b[1mwandb\u001b[0m: Currently logged in as: \u001b[33mbenji-berczi\u001b[0m (\u001b[33maisc-search\u001b[0m). Use \u001b[1m`wandb login --relogin`\u001b[0m to force relogin\n"
     ]
    },
    {
     "data": {
      "application/vnd.jupyter.widget-view+json": {
       "model_id": "cf1ed1ccf6b14dbbbd37575e6c381810",
       "version_major": 2,
       "version_minor": 0
      },
      "text/plain": [
       "VBox(children=(Label(value='Waiting for wandb.init()...\\r'), FloatProgress(value=0.016682192349495986, max=1.0…"
      ]
     },
     "metadata": {},
     "output_type": "display_data"
    },
    {
     "data": {
      "text/html": [
       "wandb version 0.16.5 is available!  To upgrade, please run:\n",
       " $ pip install wandb --upgrade"
      ],
      "text/plain": [
       "<IPython.core.display.HTML object>"
      ]
     },
     "metadata": {},
     "output_type": "display_data"
    },
    {
     "data": {
      "text/html": [
       "Tracking run with wandb version 0.13.11"
      ],
      "text/plain": [
       "<IPython.core.display.HTML object>"
      ]
     },
     "metadata": {},
     "output_type": "display_data"
    },
    {
     "data": {
      "text/html": [
       "Run data is saved locally in <code>/tmp/wandb/run-20240329_061108-mixed_maze_sweep02_10-seed_1-lr_0.001-h_8-l_12-d_512-posembed_standard-20240210223618</code>"
      ],
      "text/plain": [
       "<IPython.core.display.HTML object>"
      ]
     },
     "metadata": {},
     "output_type": "display_data"
    },
    {
     "data": {
      "text/html": [
       "Resuming run <strong><a href='https://wandb.ai/aisc-search/mixed_maze_sweep/runs/mixed_maze_sweep02_10-seed_1-lr_0.001-h_8-l_12-d_512-posembed_standard-20240210223618' target=\"_blank\">mixed_maze_sweep02_10</a></strong> to <a href='https://wandb.ai/aisc-search/mixed_maze_sweep' target=\"_blank\">Weights & Biases</a> (<a href='https://wandb.me/run' target=\"_blank\">docs</a>)<br/>"
      ],
      "text/plain": [
       "<IPython.core.display.HTML object>"
      ]
     },
     "metadata": {},
     "output_type": "display_data"
    },
    {
     "data": {
      "text/html": [
       " View project at <a href='https://wandb.ai/aisc-search/mixed_maze_sweep' target=\"_blank\">https://wandb.ai/aisc-search/mixed_maze_sweep</a>"
      ],
      "text/plain": [
       "<IPython.core.display.HTML object>"
      ]
     },
     "metadata": {},
     "output_type": "display_data"
    },
    {
     "data": {
      "text/html": [
       " View run at <a href='https://wandb.ai/aisc-search/mixed_maze_sweep/runs/mixed_maze_sweep02_10-seed_1-lr_0.001-h_8-l_12-d_512-posembed_standard-20240210223618' target=\"_blank\">https://wandb.ai/aisc-search/mixed_maze_sweep/runs/mixed_maze_sweep02_10-seed_1-lr_0.001-h_8-l_12-d_512-posembed_standard-20240210223618</a>"
      ],
      "text/plain": [
       "<IPython.core.display.HTML object>"
      ]
     },
     "metadata": {},
     "output_type": "display_data"
    },
    {
     "name": "stdout",
     "output_type": "stream",
     "text": [
      "Downloading model from aisc-search/mixed_maze_sweep/mixed_maze_sweep02_10-seed_1-lr_0.001-h_8-l_12-d_512-posembed_standard-20240210223618\n",
=======
   "execution_count": 35,
   "metadata": {},
   "outputs": [
    {
     "name": "stdout",
     "output_type": "stream",
     "text": [
>>>>>>> e7f9d2a41d56855ee095970487d402844c82cb3d
      "Loading latest checkpoint\n",
      "Model already downloaded to /Users/benjamin.berczi/Documents/downloaded_models/mixed_maze_sweep02_10-seed_1-lr_0.001-h_8-l_12-d_512-posembed_standard-20240210223618\n"
     ]
    }
   ],
   "source": [
    "model_run_id = \"mixed_maze_sweep02_10-seed_1-lr_0.001-h_8-l_12-d_512-posembed_standard-20240210223618\"\n",
    "\n",
    "model, cfg = load_wandb_model(\n",
    "    entity=\"aisc-search\",\n",
    "    project=\"mixed_maze_sweep\",\n",
    "    run_id=model_run_id,\n",
    "    # The following may be required for some older models with incomplete cfgs on wandb\n",
    "    # you'll know because loading will complain about mismatched position embedding weights\n",
    "    # config_overrides={\"model_cfg\": {\"positional_embedding_type\": \"rotary\"}},\n",
    "    output_path=LOCAL_DATA_PATH / \"downloaded_models\",\n",
    ")"
   ]
  },
  {
   "cell_type": "code",
<<<<<<< HEAD
   "execution_count": null,
   "metadata": {},
   "outputs": [],
   "source": []
  },
  {
   "cell_type": "code",
   "execution_count": 7,
=======
   "execution_count": 36,
>>>>>>> e7f9d2a41d56855ee095970487d402844c82cb3d
   "metadata": {},
   "outputs": [],
   "source": [
    "# Load a dataset\n",
    "tokenizer: MazeTokenizer = MazeTokenizer(tokenization_mode=TokenizationMode.AOTP_UT_rasterized, max_grid_size=7)\n",
    "\n",
    "cfg = MazeDatasetConfig(\n",
    "    name=\"test\",  \n",
    "    grid_n=5,  \n",
<<<<<<< HEAD
    "    n_mazes=100,  \n",
=======
    "    n_mazes=10,  \n",
>>>>>>> e7f9d2a41d56855ee095970487d402844c82cb3d
    "    maze_ctor=LatticeMazeGenerators.gen_dfs,  \n",
    "    #maze_ctor_kwargs=dict(do_forks=False),\n",
    "\n",
    ")\n",
    "\n",
    "dataset = MazeDataset.from_config(\n",
    "\tcfg,\n",
    "\tload_local=True,\n",
    "\tdo_generate=True,\n",
    "    save_local=True,\n",
    "\tlocal_base_path=LOCAL_DATA_PATH / 'mazes',\n",
    "\tverbose=False,\n",
    ")"
   ]
  },
  {
   "cell_type": "code",
<<<<<<< HEAD
   "execution_count": 227,
=======
   "execution_count": 37,
>>>>>>> e7f9d2a41d56855ee095970487d402844c82cb3d
   "metadata": {},
   "outputs": [
    {
     "data": {
      "text/plain": [
<<<<<<< HEAD
       "(<Figure size 10000x200 with 100 Axes>,\n",
       " array([<Axes: >, <Axes: >, <Axes: >, <Axes: >, <Axes: >, <Axes: >,\n",
       "        <Axes: >, <Axes: >, <Axes: >, <Axes: >, <Axes: >, <Axes: >,\n",
       "        <Axes: >, <Axes: >, <Axes: >, <Axes: >, <Axes: >, <Axes: >,\n",
       "        <Axes: >, <Axes: >, <Axes: >, <Axes: >, <Axes: >, <Axes: >,\n",
       "        <Axes: >, <Axes: >, <Axes: >, <Axes: >, <Axes: >, <Axes: >,\n",
       "        <Axes: >, <Axes: >, <Axes: >, <Axes: >, <Axes: >, <Axes: >,\n",
       "        <Axes: >, <Axes: >, <Axes: >, <Axes: >, <Axes: >, <Axes: >,\n",
       "        <Axes: >, <Axes: >, <Axes: >, <Axes: >, <Axes: >, <Axes: >,\n",
       "        <Axes: >, <Axes: >, <Axes: >, <Axes: >, <Axes: >, <Axes: >,\n",
       "        <Axes: >, <Axes: >, <Axes: >, <Axes: >, <Axes: >, <Axes: >,\n",
       "        <Axes: >, <Axes: >, <Axes: >, <Axes: >, <Axes: >, <Axes: >,\n",
       "        <Axes: >, <Axes: >, <Axes: >, <Axes: >, <Axes: >, <Axes: >,\n",
       "        <Axes: >, <Axes: >, <Axes: >, <Axes: >, <Axes: >, <Axes: >,\n",
       "        <Axes: >, <Axes: >, <Axes: >, <Axes: >, <Axes: >, <Axes: >,\n",
       "        <Axes: >, <Axes: >, <Axes: >, <Axes: >, <Axes: >, <Axes: >,\n",
       "        <Axes: >, <Axes: >, <Axes: >, <Axes: >, <Axes: >, <Axes: >,\n",
       "        <Axes: >, <Axes: >, <Axes: >, <Axes: >], dtype=object))"
      ]
     },
     "execution_count": 227,
=======
       "(<Figure size 1000x200 with 10 Axes>,\n",
       " array([<Axes: >, <Axes: >, <Axes: >, <Axes: >, <Axes: >, <Axes: >,\n",
       "        <Axes: >, <Axes: >, <Axes: >, <Axes: >], dtype=object))"
      ]
     },
     "execution_count": 37,
>>>>>>> e7f9d2a41d56855ee095970487d402844c82cb3d
     "metadata": {},
     "output_type": "execute_result"
    },
    {
     "data": {
      "image/png": "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",
      "text/plain": [
       "<Figure size 640x480 with 2 Axes>"
      ]
     },
     "metadata": {},
     "output_type": "display_data"
    },
    {
     "data": {
<<<<<<< HEAD
      "image/png": "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",
      "text/plain": [
       "<Figure size 10000x200 with 100 Axes>"
=======
      "image/png": "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",
      "text/plain": [
       "<Figure size 1000x200 with 10 Axes>"
>>>>>>> e7f9d2a41d56855ee095970487d402844c82cb3d
      ]
     },
     "metadata": {},
     "output_type": "display_data"
    }
   ],
   "source": [
    "# Plot a maze\n",
    "# gridspec\n",
    "from matplotlib.gridspec import GridSpec\n",
    "gs = GridSpec(1, 2)\n",
    "\n",
    "# Test plotting function on the LattizeMaze\n",
    "plot_maze(dataset[0], tokenizer=tokenizer, ax=gs[0, 0])\n",
    "\n",
    "# Get LatticeMaze object from string and plot that directly too!\n",
    "ds_string = dataset[0].as_tokens(tokenizer)\n",
    "plot_maze(ds_string, tokenizer=tokenizer, ax=gs[0,1])\n",
    "\n",
    "# note that the vocab is 7x7 so the second plot shows the maze as a 7x7 grid\n",
<<<<<<< HEAD
    "plot_dataset_mazes(dataset, count=None); # for large datasets, set the count to some int to just plot the first few"
=======
    "plot_dataset_mazes(dataset, count=None) # for large datasets, set the count to some int to just plot the first few"
>>>>>>> e7f9d2a41d56855ee095970487d402844c82cb3d
   ]
  },
  {
   "cell_type": "code",
<<<<<<< HEAD
   "execution_count": 8,
   "metadata": {},
   "outputs": [
    {
     "name": "stdout",
     "output_type": "stream",
     "text": [
      "###########\n",
      "#    XXX# #\n",
      "# ###X#X# #\n",
      "#   #X#S  #\n",
      "#####X#####\n",
      "#XXXXX#EXX#\n",
      "#X### ###X#\n",
      "#X#     #X#\n",
      "#X#######X#\n",
      "#XXXXXXXXX#\n",
      "###########\n",
      "{'func_name': 'gen_dfs', 'grid_shape': array([5, 5]), 'start_coord': array([2, 3]), 'n_accessible_cells': 25, 'max_tree_depth': 50, 'fully_connected': True, 'visited_cells': [[4, 0], [3, 4], [4, 3], [3, 1], [0, 2], [2, 2], [1, 0], [1, 3], [4, 2], [3, 0], [3, 3], [0, 1], [2, 4], [1, 2], [0, 4], [2, 1], [3, 2], [4, 1], [4, 4], [0, 0], [1, 1], [0, 3], [2, 0], [1, 4], [2, 3]]}\n"
     ]
    }
   ],
   "source": [
    "maze: SolvedMaze = dataset[0]\n",
    "\n",
    "print(maze.as_ascii())\n",
    "\n",
    "print(maze.generation_meta)\n",
    "\n",
    "lattice_maze: LatticeMaze = LatticeMaze(\n",
    "\tconnection_list=maze.connection_list,\n",
    "\tgeneration_meta=maze.generation_meta,\n",
    ")"
   ]
  },
  {
   "cell_type": "code",
   "execution_count": 761,
   "metadata": {},
   "outputs": [],
   "source": [
    "N=1000\n",
    "\n",
    "variants: list[SolvedMaze] = [\n",
    "\tSolvedMaze(\n",
    "\t\tconnection_list=lattice_maze.connection_list,\n",
    "\t\tgeneration_meta=lattice_maze.generation_meta,\n",
    "\t\tsolution=lattice_maze.generate_random_path(),\n",
    "\t)\n",
    "\tfor _ in range(N)\n",
    "]\n",
    "variants_dataset = MazeDataset(\n",
    "\tcfg=dataset.cfg,\n",
    "\tmazes=variants,\n",
    ")\n",
    "#plot_dataset_mazes(variants_dataset)"
   ]
  },
  {
   "cell_type": "code",
   "execution_count": 762,
   "metadata": {},
   "outputs": [
    {
     "name": "stdout",
     "output_type": "stream",
     "text": [
      "True\n",
      "True\n",
      "True\n",
      "True\n",
      "True\n",
      "True\n",
      "True\n",
      "True\n",
      "True\n",
      "True\n",
      "True\n",
      "True\n",
      "True\n",
      "True\n",
      "True\n",
      "True\n",
      "True\n",
      "True\n",
      "True\n",
      "True\n",
      "True\n",
      "True\n",
      "True\n",
      "True\n",
      "True\n",
      "True\n",
      "True\n",
      "True\n",
      "True\n",
      "True\n",
      "True\n",
      "True\n",
      "True\n",
      "True\n",
      "True\n",
      "True\n",
      "True\n",
      "True\n",
      "True\n",
      "True\n",
      "True\n",
      "True\n",
      "True\n",
      "True\n",
      "True\n"
     ]
    }
   ],
   "source": [
    "for maze in variants_dataset:\n",
    "    if maze.get_end_pos_tokens()[1] == (0,0):\n",
    "        print('True')\n",
    "        "
   ]
  },
  {
   "cell_type": "code",
   "execution_count": 763,
   "metadata": {},
   "outputs": [
    {
     "data": {
      "text/plain": [
       "(<Figure size 5200x200 with 52 Axes>,\n",
       " array([<Axes: >, <Axes: >, <Axes: >, <Axes: >, <Axes: >, <Axes: >,\n",
       "        <Axes: >, <Axes: >, <Axes: >, <Axes: >, <Axes: >, <Axes: >,\n",
       "        <Axes: >, <Axes: >, <Axes: >, <Axes: >, <Axes: >, <Axes: >,\n",
       "        <Axes: >, <Axes: >, <Axes: >, <Axes: >, <Axes: >, <Axes: >,\n",
       "        <Axes: >, <Axes: >, <Axes: >, <Axes: >, <Axes: >, <Axes: >,\n",
       "        <Axes: >, <Axes: >, <Axes: >, <Axes: >, <Axes: >, <Axes: >,\n",
       "        <Axes: >, <Axes: >, <Axes: >, <Axes: >, <Axes: >, <Axes: >,\n",
       "        <Axes: >, <Axes: >, <Axes: >, <Axes: >, <Axes: >, <Axes: >,\n",
       "        <Axes: >, <Axes: >, <Axes: >, <Axes: >], dtype=object))"
      ]
     },
     "execution_count": 763,
     "metadata": {},
     "output_type": "execute_result"
    },
    {
     "data": {
      "image/png": "iVBORw0KGgoAAAANSUhEUgAAFEUAAACWCAYAAACWCPLhAAAAOXRFWHRTb2Z0d2FyZQBNYXRwbG90bGliIHZlcnNpb24zLjguMiwgaHR0cHM6Ly9tYXRwbG90bGliLm9yZy8g+/7EAAAACXBIWXMAAA9hAAAPYQGoP6dpAAA69UlEQVR4nO3dd5SdVaH/4e9MEiQwSSBAGoIgiBQJTYEEpCNNmvQiRcWG4hX7VQSRIkXwWn7ei0oHFekIRKr0GkB6CSGU9J5Mesj8/kBGhglTkpmcfZLnWcu1mPe8Zb/vJ/uczGTWtmarQYMbAgAAAAAAAAAAAAAAAAAAAAAAAACwhNVWegAAAAAAAAAAAAAAAAAAAAAAAAAAwLLJoogAAAAAAAAAAAAAAAAAAAAAAAAAQEVYFBEAAAAAAAAAAAAAAAAAAAAAAAAAqAiLIgIAAAAAAAAAAAAAAAAAAAAAAAAAFWFRRAAAAAAAAAAAAAAAAAAAAAAAAACgIiyKCAAAAAAAAAAAAAAAAAAAAAAAAABUhEURAQAAAAAAAAAAAAAAAAAAAAAAAICKsCgiAAAAAAAAAAAAAAAAAAAAAAAAAFARFkUEAAAAAAAAAAAAAAAAAAAAAAAAACqia6UHAAAAAAAAAAAAAPBep515dpLkJz/6fuO2XiutlK9+7fh8YuAm6dmzZ/54wf/mphuuX6xr9OzZMycc/9XFHS4AAAAAAAAAAACwGCyKCAAAAAAAAAAAQLHW32CDbLrZFrnphusyY8aMTrnGgQcfkjffeCOPPPxQh5/7ggsvSd++fZttH3LLzfn9737Tode64eYhC91+6cUX5pq/XdX49daDt8mnP71d1l1vvay80sqZMGFCHnv0kVz1lys77Rl3hC8e95VstvkW+cufr8jkyZMz7JWXKzKODTbcKL8455dJkiMPOzjTp01rfK2tz/YTGw/M6b84+wOvcfmlF+dvf/1LkncWb9x44MCF7jd//vwcsO9nG7/u1q1b9tnvc9lxp53Sp0/f1NfX58UXX8ifr7g8b77x+mLdNwAAAAAAAAAAAHQWiyICAAAAAAAAAABQrPU32DCHHXFk7rrj9k5cFPHQPPjA/Z2yKGKSDH91WK6/7tom20aNfKtTrvXkE0Nz9113vu/6rzb5+vhvnJBJkyblnrvvyvhx4/ORtdbKXnvvnS0+9amceMI3Mnfu3E4Z2+IauMkmeeSRh3P9tddUbAw1NTX58le/llmzZqV79+7NXm/rs33zzTdy3rnNF0Xccceds9kWW+TJJ55o3Pa3v/45t9/WdMHL5T+0fL7+zRPy1JNPNNl+4vd+kC232jq3/ePWDB/2anqv0jt77rV3zv7leTnh61/L+PHjOuIxAAAAAAAAAAAAQIeyKCIAAAAAAAAAAAB0ookTJ+aeu+9aItcaNXJkq9c668zT8+wzTzfZ9uqwV/Jf3/lett9hp2YL8JWiV6+VMqO+vqJj2G33PbLqqqvl9n8MyT777d/s9bY+26lTpiy006GHHZGRI9/KsFdebtz2r6eebLbf9jvulCRNztF7lVUyeJttc901V+fiC//YuP35557NaWeenUHbbJMbr7+unXcMAAAAAAAAAAAAnc+iiAAAAAAAAAAAABTp0MOPzGFHHJkk+cNFlzRuP+7YozNu3Nhsv+NO2We//bPGGmtm7ty5eeqJobn4wj9mwoQJjfv2HzAgRx3zhWyw4YZZccW6TJs2NS8891z+329/nZkzZ+aGm99ZpG7nXXbNzrvsmiS5847b8+vzf9ni2AZv++kcfsSR6duvf0aPGpUrL780W249KJ/YeGC+/IWjm+3ftWvXdOnSJXPmzGnXMzjtzLPTs2fPnPOLM/KVrx+f9db7eOrr63PTjdfnumuuXugxyy23XBoaGjJv3ryFvv7+RfuS5OGHHkySfHiNNVodU9euXXPwoYdli09tmf79B6RLly55ddiw/PmKS/PM083P3ZrP7L5HPnfgQende5W8PmJELvrTBU1e32mXXfOtb38nSbLX3vtkr733SZLsu9fu6dKlSw48+NDssONOWXW11TJ79uy89eab+cuVly90McGFWWONNdv0bOvq6nLE54/OlVdcll69VlrouRbn2X5svfUyYPXVc+Xll7U65u223yGzZs3KIw8/1Lite/fuSZIpUyY32XfSpElJkrnt/LMHAAAAAAAAAAAAS4pFEQEAAAAAAAAAACjSQw8+kAGrr57td9gxf7zgfzNt2rQkydSpU3LQIYfm8COPygP33Zvb/zEkvXr1yl5775Mzzjo33z7h+MyYMSNdu3bNKT8/Pd26dsvNN92YyZMnZ5VVVsknP7VVVlyxLjNnzsx5556db5zwX3nl5ZfyjyG3JknGjB7d4ri2+NSW+d4PfpTXR4zIZZdclLq6unzjW9/OxIkTFrr/wIGb5Kprb0iXLl0yduzY3Hj9tfn7jTe0+TnU1dXl5FNPy0MPPpD777s3g7fZNsd84Ut5fcSIPDH08Sb77rTLrtljr8+mtrY2b77xeq76y59z7z3/bPUaK628cpI0PuOWdF9hhez6md1z7z3/zO1Dbk337itkl8/slpNPPT3fO/FbeW348Dbf2y6f2S3Hf/NbeeH553LTDdenX79++fFPT8n06dMzYfw7z/O5Z5/JeeeenRO/+/08+cTQ3H3XnY3HH3bEkTngoENy+21D8spLL6f7Citk3Y99LOusu26bFkVsz7M94vNHZ/LkyfnHrbfk4EMPb/M9tvXZbr/DTkmSe/55V4v79ezZK5tutnnuv+/eJotsjhk9OhPGj8+++x+QkW+9leGvvpreq/TO0cd+KWPGjM59997T5jEDAAAAAAAAAADAkmRRRAAAAAAAAAAAAIr0+ojXMvzVYdl+hx3zyEMPZdy4sUmS1Vbrk8OO+HyuuOySXH3VXxv3f+jBB3L+r3+XPfb6bK6+6q9ZY801069f/5x1xml58IH7G/f765+vbPzve+6+K187/psZM2ZM7rm75cXo3nXU0cdm0sSJ+eH3Tszs2bOTJP966qmccdY5GTt2bLN7uPW5ZzNy5Fvp0aNndt5l1xz3la+l9yqr5NKLLmzT9VZZddWcf+45+efd7ywGeMdt/8gfLro0u35mtyYL973w/HO5/757M27s2PTu3Tt7fHbvfOf7P8wKK66YIbfc3OI1Djjw4Lz99tt58IH7Wh3PjPr6HPeFozN//vzGbbf949b87v/+kL323je//Z/z23RfXbp0yeePOibDXx2Wn/zoB43ne+ONN/KNE/6rcVHEsWPGZOyYMTnxu9/PqJEjm3Ta4lNbZujjj+X//ebXbbrm+7X12X5krbWz2x575tSTT8qCBQvadY22PNva2tpsu912efmlF1tdlHPb7bZL165dm/15ffvtt/OLM36e73zvh/nJyT9r3D7slZfzg++emBkzZrRr3AAAAAAAAAAAALCk1FZ6AAAAAAAAAAAAANAeg7bZJjU1Nbn/vnvTo2fPxv9Nnjw5o0eNzMYDN0mSxkXgNtt8iyz3oQ91yLV79+6dtdZeO3ffdUfjgohJ8tyzz2TEa6812//0U0/JdddcnUcffjh33n5b/vsH38sTQx/Pvvt9Lqussmqbrjlr5szGRfuSZP78+Xnl5ZfSt1//Jvv98Hvfyd9vvCGPPvJwhtx6S77zrW9mxIjX8vmjj8lyyy33geffbvsdsutuu+f6667J6FGjWh3PggULGhcwrKmpSV1dXWq7dMmwV17JOuus06Z7SpJ1P7ZeVlp55Qy55ZYmCyzedcftqa+vb9M5ZtTPyJprfiT9Bwxo83Xfq63P9rivfC1DH38sTz35RLvO39ZnO3CTTbPyyr1zz913t3rO7XfYMVOmTFnoWOrr6/Pa8Fdz9VV/zek/PyUX/vGC9OnTN9//4Y/TrVu3do0dAAAAAAAAAAAAlpSulR4AAAAAAAAAAAAAtEf/AQNSW1ub//vjRQt9ff78t5Mk48aOzfXXXpP9PndAtt9hxzz/3HN59JGH88+778zMmTNbvEbXrl1T16NHk23Tpk7Nan36JslCF7gbPXpUPrrOuq2O/8brr8vmW3wynxg4MPfcfVeWW265rLDiik32mTJ5cuN/T5g4odk56uvrs9Zaa7d4nfnz5+eWm27K1795QtZZ92N54fnnmu2z4UYb5Rvf+naeGPp4Lr/k4iav9ezZK7Vd/vP/vTx71qzGhSB33HmX7Lf/AVn9wx9ustjemDGjWxzTe/Xp0ydJMmrUyCbb33777YwdM6ZN57jy8kvz45+enP/9w4UZMeK1PDl0aO6+6868PuKdBSo74tlu++ntsv4GG+SEr3+1bTf2by092/fbfocd8/bbb+e+++5pcb++/fpl/Q02zN9vuiELFixo8toKK6yQM88+N9ddc3VuuO7axu3DXnklZ5x1Tnbe9TMZcsvN7boHAAAAAAAAAAAAWBIsiggAAAAAAAAAAEBVqa2pzYIFC3LqySc1WxguSWbNmtX43xf96Q+5647bs+XWg7LZ5pvnS1/5ag44+OB8/8RvZ+JCFsR71/obbJjTf3F2k23HHXt0h4x/wvjxSZIede8surjtdtvnW9/+TpN99t1r98b/XvB283tMktTUtH6tCf++1vsWeEyStdZeOz/+6Sl54/XXc9YZpzV7luf+6tfp27dv49d/vuLy/OXKy7P9jjvlv078bh5+8IFcd83VmTp1ShYsWJADDjo4/foPaHVMHen5557NV754bLbaelA23XyL7Lrbbtlnv/3z+9/+JrffNqRDnu0xX/hSHrz/vsyfPz99/r0o5or/Xmhx1VVXS7euXTNp0qQmh7f2bN9rueWWy9aDB+dfTz2ZqVOmtHi/222/Y5LknrvvbvbaoG22zcor986jjzzcZPtzzz6TGTNmZIMNN7IoIgAAAAAAAAAAAEWyKCIAAAAAAAAAAADFamhoaLZtzOjRqa2tzdgxYzJq1MhWz/H66yPy+usj8re//jnrb7BBzjr3/Oy+51654rJL3r1Is2Nee214fvrjHzXZNnnypMyfPy9J0n9A88X/+rdxQcC+/folSaZOm5okeXLo0GbX6iiN15o6tcn2fv365+RTT8/UKVNz6sknZfbs2c2OPe+cs/KhD32o8esxY0YnSQZvs21Gjx6VM0//eZP9DzviyHaNbdy4cUmSAQNWzzNP/6txe5cuXdK3X9+8Nvy1Np2nvr4+d95xe+684/Ysv/zyOeOsc3PoEUfk9tuGdMizXa1Pn2zfZ6dsv+NOzV771W9+l+HDX823v3l847a2PNv32nKrrbPCCisudKHD99t+hx0yetSovPzSi81eW2mllZMktbW1zV6rra1Nl4VsBwAAAAAAAAAAgBJYFBEAAAAAAAAAAIBizfn3gnIr1q2YvLOGXh568IF8/phjc+jhR+S8c89udkyPHj0yffr0dO++QubMmZ0FCxY0vvb6iBF5++23061bt8Zts+fMzoorrtjkHDPq6/Ovp55sdu5JkyZlxIjXsuNOu+Tqq/7auODdRp/YOGutvXbGjh3buG9dXV1mzpzZ5PpdunTJAQcdknnz5jYuBDh58qRMnjypvY+miZ49e2XatKYLH3bv3j377Lt/pk6dkleHvdK4faWVV84pp52ehgULcspJP2523LtefOH5hW5/935qamoaF61c7+Mfz8fX3yDjx49v85iHvfJypkyZkt333DN33nFb5s+fnyTZaZddU1fXo03neLf1u2bPnp3Ro0dl1dVWTdIxz/aMn/+s2bZPb7d9Pr39Djn/3HMyceJ/7rmtz/a9ttthx8yePTsPP/RAi/ut/dF1ssaaH8lf/3zFQl8fNfKtf49th/zlyssbt2+59dbp3r17hg9/tdWxAAAAAAAAAAAAQCVYFBEAAAAAAAAAAIBiDRs2LEly5FHH5L577snbb8/Po488nCsuuyRHHfOF9OnbN4889FBmzZqZPv36ZetBg3PbkFtz/bXXZOAmm+TLX/t6Hrz/vowcOTJdunTJDjvunAULFuTBB+5vvMarw4Zlk003yz77fS6TJ03M2LFj8vJLL33gmC6/5OL890kn5xfnnJc777gtdXV12fOz+2TEiNfSffnujfttufWgHHzIYXnwgfsydszY1PXoke122CFrrbV2Lr34okyZPLnDntOen907Ww0alMceeSTjx49L7969s/Ouu2W11VbLr355TuOCg0ly8qmnpX//Abnm6quywUYbZYONNmp8bcrkyQtdDPK9Hn/0kQzeZtv86Cc/zeOPPZq+fftl9z33zJtvvJHlu3dv8dj3evvtt3PFZZfk+G9+Kz8/46zcf9896du3X3beddeMHj2qTef47e8vyLPPPJ1hw15J/fT6rPuxj2XwNtvmlr/f1OZxtOaRhx9qtm3tj66TJBk69LFMnzatcXt7n21dXV023+KTeejBBxoX2Pwg2++4Y5LknrvvXujrjz36SF4fMSKHHHZ4+vTpk5defDH9BwzInp/dO5MmTsztt/2jbTcMAAAAAAAAAAAAS5hFEQEAAAAAAAAAACjWsFdezuWXXpLd99wzm22+Rbp06ZLjjj061/ztqowcOTL77Lt/Djn8iCTJhAnj89QTT+TRhx9Okrz22vA8+cQT+dSWW2e3VVbJnDlzMuK14Tn15JPy8ksvNl7jwj9ckK9/84Qc+fmj8qHll8+dd9ze4qKIjz36SH559i9y6BFH5qhjvpBRo0bm1+f/MjvtvEvW+MhHGvd7fcRrefPNN7L9jjulV69emT9vfoYPH56zzjw9D95/X4c+pxeefy7rb7BBdt1t9/To0SNz5szOKy+9nN/86rw88/S/muz70X8v6HfAgQc3O88zTz/d6qKId95xe1ZauXd22+OdJm++8UbOO/ecbLPtp/OJjQe2a9y3Dbk1tbW12f+AA3PMF76U10eMyOmnnpLDjzy6Tcf//aYbsuVWW2fTzTdPt67dMm78uFxx2SW57pqr2zWOjtLeZ7vNttulW7duufefC1/o8F01NTX59HbbZ9iwVzJy5FsL3Wf+/Pn50Q++m0MOPTyf/NSW+fT2O2TWrJl55OGHctklFzVZvBEAAAAAAAAAAABKUrPVoMENlR4EAAAAAAAAAAAAVLvzf/O7TJs6NSf/5L8rPRQAAAAAAAAAAACAqlFb6QEAAAAAAAAAAABANenSpUtqa5v++t0nNh6Yj350nTz7zNMVGhUAAAAAAAAAAABAdepa6QEAAAAAAAAAAABANVlllVVz6uln5p9335VJkybmwx9eI7vvsWcmTZqUIbfcXOnhFaGuri5du3X7wNcXvL0g06ZNXYIjAgAAAAAAAAAAAEplUUQAAAAAAAAAAABoh/r66Xl12CvZdbfd0qtXr8yePSePP/5YLr3owkyfPr3SwyvCD3/802w8cOAHvj527Nh8+QtHL8ERAQAAAAAAAAAAAKWq2WrQ4IZKDwIAAAAAAAAAAABYeqyz7rqpq+vxga/PmTMnL77w/BIcEQAAAAAAAAAAAFCqrpUeAAAAAAAAAAAAALB0eXXYsEoPAQAAAAAAAAAAAKgStZUeAAAAAAAAAAAAAAAAAAAAAAAAAACwbLIoIgAAAAAAAAAAACwlLrjwkpzw7e802dZ/wICc8vPTc+VV1+SGm4dkq60HteucJ51yao7/5rc6cphJFj7Whdlpl11zw81D0qdP3w4fw5Jw1DHH5pzzflXpYQAAAAAAAAAAAECxulZ6AAAAAAAAAAAAAEDn+a8Tv5s+ffvl8ksvzowZMzLslVfafOz6G2yYzTbfIl//ypc6cYTV6YILL0nfvs0Xahxyy835/e9+0/j1jTdcn7333T9bbrV1Hn3k4SU5RAAAAAAAAAAAAKgKFkUEAAAAAAAAAACApdRyyy2X9TfYMFf95c+55e83tfv4/Q84ME8/9VTGjB7d4WP7+pe/lIaGBR1+3iVp+KvDcv111zbZNmrkW02+njJ5ch59+KHs97kDLIoIAAAAAAAAAAAAC2FRRAAAAAAAAAAAAFhK9ezVK0kyY0Z9u4/t1atXPvmpLfP73/2mQ8e03HLLZe7cuZk/f16HnrcSJk6cmHvuvqvV/e6/7958/0c/Tt9+/TJ2zJglMDIAAAAAAAAAAACoHhZFBAAAAAAAAAAAgA/wiY0H5tgvfilrfmStTJw4IdddfXVW7t07hx1xZPbda/fG/bbfcafss9/+WWONNTN37tw89cTQXHzhHzNhwoTGfU478+z07Nkz5/zijHzl68dnvfU+nvr6+tx04/W57pqr2z22gw45LLvvuWd61PXIyy+/lP/7/f9r8vqhhx+Zw444Mkly7BePy7FfPC5jx47Nl79wdLp3757DjzwqWw0anN69V86MGTMz4rXhueSiCzP81WFJkk9+ast07do1/3ryyWbX/shaa+fLX/1aPrbexzN9+rQMueWWTJo4ISd8+zs57tijM27c2CTJBRdekjdeH5Gbb7oxRx51dNb8yFq59OILc9MN1+eCCy/Js888nV+f/8vG866x5kfy5a9+LR9ff4P/nHfSxHY/m3fv/StfOjYHH3p4ttp6UGpqavLwgw/kf3//u8ydM6fd5/wgXbt2TZcuXTKnhXP+66l3nuFWWw/Kjddf12HXBgAAAAAAAAAAgKWBRREBAAAAAAAAAABgIdb+6Do5+dTTMnnSpPz5istSW1ubQw47PFOnTW2y30GHHJrDjzwqD9x3b27/x5D06tUre+29T84469x8+4TjM2PGjMZ96+rqcvKpp+WhBx/I/ffdm8HbbJtjvvClvD5iRJ4Y+nibx3b4kUflkMMOz+OPPZqhjz2Wj667bn7289PTtdt/fi3woQcfyIwZ9fnSl7+ae/55d4Y+/lhmz5qVJPna8d/M4G23zc033ZQ333wjPXr0yIYbfSJrrLFG46KI62+wYaZNnZrx48c1uXbvVVbJaWeelTQ05Jq//TWzZ8/Orrvtnnnz5i10rKuv/uF85/s/zD9uvSW3DRmSkSPfWuh+K628ck4786x06dIl1/ztqsyZMzuf2X2PzJ0zt83P5f2+/8MfZ+zYMbnskouyzjrr5jO775EpU6fk0osubNxnhRVWSJeurf865by5czN79uwm2wYO3CRXXXtDunTpkrFjx+bG66/N32+8odmxM2fOzJjRo7PBBhtaFBEAAAAAAAAAAADex6KIAAAAAAAAAAAAsBCHH/n5LFiwID/83omZNGlSkuT+++7N7/73D437rLZanxx2xOdzxWWX5Oqr/tq4/aEHH8j5v/5d9tjrs022r7Lqqjn/3HPyz7vvTJLccds/8oeLLs2un9mtzYsi9uzZK5878MA89ugjOe1nJzduP/Koo3PQIYc1fv36iNcya+bMfOnLX83wV4flnrvvanxti09tmduGDMlFf/rPvVx3zdVNrrP6h9fIuHFjm13/gAMPTl1dXU781jfy2vDhSZI7b78tv//Dhc32TZIBq6+eU076cZ58YmiL93XAgQdlpZVWyne/fUJeefnlJMldd9yR3//hTy0e15Lhw1/Nb//n/Mave/TsmV133a3Jooj/fdIp2XjgwFbPdecdt+fX5/+y8evXR7yWW597NiNHvpUePXpm5112zXFf+Vp6r7JKk/O/a+yYMVljzTUX+V4AAAAAAAAAAABgaWVRRAAAAAAAAAAAAHif2trabLLJpnn4oQcbF0RMkjGjR+eJoY9ny622TpIM2mab1NTU5P777k2Pnj0b95s8eXJGjxqZjQdu0mRRxFkzZzYuiJgk8+fPzysvv5S+/fq3eWybbLZZunVbLjffdGOT7Tdef32TRRFbMmPGjKz38fXTu3fvJvf3Xj179sjEiRObbd9siy3y0osvNC6ImCT19fW5959357P77Nts/zFjRre6IGKSbPHJLfPiCy80LoiYJNOmTc29/7w7e35277bcVjNDbrm5ydfPP/dsBg3eJt27r5BZs2YmSS760wWpq+vR6rkmve9ZnH7qKU2+vvP223Lyqadl3/0+l5tvvDETJ05o8np9/fSsvc467b8JAAAAAAAAAAAAWMpZFBEAAAAAAAAAAADep1evlfKh5ZfP6NGjmr02etR/tvUfMCC1tbX5vz9etNDzzJ//dpOvJ7xvobzknQUF11pr7TaPrU+fPkmSUaNGNtk+bdrUTJ8+vU3nuOTCP+ZbJ343f7z4srw6bFiGPv5Y7r7rjowdM6bJfjU1NQu9/ksvvNBs+3ufy3u9/5wfZLU+ffLySy822z7yrbfadPzCjB8/rsnX9fX1SZK6urrGRRFfHTZskc//fjdef1023+KT+cTAgbnn7ruavFZTU5M0NHTYtQAAAAAAAAAAAGBpYVFEAAAAAAAAAAAAWES1NbVZsGBBTj35pCxYsKDZ67NmzWry9YK3m++TJFnI4oOd6YH778vzzz2XrQcPzqabbZ79DzgwnzvwoPzi9J/niaGPJ0mmTZueFevqFvtac+fOXexzLKqFNUmaLvZYV1eXrt26tXquuXPmZObMmS3uM2H8+CRJj7oezV5bsa4u06ZNa/U6AAAAAAAAAAAAsKyxKCIAAAAAAAAAAAC8z9SpUzJnzpz07z+g2Wv9B/xn25jRo1NbW5uxY8Zk1KiRS2Rs48aNS5IMGLB6xo4Z07i9Z89e6dGj+WJ8H2Ty5Em59ea/59ab/55evXrlvF//Ngcdcljjoogj33ozg7bZdqHXf+8zeNfCtrXH+HHj0n/A6s22r/7hDy/WeVvzwx//NBsPHNjqfnfecXt+ff4vW9ynb79+SZKp06Y2f61vv4x4bfiiDRIAAAAAAAAAAACWYhZFBAAAAAAAAAAAgPdZsGBB/vXUk9lq0OD07t07kyZNSpL0698/m2/xycb9HnrwgXz+mGNz6OFH5Lxzz252nh49emT69OkdOrZ/Pflk5s2bl7323idPPjG0cfs+++3XpuNra2uz/PLLZ+bMmY3bpk6dmkkTJ6Vbt26N21588YV8Zvc90rdfvyaLLz75xNDsudfeWfujH81rw99Z5K+uri7b7bDjYt3X0McfzT77fS4fW2+9vPLyy0neWehxcc/bmov+dEHq6lpfTHLSxImN/11XV5eZM2dmwYIFjdu6dOmSAw46JPPmzc0zT/+rybErrLBC+vXvn1tvubnjBg4AAAAAAAAAAABLCYsiAgAAAAAAAAAAwEL85crLs9nmm+cX55yXW2/5e2pru2Svz+6dN14fkY+us26SZMyY0bniskty1DFfSJ++ffPIQw9l1qyZ6dOvX7YeNDi3Dbk11197TYeOa9q0qbn+2mty0CGH5qRTTs3Qxx7LR9dZJ5tv8clMnTql1eO7d++eP11yeR584P6MeG14Zs2alU033Szrffzj+dMfLmjc7/HHHs38+fOzyaab5bYhtzZuv+7qv2WHHXfKz047IzffdGNmz56dXXfbPRPGj0vPnj3T0NCwSPd17dVXZ4cdd87Jp56em264PnPmzM5ndt8j48eNS11d3SKdsy1eHTas3cdsufWgHHzIYXnwgfsydszY1PXoke122CFrrbV2Lr34okyZPLnJ/ptsullqa2vz6MMPddSwAQAAAAAAAAAAYKlhUUQAAAAAAAAAAABYiFeHDcvPfnpSjv3icTni80dlwvgJufKKy/LhNdbI6h9eo3G/a/52VUaOHJl99t0/hxx+RJJkwoTxeeqJJ/Loww93ytiuuOySzJs3N7vvsVc23nhgXn75pZx80o9z0imntnrsnDlzcuvNf8+mm2+eQYMHp6amNqNHj8rvf/ebDLnl5sb9pk6ZkqGPP5ZtP71dk0URJ0yYkJ/86Ac57itfy4EHH5ppU6fmlptvyuzZs/PlddbN3HlzF+meJk+e9M55v/r1HHDQwZk+fVqG3HJLJk2amBP+68RFOmdneX3Ea3nzzTey/Y47pVevXpk/b36GDx+es848PQ/ef1+z/bfZ9tN57tlnM2bM6AqMFgAAAAAAAAAAAMpWs9WgwYv2f8kMAAAAAAAAAAAAy6Af/eSnWXPNj+RrX/5ipYfS6TbcaKOcdubZOf6rx2X0qFEt7vvF476S3fbYM4ceuH8WLFiwhEZYvpVWXjkX/OninHv2mZ22SCYAAAAAAAAAAABUs9pKDwAAAAAAAAAAAABKtdxyyzX5uv+AAdnik5/Ks888XaERLVnPP/dcnnryiXzugIOabH//c+nRo0d22GnnvPD8cxZEfJ999t0vr48YYUFEAAAAAAAAAAAA+AA1Ww0a3FDpQQAAAAAAAAAAAECJLrrsytx1x+0ZM2Z0+vTpm9333CvdunXLt084PqNHjerw6/Xs2Su1XT74/+94/rx5qa+v7/Drttf5v/ldnn366bz15ptZaeWVsstndkvv3qvkpP/+YZ5/7tlOu+7yyy+f5bt3b3GfaVOnWpgRAAAAAAAAAAAAqkjXSg8AAAAAAAAAAAAASvXk0Mfz6e13yMorr5x58+blpRdfyGWXXNwpCyImybm/+nX69u37ga8/8/TT+cmPvt8p126PoY89lsHbbpvddt8jDUleHTYsv/2fX3XqgohJst/nDsxhRxzZ4j7HHXt0xo0b26njAAAAAAAAAAAAADpOzVaDBjdUehAAAAAAAAAAAABAsv4GG+ZDH/rQB75eXz89rw4btgRHVJa+/fqlX7/+Le7z/HPPZt68eUtoRAAAAAAAAAAAAMDisigiAAAAAAAAAAAAAAAAAAAAAAAAAFARtZUeAAAAAAAAAAAAAAAAAAAAAAAAAACwbLIoIgAAAAAAAAAAAAAAAAAAAAAAAABQERZFBAAAAAAAAAAAAAAAAAAAAAAAAAAqomtbd+zde5XMmjWrM8eyzOnevXsmTZq4SMfq0bG0KIseZdGjLHqUQ4uy6FEWPcqhRVn0KIseZdGjHFqURY+y6FEOLcqiR1n0KIse5dCiLHqURY9yaFEWPcqiRzkWp0WiR0czN8qiR1n0KIcWZdGjLHqUQ4uy6FEWPcqiRzm0KIseZdGjHFqURY+y6FEWPcqhRVn0KIse5dCiLHqURY+y6FEOLcrSlh5tWhSxd+9VctFlV3TIoGjq2M8f0e5Jo0fn0KIsepRFj7LoUQ4tyqJHWfQohxZl0aMsepRFj3JoURY9yqJHObQoix5l0aMsepRDi7LoURY9yqFFWfQoix7lWJQWiR6dxdwoix5l0aMcWpRFj7LoUQ4tyqJHWfQoix7l0KIsepRFj3JoURY9yqJHWfQohxZl0aMsepRDi7LoURY9yqJHObQoS2s92rQo4rurVW660cdTX1/fMSNbxtXV1eWp515apJVA9ehYWpRFj7LoURY9yqFFWfQoix7l0KIsepRFj7LoUQ4tyqJHWfQohxZl0aMsepRFj3JoURY9yqJHObQoix5l0aMci9Mi0aOjmRtl0aMsepRDi7LoURY9yqFFWfQoix5l0aMcWpRFj7LoUQ4tyqJHWfQoix7l0KIsepRFj3JoURY9yqJHWfQohxZlaWuPNi2K+K76+vrUT5++WAOj4+hRDi3KokdZ9CiLHuXQoix6lEWPcmhRFj3KokdZ9CiHFmXRoyx6lEOLsuhRFj3Kokc5tCiLHmXRoxxalEWPsuhRFj3KoUVZ9CiLHuXQoix6lEWPcmhRFj3KokdZ9CiHFmXRoyx6lEOLsuhRFj3Kokc5tCiLHmXRoxxalEWPsuhRFj3KocWSV1vpAQAAAAAAAAAAAAAAAAAAAAAAAAAAyyaLIgIAAAAAAAAAAAAAAAAAAAAAAAAAFWFRRAAAAAAAAAAAAAAAAAAAAAAAAACgIiyKCAAAAAAAAAAAAAAAAAAAAAAAAABUhEURAQAAAAAAAAAAAAAAAAAAAAAAAICK6NpRJ2poaOioUxWlpqamxddbuu/Wju1MerT/2M6iRfuP7Ux6tP/YzqRH+4/tTHq0/9jOUskWnXvLrZy8pduu3NSo3h4NrRzcWo4C50ZS4R4tPLSGFv8At+HcVfhe1fKcrVynxf0jUpUt4nN8UY7tTHq0/9jOpEf7j+0sWrT/2M6kR/uP7Ux6tP/YzqJF+4/tTHq0/9jOVLU/I2n97C2/7GdWzfgZSVNVOzf8/LCqVOPcSPRYlGM7S9W+V7V+9hZfLbFF4nN8UY7tTObHQo5cRnt0pmqcH+bGQo40NzpcNc6NRI9FObazLKvvVX5etWRV49xIfN+xKMd2FnOj/cd2rjJ7+J23Jc/3Hc15v2r/sZ1Fi/Yf25n0aP+xnclnx0KOrML3qpa+Z3hnh0U/t79XLV30aD+/R9Kc+dH+YzuLFu0/tjPp0f5jO5PPjoUc6r2qQ5kb7effOpqr2veq1s/e4qt6LFnVOD+0aP+xbVG72GcAAAAAAAAAAAAAAAAAAAAAAAAAAFgEFkUEAAAAAAAAAAAAAAAAAAAAAAAAACrCoogAAAAAAAAAAAAAAAAAAAAAAAAAQEVYFBEAAAAAAAAAAAAAAAAAAAAAAAAAqAiLIgIAAAAAAAAAAAAAAAAAAAAAAAAAFWFRRAAAAAAAAAAAAAAAAAAAAAAAAACgIrouiYvU1NR06vkbGhoW+dotHbu00qMcWpRFj7LoURY9ytHZLZKWnmdr117MFjWLc+3KKLlHQys9agp9poujkj1ae55L43tVS3/GOv/Pl8+N9vA5XhY9yqJHObQoix5l0aMcWpRFj7KU/DMSP7PqDH5G0lYlzw0/P+x4PjvaR49ylPxetdif41XI53hZzI+y+Owoh7lRFnOjLHqUY6l+r/LzqmbMjfbxfUc5zI3S+J23kizVn+VVyPtVObQoix5l8dlRjsVvsejP09xozntVWUp+r/J7JB3P/Gg7LcqiR1l8dpTD3CiLf+soS8nvVcva9+SJ96uSaLHoais9AAAAAAAAAAAAAAAAAAAAAAAAAABg2WRRRAAAAAAAAAAAAAAAAAAAAAAAAACgIiyKCAAAAAAAAAAAAAAAAAAAAAAAAABUhEURAQAAAAAAAAAAAAAAAAAAAAAAAICKsCgiAAAAAAAAAAAAAAAAAAAAAAAAAFARFkUEAAAAAAAAAAAAAAAAAAAAAAAAACrCoogAAAAAAAAAAAAAAAAAAAAAAAAAQEV0XRIXaWhoWKzja2pqOmgk7be4Yy+RHuXQoix6lKWze9Sk83rp0Zz50XGquUWydLVIqrvH0jY3Ej1KokVZ9CiLHmXRoxxalEWPsuhRDi3KokdZqrmHn1k1Z350HC3KokdZ/FtgOYqeGw0tn7vB53gz3qs6VtE9zI92Mz86TjW3aO17wM78O0RnqeYeS9vcSPQoSTW38POq5syNjqVHOfx8pDSt3FMr34dV8q+SS2OPan6v8n1Hcz47Oo4WZdGjLNXcY2n77KjmFuZGc3p0LD3Kokc5tCiLHmXRoxxalEWPshTdw+9YtZt/f+o4Rc+NVlS6RW1Frw4AAAAAAAAAAAAAAAAAAAAAAAAALLMsiggAAAAAAAAAAAAAAAAAAAAAAAAAVIRFEQEAAAAAAAAAAAAAAAAAAAAAAACAirAoIgAAAAAAAAAAAAAAAAAAAAAAAABQERZFBAAAAAAAAAAAAAAAAAAAAAAAAAAqwqKIAAAAAAAAAAAAAAAAAAAAAAAAAEBFWBQRAAAAAAAAAAAAAAAAAAAAAAAAAKiIrh11opqamo461RJVreNuTbXeV7WOuyXVek/VOu7WVOt9Veu4W1PR+6ppaOnFlg/VoyjVOu6WVO89Veu4W1atPap13K2p1vuq1nG3pFrvqVrH3Zpqva9qHXdrqvW+qnXcranW+6rWcbekWu+pWsfdmmq9r2odd2uq9b6qddwtqdZ7qtZxt6Za76tax92a6r2vah13y6q1R7WOuyXVek/VOu7WVOt9Veu4W+PfAstRtffUyrBrqvRzvlp7VOu4W1O192V+FKVax92S6r2nxRx3obddrT2qddytqdb7qtZxt6R676lax92yau1RreNuTbXeV7WOuyV+PlKaxbivSqZcSntU7335vqMk1TrullTrPVXruFtTrfdVreNuTfXe19L32VGtLap13K2p1vuq1nG3plrvq1rH3Zpqva9qHXdLqvWeqnXcranW+6rWcbemWu+rWsfdkmq9p2odd2uq9b6qddytqdr78jtWnXBx//70XtV6T6WPu7bSAwAAAAAAAAAAAAAAAAAAAAAAAAAAlk0WRQQAAAAAAAAAAAAAAAAAAAAAAAAAKsKiiAAAAAAAAAAAAAAAAAAAAAAAAABARVgUEQAAAAAAAAAAAAAAAAAAAAAAAACoCIsiAgAAAAAAAAAAAAAAAAAAAAAAAAAVYVFEAAAAAAAAAAAAAAAAAAAAAAAAAKAiLIoIAAAAAAAAAAAAAAAAAAAAAAAAAFRE1446UUOLL7b4akU1dOLYampqOu3crdGjuUr1aOmOaloutdgW55aXxhaJubEwpfbo7PmxOJbFHubHkmVuNFfq3NBjydOjOe9V7bM0tkh8ji+MHu23LPbo9O/Ls+j3vTT2qNa50eofk5rFGXuVzo2Glsfd0Ilza2mcG0n1zo+lsUe1tvBe1fH8fL053wc2p0f7LY09tGhuWZ0bPjuaMz+a817VPktji0SPhdGj/ZbFHiV/X7409jA3mit1bvh57pLn+47mvFe1z9LYIvE5vjCl9jA/liwtmjM32k+PsiyLPXyWL1nLaosWf9euclNjme3RklLfq3x2LFlaNLeszg0/r2rO/Giuanv4+XqH8veq5kqdG3oseT47mvNe1T7L4vfk5saSp0dzerTf0thjWf3saElHtKjtgHEAAAAAAAAAAAAAAAAAAAAAAAAAALSbRREBAAAAAAAAAAAAAAAAAAAAAAAAgIqwKCIAAAAAAAAAAAAAAAAAAAAAAAAAUBEWRQQAAAAAAAAAAAAAAAAAAAAAAAAAKsKiiAAAAAAAAAAAAAAAAAAAAAAAAABARVgUEQAAAAAAAAAAAAAAAAAAAAAAAACoiK4ddaKaNLTwYk1HXWahGhpauHYrahZzbItz7c6kR0FaGlMnt0hLfw5asVS2iLlRnArOj5aeSWuXXlp7mB8FMTfKokdZ9CiHFkXxOV4WPQpTyferFv4s1KTlay+NPap1brSSqg07lNciyeLNjVZfbnkH71XNVev8WBp7VGsL71WdcvFFPnJpnBtJfB9YGj3KoUVZfHaUxfwohxZl0aMsehSlWr8vXyp7mBtl8fPcsvi+oxzeq4ric7ww5kc5tCiLHmXRoyg+y8uxrLZo+fudzv5eq6UrL5s9SpwbSXx2lESLsvh5VVnMj7L4+Xox/L2qLHoUxmdHMZbVuVHq9+TmRmH0KIsexVhWPzs6u0Vtp54dAAAAAAAAAAAAAAAAAAAAAAAAAOADWBQRAAAAAAAAAAAAAAAAAAAAAAAAAKgIiyICAAAAAAAAAAAAAAAAAAAAAAAAABVhUUQAAAAAAAAAAAAAAAAAAAAAAAAAoCIsiggAAAAAAAAAAAAAAAAAAAAAAAAAVIRFEQEAAAAAAAAAAAAAAAAAAAAAAACAirAoIgAAAAAAAAAAAAAAAAAAAAAAAABQEV0rPYAkaWhoKPbcNTU1HTSS6qFHQVp7XDWL/jyX2RYNLYy7lVsyN8qiR1n0KIcWZdGjLHqUQ4uy6FEWPcqiRzm0KIsencDPrJYKWpRl8Z9Zi2dv5eKtPO9lL4f5URg9yqFFWXx2lMX8KIcWZdGjLHqURY9yaFEWPcqy2M+shW8OGlr9hdNWzr2M9TA3ylLNPVqal9WqmnssbbQoix5l0aMsepRDi7LoURY9yqFFWfy8qizmR1n0KIcWZdGjLHqUQ4uy6FEWPcqiRzm0+GC1Fb06AAAAAAAAAAAAAAAAAAAAAAAAALDMsigiAAAAAAAAAAAAAAAAAAAAAAAAAFARFkUEAAAAAAAAAAAAAAAAAAAAAAAAACrCoogAAAAAAAAAAAAAAAAAAAAAAAAAQEVYFBEAAAAAAAAAAAAAAAAAAAAAAAAAqAiLIgIAAAAAAAAAAAAAAAAAAAAAAAAAFWFRRAAAAAAAAAAAAAAAAAAAAAAAAACgIrpWegBJUlNTU+kh8B56FKTVFIvealnN3JCGD3ytppXnaW6URY+y6FEOLcqiR1n0KIcWZdGjLHqURY9yaFEWPTqen1ktHbQoS0V7+KPQjPlRFj3KoUVZfHaUxfwohxZl0aMsepRFj3JoURY9ytKZPVr7WTJNmRtlqeoeNR/8bzzV+g1/VfdYymhRFj3KokdZ9CiHFmXRoyx6lEOLsvh5VVnMj7LoUQ4tyqJHWfQohxZl0aMsepRFj3Jo8cFqKz0AAAAAAAAAAAAAAAAAAAAAAAAAAGDZZFFEAAAAAAAAAAAAAAAAAAAAAAAAAKAiLIoIAAAAAAAAAAAAAAAAAAAAAAAAAFSERREBAAAAAAAAAAAAAAAAAAAAAAAAgIqwKCIAAAAAAAAAAAAAAAAAAAAAAAAAUBEWRQQAAAAAAAAAAAAAAAAAAAAAAAAAKsKiiAAAAAAAAAAAAAAAAAAAAAAAAABARXRdMpdpWDKXqYCa1FR6CIugk3s0fPAzaViK/ywsioYGz6MkepRFj9K00qOF9/53jtazo5gbZdGjLHqUQ4vS+Bwvy9L7PKvxZyTer0qiRUnMjbLoURItSmJulEWPsuhRDi3KokdZ9CiHFmXRoyx6lGbp7VFtP183N8qiR1n0KIcWpdGjJOZHObQoix5l0aM0S2+PavuefGluUZ38fm5JfHaUQ4uy6FEWPcqiR0msfVEWf88tifeqkmhREnOjLHqURY+SFNyi8L/T1Vb06gAAAAAAAAAAAAAAAAAAAAAAAADAMsuiiAAAAAAAAAAAAAAAAAAAAAAAAABARVgUEQAAAAAAAAAAAAAAAAAAAAAAAACoCIsiAgAAAAAAAAAAAAAAAAAAAAAAAAAVYVFEAAAAAAAAAAAAAAAAAAAAAAAAAKAiLIoIAAAAAAAAAAAAAAAAAAAAAAAAAFRE1447VU3HnaqaFHvbFRxYC5euKfeBdZqammXvnkumR1n0KM1i9Gjl0GXx/X9xmBtl0aMsepRDi9L4HC/LMvrMCr1t71cl0aIk5kZZ9CiJFiUxN8qiR1n0KIcWZdGjLHqUQ4uy6FEWPUqzjPYo8LbNjbLoURY9yqFFafQoiflRDi3KokdZ9CjNMtqjyNsuclDLML+fWxKfHeXQoix6lEWPsuhREmtflMXfc0vivaokWpTE3CiLHmXRoyRV2qLwv9PVVvTqAAAAAAAAAAAAAAAAAAAAAAAAAMAyy6KIAAAAAAAAAAAAAAAAAAAAAAAAAEBFWBQRAAAAAAAAAAAAAAAAAAAAAAAAAKgIiyICAAAAAAAAAAAAAAAAAAAAAAAAABVhUUQAAAAAAAAAAAAAAAAAAAAAAAAAoCIsiggAAAAAAAAAAAAAAAAAAAAAAAAAVETX9uxcV1fXWeNY5nTEs9SjY2hRFj3KokdZ9CiHFmXRoyx6lEOLsuhRFj3Kokc5tCiLHmXRoxxalEWPsuhRFj3KoUVZ9CiLHuXQoix6lEWPcnTUc9SjY5gbZdGjLHqUQ4uy6FEWPcqhRVn0KIseZdGjHFqURY+y6FEOLcqiR1n0KIse5dCiLHqURY9yaFEWPcqiR1n0KIcWZWnrs2zToojdu3dPkjz13EuLPiIWqnv37pk1a2a7j0n06GhalEWPsuhRFj3KoUVZ9CiLHuXQoix6lEWPsuhRDi3KokdZ9CiHFmXRoyx6lEWPcmhRFj3Kokc5tCiLHmXRoxyL0uLd4xI9Opq5URY9yqJHObQoix5l0aMcWpRFj7LoURY9yqFFWfQoix7l0KIsepRFj7LoUQ4tyqJHWfQohxZl0aMsepRFj3JoUZbWetRsNWhwQ1tO1Lv3Kpk1a1aHDYx34kyaNHGRjtWjY2lRFj3KokdZ9CiHFmXRoyx6lEOLsuhRFj3Kokc5tCiLHmXRoxxalEWPsuhRFj3KoUVZ9CiLHuXQoix6lEWPcixOi0SPjmZulEWPsuhRDi3KokdZ9CiHFmXRoyx6lEWPcmhRFj3Kokc5tCiLHmXRoyx6lEOLsuhRFj3KoUVZ9CiLHmXRoxxalKUtPdq8KCIAAAAAAAAAAAAAAAAAAAAAAAAAQEeqrfQAAAAAAAAAAAAAAAAAAAAAAAAAAIBlk0URAQAAAAAAAAAAAAAAAAAAAAAAAICKsCgiAAAAAAAAAAAAAAAAAAAAAAAAAFARFkUEAAAAAAAAAAAAAAAAAAAAAAAAACrCoogAAAAAAAAAAAAAAAAAAAAAAAAAQEVYFBEAAAAAAAAAAAAAAAAAAAAAAAAAqAiLIgIAAAAAAAAAAAAAAAAAAAAAAAAAFfH/AeE7GIzvxH+BAAAAAElFTkSuQmCC",
      "text/plain": [
       "<Figure size 5200x200 with 52 Axes>"
      ]
     },
     "metadata": {},
     "output_type": "display_data"
    }
   ],
   "source": [
    "termination_pos = (2,0)\n",
    "\n",
    "dataset_filtered: MazeDataset = variants_dataset.custom_maze_filter(\n",
    "\tlambda m : m.get_end_pos_tokens()[1] == termination_pos\n",
    ")\n",
    "\n",
    "plot_dataset_mazes(dataset_filtered)"
   ]
  },
  {
   "cell_type": "code",
   "execution_count": 764,
   "metadata": {},
   "outputs": [
    {
     "data": {
      "text/plain": [
       "(<Figure size 56000x200 with 560 Axes>,\n",
       " array([<Axes: >, <Axes: >, <Axes: >, <Axes: >, <Axes: >, <Axes: >,\n",
       "        <Axes: >, <Axes: >, <Axes: >, <Axes: >, <Axes: >, <Axes: >,\n",
       "        <Axes: >, <Axes: >, <Axes: >, <Axes: >, <Axes: >, <Axes: >,\n",
       "        <Axes: >, <Axes: >, <Axes: >, <Axes: >, <Axes: >, <Axes: >,\n",
       "        <Axes: >, <Axes: >, <Axes: >, <Axes: >, <Axes: >, <Axes: >,\n",
       "        <Axes: >, <Axes: >, <Axes: >, <Axes: >, <Axes: >, <Axes: >,\n",
       "        <Axes: >, <Axes: >, <Axes: >, <Axes: >, <Axes: >, <Axes: >,\n",
       "        <Axes: >, <Axes: >, <Axes: >, <Axes: >, <Axes: >, <Axes: >,\n",
       "        <Axes: >, <Axes: >, <Axes: >, <Axes: >, <Axes: >, <Axes: >,\n",
       "        <Axes: >, <Axes: >, <Axes: >, <Axes: >, <Axes: >, <Axes: >,\n",
       "        <Axes: >, <Axes: >, <Axes: >, <Axes: >, <Axes: >, <Axes: >,\n",
       "        <Axes: >, <Axes: >, <Axes: >, <Axes: >, <Axes: >, <Axes: >,\n",
       "        <Axes: >, <Axes: >, <Axes: >, <Axes: >, <Axes: >, <Axes: >,\n",
       "        <Axes: >, <Axes: >, <Axes: >, <Axes: >, <Axes: >, <Axes: >,\n",
       "        <Axes: >, <Axes: >, <Axes: >, <Axes: >, <Axes: >, <Axes: >,\n",
       "        <Axes: >, <Axes: >, <Axes: >, <Axes: >, <Axes: >, <Axes: >,\n",
       "        <Axes: >, <Axes: >, <Axes: >, <Axes: >, <Axes: >, <Axes: >,\n",
       "        <Axes: >, <Axes: >, <Axes: >, <Axes: >, <Axes: >, <Axes: >,\n",
       "        <Axes: >, <Axes: >, <Axes: >, <Axes: >, <Axes: >, <Axes: >,\n",
       "        <Axes: >, <Axes: >, <Axes: >, <Axes: >, <Axes: >, <Axes: >,\n",
       "        <Axes: >, <Axes: >, <Axes: >, <Axes: >, <Axes: >, <Axes: >,\n",
       "        <Axes: >, <Axes: >, <Axes: >, <Axes: >, <Axes: >, <Axes: >,\n",
       "        <Axes: >, <Axes: >, <Axes: >, <Axes: >, <Axes: >, <Axes: >,\n",
       "        <Axes: >, <Axes: >, <Axes: >, <Axes: >, <Axes: >, <Axes: >,\n",
       "        <Axes: >, <Axes: >, <Axes: >, <Axes: >, <Axes: >, <Axes: >,\n",
       "        <Axes: >, <Axes: >, <Axes: >, <Axes: >, <Axes: >, <Axes: >,\n",
       "        <Axes: >, <Axes: >, <Axes: >, <Axes: >, <Axes: >, <Axes: >,\n",
       "        <Axes: >, <Axes: >, <Axes: >, <Axes: >, <Axes: >, <Axes: >,\n",
       "        <Axes: >, <Axes: >, <Axes: >, <Axes: >, <Axes: >, <Axes: >,\n",
       "        <Axes: >, <Axes: >, <Axes: >, <Axes: >, <Axes: >, <Axes: >,\n",
       "        <Axes: >, <Axes: >, <Axes: >, <Axes: >, <Axes: >, <Axes: >,\n",
       "        <Axes: >, <Axes: >, <Axes: >, <Axes: >, <Axes: >, <Axes: >,\n",
       "        <Axes: >, <Axes: >, <Axes: >, <Axes: >, <Axes: >, <Axes: >,\n",
       "        <Axes: >, <Axes: >, <Axes: >, <Axes: >, <Axes: >, <Axes: >,\n",
       "        <Axes: >, <Axes: >, <Axes: >, <Axes: >, <Axes: >, <Axes: >,\n",
       "        <Axes: >, <Axes: >, <Axes: >, <Axes: >, <Axes: >, <Axes: >,\n",
       "        <Axes: >, <Axes: >, <Axes: >, <Axes: >, <Axes: >, <Axes: >,\n",
       "        <Axes: >, <Axes: >, <Axes: >, <Axes: >, <Axes: >, <Axes: >,\n",
       "        <Axes: >, <Axes: >, <Axes: >, <Axes: >, <Axes: >, <Axes: >,\n",
       "        <Axes: >, <Axes: >, <Axes: >, <Axes: >, <Axes: >, <Axes: >,\n",
       "        <Axes: >, <Axes: >, <Axes: >, <Axes: >, <Axes: >, <Axes: >,\n",
       "        <Axes: >, <Axes: >, <Axes: >, <Axes: >, <Axes: >, <Axes: >,\n",
       "        <Axes: >, <Axes: >, <Axes: >, <Axes: >, <Axes: >, <Axes: >,\n",
       "        <Axes: >, <Axes: >, <Axes: >, <Axes: >, <Axes: >, <Axes: >,\n",
       "        <Axes: >, <Axes: >, <Axes: >, <Axes: >, <Axes: >, <Axes: >,\n",
       "        <Axes: >, <Axes: >, <Axes: >, <Axes: >, <Axes: >, <Axes: >,\n",
       "        <Axes: >, <Axes: >, <Axes: >, <Axes: >, <Axes: >, <Axes: >,\n",
       "        <Axes: >, <Axes: >, <Axes: >, <Axes: >, <Axes: >, <Axes: >,\n",
       "        <Axes: >, <Axes: >, <Axes: >, <Axes: >, <Axes: >, <Axes: >,\n",
       "        <Axes: >, <Axes: >, <Axes: >, <Axes: >, <Axes: >, <Axes: >,\n",
       "        <Axes: >, <Axes: >, <Axes: >, <Axes: >, <Axes: >, <Axes: >,\n",
       "        <Axes: >, <Axes: >, <Axes: >, <Axes: >, <Axes: >, <Axes: >,\n",
       "        <Axes: >, <Axes: >, <Axes: >, <Axes: >, <Axes: >, <Axes: >,\n",
       "        <Axes: >, <Axes: >, <Axes: >, <Axes: >, <Axes: >, <Axes: >,\n",
       "        <Axes: >, <Axes: >, <Axes: >, <Axes: >, <Axes: >, <Axes: >,\n",
       "        <Axes: >, <Axes: >, <Axes: >, <Axes: >, <Axes: >, <Axes: >,\n",
       "        <Axes: >, <Axes: >, <Axes: >, <Axes: >, <Axes: >, <Axes: >,\n",
       "        <Axes: >, <Axes: >, <Axes: >, <Axes: >, <Axes: >, <Axes: >,\n",
       "        <Axes: >, <Axes: >, <Axes: >, <Axes: >, <Axes: >, <Axes: >,\n",
       "        <Axes: >, <Axes: >, <Axes: >, <Axes: >, <Axes: >, <Axes: >,\n",
       "        <Axes: >, <Axes: >, <Axes: >, <Axes: >, <Axes: >, <Axes: >,\n",
       "        <Axes: >, <Axes: >, <Axes: >, <Axes: >, <Axes: >, <Axes: >,\n",
       "        <Axes: >, <Axes: >, <Axes: >, <Axes: >, <Axes: >, <Axes: >,\n",
       "        <Axes: >, <Axes: >, <Axes: >, <Axes: >, <Axes: >, <Axes: >,\n",
       "        <Axes: >, <Axes: >, <Axes: >, <Axes: >, <Axes: >, <Axes: >,\n",
       "        <Axes: >, <Axes: >, <Axes: >, <Axes: >, <Axes: >, <Axes: >,\n",
       "        <Axes: >, <Axes: >, <Axes: >, <Axes: >, <Axes: >, <Axes: >,\n",
       "        <Axes: >, <Axes: >, <Axes: >, <Axes: >, <Axes: >, <Axes: >,\n",
       "        <Axes: >, <Axes: >, <Axes: >, <Axes: >, <Axes: >, <Axes: >,\n",
       "        <Axes: >, <Axes: >, <Axes: >, <Axes: >, <Axes: >, <Axes: >,\n",
       "        <Axes: >, <Axes: >, <Axes: >, <Axes: >, <Axes: >, <Axes: >,\n",
       "        <Axes: >, <Axes: >, <Axes: >, <Axes: >, <Axes: >, <Axes: >,\n",
       "        <Axes: >, <Axes: >, <Axes: >, <Axes: >, <Axes: >, <Axes: >,\n",
       "        <Axes: >, <Axes: >, <Axes: >, <Axes: >, <Axes: >, <Axes: >,\n",
       "        <Axes: >, <Axes: >, <Axes: >, <Axes: >, <Axes: >, <Axes: >,\n",
       "        <Axes: >, <Axes: >, <Axes: >, <Axes: >, <Axes: >, <Axes: >,\n",
       "        <Axes: >, <Axes: >, <Axes: >, <Axes: >, <Axes: >, <Axes: >,\n",
       "        <Axes: >, <Axes: >, <Axes: >, <Axes: >, <Axes: >, <Axes: >,\n",
       "        <Axes: >, <Axes: >, <Axes: >, <Axes: >, <Axes: >, <Axes: >,\n",
       "        <Axes: >, <Axes: >, <Axes: >, <Axes: >, <Axes: >, <Axes: >,\n",
       "        <Axes: >, <Axes: >, <Axes: >, <Axes: >, <Axes: >, <Axes: >,\n",
       "        <Axes: >, <Axes: >, <Axes: >, <Axes: >, <Axes: >, <Axes: >,\n",
       "        <Axes: >, <Axes: >, <Axes: >, <Axes: >, <Axes: >, <Axes: >,\n",
       "        <Axes: >, <Axes: >, <Axes: >, <Axes: >, <Axes: >, <Axes: >,\n",
       "        <Axes: >, <Axes: >, <Axes: >, <Axes: >, <Axes: >, <Axes: >,\n",
       "        <Axes: >, <Axes: >, <Axes: >, <Axes: >, <Axes: >, <Axes: >,\n",
       "        <Axes: >, <Axes: >, <Axes: >, <Axes: >, <Axes: >, <Axes: >,\n",
       "        <Axes: >, <Axes: >, <Axes: >, <Axes: >, <Axes: >, <Axes: >,\n",
       "        <Axes: >, <Axes: >, <Axes: >, <Axes: >, <Axes: >, <Axes: >,\n",
       "        <Axes: >, <Axes: >, <Axes: >, <Axes: >, <Axes: >, <Axes: >,\n",
       "        <Axes: >, <Axes: >, <Axes: >, <Axes: >, <Axes: >, <Axes: >,\n",
       "        <Axes: >, <Axes: >, <Axes: >, <Axes: >, <Axes: >, <Axes: >,\n",
       "        <Axes: >, <Axes: >, <Axes: >, <Axes: >, <Axes: >, <Axes: >,\n",
       "        <Axes: >, <Axes: >], dtype=object))"
      ]
     },
     "execution_count": 764,
     "metadata": {},
     "output_type": "execute_result"
    },
    {
     "data": {
      "image/png": "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",
      "text/plain": [
       "<Figure size 56000x200 with 560 Axes>"
      ]
     },
     "metadata": {},
     "output_type": "display_data"
    }
   ],
   "source": [
    "dataset_test: MazeDataset = variants_dataset.custom_maze_filter(\n",
    "\tlambda m : termination_pos in m.get_solution_tokens()\n",
    ")\n",
    "\n",
    "plot_dataset_mazes(dataset_test)\n"
   ]
  },
  {
   "cell_type": "code",
   "execution_count": 765,
=======
   "execution_count": 38,
>>>>>>> e7f9d2a41d56855ee095970487d402844c82cb3d
   "metadata": {},
   "outputs": [
    {
     "name": "stdout",
     "output_type": "stream",
     "text": [
      "                           name | dtype         | shape         | type         | device | min         | max          | mean        \n",
      "-----------------------------------------------------------------------------------------------------------------------------------\n",
      "                     hook_embed | torch.float32 | [1, 1, 512]   | torch.Tensor | mps:0  | -0.349501   | 0.29528      | -4.65661e-10\n",
      "                 hook_pos_embed | torch.float32 | [1, 1, 512]   | torch.Tensor | mps:0  | -0.584992   | 0.55508      | 1.45519e-10 \n",
      "        blocks.0.hook_resid_pre | torch.float32 | [1, 1, 512]   | torch.Tensor | mps:0  | -0.569752   | 0.466368     | 4.65661e-10 \n",
      "        blocks.0.ln1.hook_scale | torch.float32 | [1, 1, 1]     | torch.Tensor | mps:0  | 0.111033    | 0.111033     | 0.111033    \n",
      "   blocks.0.ln1.hook_normalized | torch.float32 | [1, 1, 512]   | torch.Tensor | mps:0  | -5.13136    | 4.20025      | 0           \n",
      "           blocks.0.attn.hook_q | torch.float32 | [1, 1, 8, 64] | torch.Tensor | mps:0  | -0.964979   | 0.961927     | 0.0198438   \n",
      "           blocks.0.attn.hook_k | torch.float32 | [1, 1, 8, 64] | torch.Tensor | mps:0  | -1.02782    | 1.12468      | 0.0102032   \n",
      "           blocks.0.attn.hook_v | torch.float32 | [1, 1, 8, 64] | torch.Tensor | mps:0  | -0.982949   | 0.563126     | -0.00196182 \n",
      " blocks.0.attn.hook_attn_scores | torch.float32 | [1, 8, 1, 1]  | torch.Tensor | mps:0  | -0.872341   | 1.85188      | 0.364644    \n",
      "     blocks.0.attn.hook_pattern | torch.float32 | [1, 8, 1, 1]  | torch.Tensor | mps:0  | 1           | 1            | 1           \n",
      "           blocks.0.attn.hook_z | torch.float32 | [1, 1, 8, 64] | torch.Tensor | mps:0  | -0.982949   | 0.563126     | -0.00196182 \n",
      "         blocks.0.hook_attn_out | torch.float32 | [1, 1, 512]   | torch.Tensor | mps:0  | -1.2093     | 1.13175      | -4.65661e-10\n",
      "        blocks.0.hook_resid_mid | torch.float32 | [1, 1, 512]   | torch.Tensor | mps:0  | -1.23523    | 1.14583      | -4.65661e-10\n",
      "        blocks.0.ln2.hook_scale | torch.float32 | [1, 1, 1]     | torch.Tensor | mps:0  | 0.327142    | 0.327142     | 0.327142    \n",
      "   blocks.0.ln2.hook_normalized | torch.float32 | [1, 1, 512]   | torch.Tensor | mps:0  | -3.77584    | 3.50256      | -5.58794e-09\n",
      "          blocks.0.mlp.hook_pre | torch.float32 | [1, 1, 2048]  | torch.Tensor | mps:0  | -5.04426    | 1.99733      | -4.23546    \n",
      "         blocks.0.mlp.hook_post | torch.float32 | [1, 1, 2048]  | torch.Tensor | mps:0  | -0.169701   | 1.9516       | 0.00223961  \n",
      "          blocks.0.hook_mlp_out | torch.float32 | [1, 1, 512]   | torch.Tensor | mps:0  | -6.36408    | 9.02963      | -1.76951e-08\n",
      "       blocks.0.hook_resid_post | torch.float32 | [1, 1, 512]   | torch.Tensor | mps:0  | -7.19666    | 9.94227      | -1.30385e-08\n",
      "        blocks.1.hook_resid_pre | torch.float32 | [1, 1, 512]   | torch.Tensor | mps:0  | -7.19666    | 9.94227      | -1.30385e-08\n",
      "        blocks.1.ln1.hook_scale | torch.float32 | [1, 1, 1]     | torch.Tensor | mps:0  | 1.42754     | 1.42754      | 1.42754     \n",
      "   blocks.1.ln1.hook_normalized | torch.float32 | [1, 1, 512]   | torch.Tensor | mps:0  | -5.04129    | 6.9646       | -1.02445e-08\n",
      "           blocks.1.attn.hook_q | torch.float32 | [1, 1, 8, 64] | torch.Tensor | mps:0  | -0.232043   | 0.231565     | -0.00574368 \n",
      "           blocks.1.attn.hook_k | torch.float32 | [1, 1, 8, 64] | torch.Tensor | mps:0  | -0.0296567  | 0.0305773    | 0.000846011 \n",
      "           blocks.1.attn.hook_v | torch.float32 | [1, 1, 8, 64] | torch.Tensor | mps:0  | -0.0375842  | 0.0366193    | -0.000505293\n",
      " blocks.1.attn.hook_attn_scores | torch.float32 | [1, 8, 1, 1]  | torch.Tensor | mps:0  | -0.0321496  | -0.0168632   | -0.0258334  \n",
      "     blocks.1.attn.hook_pattern | torch.float32 | [1, 8, 1, 1]  | torch.Tensor | mps:0  | 1           | 1            | 1           \n",
      "           blocks.1.attn.hook_z | torch.float32 | [1, 1, 8, 64] | torch.Tensor | mps:0  | -0.0375842  | 0.0366193    | -0.000505293\n",
      "         blocks.1.hook_attn_out | torch.float32 | [1, 1, 512]   | torch.Tensor | mps:0  | -0.287083   | 0.173667     | -1.16415e-10\n",
      "        blocks.1.hook_resid_mid | torch.float32 | [1, 1, 512]   | torch.Tensor | mps:0  | -7.31901    | 10.0859      | -7.45058e-09\n",
      "        blocks.1.ln2.hook_scale | torch.float32 | [1, 1, 1]     | torch.Tensor | mps:0  | 1.43502     | 1.43502      | 1.43502     \n",
      "   blocks.1.ln2.hook_normalized | torch.float32 | [1, 1, 512]   | torch.Tensor | mps:0  | -5.10027    | 7.02839      | -6.51926e-09\n",
      "          blocks.1.mlp.hook_pre | torch.float32 | [1, 1, 2048]  | torch.Tensor | mps:0  | -4.13213    | -0.0394454   | -3.78531    \n",
      "         blocks.1.mlp.hook_post | torch.float32 | [1, 1, 2048]  | torch.Tensor | mps:0  | -0.169806   | -7.41345e-05 | -0.00956731 \n",
      "          blocks.1.hook_mlp_out | torch.float32 | [1, 1, 512]   | torch.Tensor | mps:0  | -1.80061    | 1.19157      | -2.09548e-09\n",
      "       blocks.1.hook_resid_post | torch.float32 | [1, 1, 512]   | torch.Tensor | mps:0  | -6.95129    | 9.62353      | -1.67638e-08\n",
      "        blocks.2.hook_resid_pre | torch.float32 | [1, 1, 512]   | torch.Tensor | mps:0  | -6.95129    | 9.62353      | -1.67638e-08\n",
      "        blocks.2.ln1.hook_scale | torch.float32 | [1, 1, 1]     | torch.Tensor | mps:0  | 1.42739     | 1.42739      | 1.42739     \n",
      "   blocks.2.ln1.hook_normalized | torch.float32 | [1, 1, 512]   | torch.Tensor | mps:0  | -4.86993    | 6.74204      | -9.31323e-09\n",
      "           blocks.2.attn.hook_q | torch.float32 | [1, 1, 8, 64] | torch.Tensor | mps:0  | -0.589701   | 0.589701     | -0.00672151 \n",
      "           blocks.2.attn.hook_k | torch.float32 | [1, 1, 8, 64] | torch.Tensor | mps:0  | -0.376594   | 0.400855     | -0.0084222  \n",
      "           blocks.2.attn.hook_v | torch.float32 | [1, 1, 8, 64] | torch.Tensor | mps:0  | -0.423213   | 0.336947     | -0.00410004 \n",
      " blocks.2.attn.hook_attn_scores | torch.float32 | [1, 8, 1, 1]  | torch.Tensor | mps:0  | -0.566586   | 0.579646     | -0.142438   \n",
      "     blocks.2.attn.hook_pattern | torch.float32 | [1, 8, 1, 1]  | torch.Tensor | mps:0  | 1           | 1            | 1           \n",
      "           blocks.2.attn.hook_z | torch.float32 | [1, 1, 8, 64] | torch.Tensor | mps:0  | -0.423213   | 0.336947     | -0.00410004 \n",
      "         blocks.2.hook_attn_out | torch.float32 | [1, 1, 512]   | torch.Tensor | mps:0  | -2.03024    | 2.01952      | -2.32831e-09\n",
      "        blocks.2.hook_resid_mid | torch.float32 | [1, 1, 512]   | torch.Tensor | mps:0  | -7.2772     | 10.3736      | -1.76951e-08\n",
      "        blocks.2.ln2.hook_scale | torch.float32 | [1, 1, 1]     | torch.Tensor | mps:0  | 1.47998     | 1.47998      | 1.47998     \n",
      "   blocks.2.ln2.hook_normalized | torch.float32 | [1, 1, 512]   | torch.Tensor | mps:0  | -4.9171     | 7.0093       | -9.77889e-09\n",
      "          blocks.2.mlp.hook_pre | torch.float32 | [1, 1, 2048]  | torch.Tensor | mps:0  | -5.70065    | 1.74434      | -4.8945     \n",
      "         blocks.2.mlp.hook_post | torch.float32 | [1, 1, 2048]  | torch.Tensor | mps:0  | -0.169963   | 1.67361      | -0.00406477 \n",
      "          blocks.2.hook_mlp_out | torch.float32 | [1, 1, 512]   | torch.Tensor | mps:0  | -1.27805    | 0.803428     | 2.79397e-09 \n",
      "       blocks.2.hook_resid_post | torch.float32 | [1, 1, 512]   | torch.Tensor | mps:0  | -7.87681    | 11.1581      | -1.67638e-08\n",
      "        blocks.3.hook_resid_pre | torch.float32 | [1, 1, 512]   | torch.Tensor | mps:0  | -7.87681    | 11.1581      | -1.67638e-08\n",
      "        blocks.3.ln1.hook_scale | torch.float32 | [1, 1, 1]     | torch.Tensor | mps:0  | 1.5156      | 1.5156       | 1.5156      \n",
      "   blocks.3.ln1.hook_normalized | torch.float32 | [1, 1, 512]   | torch.Tensor | mps:0  | -5.19715    | 7.36218      | -5.58794e-09\n",
      "           blocks.3.attn.hook_q | torch.float32 | [1, 1, 8, 64] | torch.Tensor | mps:0  | -0.295207   | 0.27408      | 0.00927848  \n",
      "           blocks.3.attn.hook_k | torch.float32 | [1, 1, 8, 64] | torch.Tensor | mps:0  | -0.323106   | 0.32851      | 0.00468693  \n",
      "           blocks.3.attn.hook_v | torch.float32 | [1, 1, 8, 64] | torch.Tensor | mps:0  | -0.213452   | 0.186487     | 0.0015179   \n",
      " blocks.3.attn.hook_attn_scores | torch.float32 | [1, 8, 1, 1]  | torch.Tensor | mps:0  | -0.233737   | 0.0663339    | -0.00508129 \n",
      "     blocks.3.attn.hook_pattern | torch.float32 | [1, 8, 1, 1]  | torch.Tensor | mps:0  | 1           | 1            | 1           \n",
      "           blocks.3.attn.hook_z | torch.float32 | [1, 1, 8, 64] | torch.Tensor | mps:0  | -0.213452   | 0.186487     | 0.0015179   \n",
      "         blocks.3.hook_attn_out | torch.float32 | [1, 1, 512]   | torch.Tensor | mps:0  | -0.687039   | 1.24441      | -8.14907e-10\n",
      "        blocks.3.hook_resid_mid | torch.float32 | [1, 1, 512]   | torch.Tensor | mps:0  | -8.06247    | 11.2426      | -1.76951e-08\n",
      "        blocks.3.ln2.hook_scale | torch.float32 | [1, 1, 1]     | torch.Tensor | mps:0  | 1.53891     | 1.53891      | 1.53891     \n",
      "   blocks.3.ln2.hook_normalized | torch.float32 | [1, 1, 512]   | torch.Tensor | mps:0  | -5.23909    | 7.30556      | -6.98492e-09\n",
      "          blocks.3.mlp.hook_pre | torch.float32 | [1, 1, 2048]  | torch.Tensor | mps:0  | -4.92879    | 0.0510274    | -4.35625    \n",
      "         blocks.3.mlp.hook_post | torch.float32 | [1, 1, 2048]  | torch.Tensor | mps:0  | -0.169826   | 0.026552     | -0.00864659 \n",
      "          blocks.3.hook_mlp_out | torch.float32 | [1, 1, 512]   | torch.Tensor | mps:0  | -2.20501    | 1.29584      | -3.72529e-09\n",
      "       blocks.3.hook_resid_post | torch.float32 | [1, 1, 512]   | torch.Tensor | mps:0  | -7.52199    | 11.0809      | -2.32831e-08\n",
      "        blocks.4.hook_resid_pre | torch.float32 | [1, 1, 512]   | torch.Tensor | mps:0  | -7.52199    | 11.0809      | -2.32831e-08\n",
      "        blocks.4.ln1.hook_scale | torch.float32 | [1, 1, 1]     | torch.Tensor | mps:0  | 1.55797     | 1.55797      | 1.55797     \n",
      "   blocks.4.ln1.hook_normalized | torch.float32 | [1, 1, 512]   | torch.Tensor | mps:0  | -4.82808    | 7.11239      | -8.3819e-09 \n",
      "           blocks.4.attn.hook_q | torch.float32 | [1, 1, 8, 64] | torch.Tensor | mps:0  | -0.343034   | 0.343195     | -0.00465865 \n",
      "           blocks.4.attn.hook_k | torch.float32 | [1, 1, 8, 64] | torch.Tensor | mps:0  | -0.168788   | 0.168793     | -0.00102602 \n",
      "           blocks.4.attn.hook_v | torch.float32 | [1, 1, 8, 64] | torch.Tensor | mps:0  | -0.180892   | 0.169868     | 0.000597478 \n",
      " blocks.4.attn.hook_attn_scores | torch.float32 | [1, 8, 1, 1]  | torch.Tensor | mps:0  | -0.112198   | 0.117291     | 0.0102724   \n",
      "     blocks.4.attn.hook_pattern | torch.float32 | [1, 8, 1, 1]  | torch.Tensor | mps:0  | 1           | 1            | 1           \n",
      "           blocks.4.attn.hook_z | torch.float32 | [1, 1, 8, 64] | torch.Tensor | mps:0  | -0.180892   | 0.169868     | 0.000597478 \n",
      "         blocks.4.hook_attn_out | torch.float32 | [1, 1, 512]   | torch.Tensor | mps:0  | -0.353877   | 0.414235     | 4.65661e-10 \n",
      "        blocks.4.hook_resid_mid | torch.float32 | [1, 1, 512]   | torch.Tensor | mps:0  | -7.45787    | 11.1889      | -2.70084e-08\n",
      "        blocks.4.ln2.hook_scale | torch.float32 | [1, 1, 1]     | torch.Tensor | mps:0  | 1.57483     | 1.57483      | 1.57483     \n",
      "   blocks.4.ln2.hook_normalized | torch.float32 | [1, 1, 512]   | torch.Tensor | mps:0  | -4.73566    | 7.10484      | -4.65661e-09\n",
      "          blocks.4.mlp.hook_pre | torch.float32 | [1, 1, 2048]  | torch.Tensor | mps:0  | -5.98692    | -0.456422    | -5.71888    \n",
      "         blocks.4.mlp.hook_post | torch.float32 | [1, 1, 2048]  | torch.Tensor | mps:0  | -0.169941   | -0           | -0.00324643 \n",
      "          blocks.4.hook_mlp_out | torch.float32 | [1, 1, 512]   | torch.Tensor | mps:0  | -0.630275   | 0.656786     | -6.98492e-10\n",
      "       blocks.4.hook_resid_post | torch.float32 | [1, 1, 512]   | torch.Tensor | mps:0  | -7.21001    | 10.8365      | -2.8871e-08 \n",
      "        blocks.5.hook_resid_pre | torch.float32 | [1, 1, 512]   | torch.Tensor | mps:0  | -7.21001    | 10.8365      | -2.8871e-08 \n",
      "        blocks.5.ln1.hook_scale | torch.float32 | [1, 1, 1]     | torch.Tensor | mps:0  | 1.56928     | 1.56928      | 1.56928     \n",
      "   blocks.5.ln1.hook_normalized | torch.float32 | [1, 1, 512]   | torch.Tensor | mps:0  | -4.59446    | 6.90537      | -8.3819e-09 \n",
      "           blocks.5.attn.hook_q | torch.float32 | [1, 1, 8, 64] | torch.Tensor | mps:0  | -0.205148   | 0.203951     | 0.00215155  \n",
      "           blocks.5.attn.hook_k | torch.float32 | [1, 1, 8, 64] | torch.Tensor | mps:0  | -0.112281   | 0.11238      | 0.0015684   \n",
      "           blocks.5.attn.hook_v | torch.float32 | [1, 1, 8, 64] | torch.Tensor | mps:0  | -0.19421    | 0.193552     | 0.000551291 \n",
      " blocks.5.attn.hook_attn_scores | torch.float32 | [1, 8, 1, 1]  | torch.Tensor | mps:0  | -0.0116035  | 0.055066     | 0.0201024   \n",
      "     blocks.5.attn.hook_pattern | torch.float32 | [1, 8, 1, 1]  | torch.Tensor | mps:0  | 1           | 1            | 1           \n",
      "           blocks.5.attn.hook_z | torch.float32 | [1, 1, 8, 64] | torch.Tensor | mps:0  | -0.19421    | 0.193552     | 0.000551291 \n",
      "         blocks.5.hook_attn_out | torch.float32 | [1, 1, 512]   | torch.Tensor | mps:0  | -0.794122   | 0.904672     | -3.49246e-10\n",
      "        blocks.5.hook_resid_mid | torch.float32 | [1, 1, 512]   | torch.Tensor | mps:0  | -7.09353    | 10.8779      | -2.98023e-08\n",
      "        blocks.5.ln2.hook_scale | torch.float32 | [1, 1, 1]     | torch.Tensor | mps:0  | 1.5748      | 1.5748       | 1.5748      \n",
      "   blocks.5.ln2.hook_normalized | torch.float32 | [1, 1, 512]   | torch.Tensor | mps:0  | -4.5044     | 6.9075       | -2.32831e-09\n",
      "          blocks.5.mlp.hook_pre | torch.float32 | [1, 1, 2048]  | torch.Tensor | mps:0  | -4.96127    | -0.0990493   | -4.76436    \n",
      "         blocks.5.mlp.hook_post | torch.float32 | [1, 1, 2048]  | torch.Tensor | mps:0  | -0.16988    | -1.61982e-06 | -0.00374351 \n",
      "          blocks.5.hook_mlp_out | torch.float32 | [1, 1, 512]   | torch.Tensor | mps:0  | -0.727293   | 0.814403     | 2.32831e-09 \n",
      "       blocks.5.hook_resid_post | torch.float32 | [1, 1, 512]   | torch.Tensor | mps:0  | -7.17787    | 10.7568      | -1.95578e-08\n",
      "        blocks.6.hook_resid_pre | torch.float32 | [1, 1, 512]   | torch.Tensor | mps:0  | -7.17787    | 10.7568      | -1.95578e-08\n",
      "        blocks.6.ln1.hook_scale | torch.float32 | [1, 1, 1]     | torch.Tensor | mps:0  | 1.56609     | 1.56609      | 1.56609     \n",
      "   blocks.6.ln1.hook_normalized | torch.float32 | [1, 1, 512]   | torch.Tensor | mps:0  | -4.58331    | 6.86856      | -9.77889e-09\n",
      "           blocks.6.attn.hook_q | torch.float32 | [1, 1, 8, 64] | torch.Tensor | mps:0  | -0.767931   | 0.821374     | 0.00413964  \n",
      "           blocks.6.attn.hook_k | torch.float32 | [1, 1, 8, 64] | torch.Tensor | mps:0  | -0.779594   | 0.779538     | -0.00110072 \n",
      "           blocks.6.attn.hook_v | torch.float32 | [1, 1, 8, 64] | torch.Tensor | mps:0  | -0.496195   | 0.496413     | 0.00487688  \n",
      " blocks.6.attn.hook_attn_scores | torch.float32 | [1, 8, 1, 1]  | torch.Tensor | mps:0  | 0.062448    | 1.17938      | 0.479788    \n",
      "     blocks.6.attn.hook_pattern | torch.float32 | [1, 8, 1, 1]  | torch.Tensor | mps:0  | 1           | 1            | 1           \n",
      "           blocks.6.attn.hook_z | torch.float32 | [1, 1, 8, 64] | torch.Tensor | mps:0  | -0.496195   | 0.496413     | 0.00487688  \n",
      "         blocks.6.hook_attn_out | torch.float32 | [1, 1, 512]   | torch.Tensor | mps:0  | -3.10407    | 8.01889      | 0           \n",
      "        blocks.6.hook_resid_mid | torch.float32 | [1, 1, 512]   | torch.Tensor | mps:0  | -7.86293    | 10.9661      | -2.14204e-08\n",
      "        blocks.6.ln2.hook_scale | torch.float32 | [1, 1, 1]     | torch.Tensor | mps:0  | 1.57884     | 1.57884      | 1.57884     \n",
      "   blocks.6.ln2.hook_normalized | torch.float32 | [1, 1, 512]   | torch.Tensor | mps:0  | -4.98019    | 6.94569      | -4.65661e-09\n",
      "          blocks.6.mlp.hook_pre | torch.float32 | [1, 1, 2048]  | torch.Tensor | mps:0  | -4.02234    | 0.326079     | -3.97419    \n",
      "         blocks.6.mlp.hook_post | torch.float32 | [1, 1, 2048]  | torch.Tensor | mps:0  | -0.169959   | 0.204718     | -0.0015023  \n",
      "          blocks.6.hook_mlp_out | torch.float32 | [1, 1, 512]   | torch.Tensor | mps:0  | -0.552463   | 0.637035     | -9.31323e-10\n",
      "       blocks.6.hook_resid_post | torch.float32 | [1, 1, 512]   | torch.Tensor | mps:0  | -7.95376    | 10.9049      | -3.53903e-08\n",
      "        blocks.7.hook_resid_pre | torch.float32 | [1, 1, 512]   | torch.Tensor | mps:0  | -7.95376    | 10.9049      | -3.53903e-08\n",
      "        blocks.7.ln1.hook_scale | torch.float32 | [1, 1, 1]     | torch.Tensor | mps:0  | 1.58246     | 1.58246      | 1.58246     \n",
      "   blocks.7.ln1.hook_normalized | torch.float32 | [1, 1, 512]   | torch.Tensor | mps:0  | -5.02619    | 6.89108      | 1.86265e-09 \n",
      "           blocks.7.attn.hook_q | torch.float32 | [1, 1, 8, 64] | torch.Tensor | mps:0  | -0.327719   | 0.336715     | -0.00115378 \n",
      "           blocks.7.attn.hook_k | torch.float32 | [1, 1, 8, 64] | torch.Tensor | mps:0  | -0.453876   | 0.45411      | -0.00284486 \n",
      "           blocks.7.attn.hook_v | torch.float32 | [1, 1, 8, 64] | torch.Tensor | mps:0  | -0.588733   | 1.09189      | -0.00496302 \n",
      " blocks.7.attn.hook_attn_scores | torch.float32 | [1, 8, 1, 1]  | torch.Tensor | mps:0  | -0.00932871 | 0.294033     | 0.154165    \n",
      "     blocks.7.attn.hook_pattern | torch.float32 | [1, 8, 1, 1]  | torch.Tensor | mps:0  | 1           | 1            | 1           \n",
      "           blocks.7.attn.hook_z | torch.float32 | [1, 1, 8, 64] | torch.Tensor | mps:0  | -0.588733   | 1.09189      | -0.00496302 \n",
      "         blocks.7.hook_attn_out | torch.float32 | [1, 1, 512]   | torch.Tensor | mps:0  | -7.34981    | 14.9113      | -1.86265e-09\n",
      "        blocks.7.hook_resid_mid | torch.float32 | [1, 1, 512]   | torch.Tensor | mps:0  | -10.1375    | 16.3158      | -3.72529e-08\n",
      "        blocks.7.ln2.hook_scale | torch.float32 | [1, 1, 1]     | torch.Tensor | mps:0  | 2.02698     | 2.02698      | 2.02698     \n",
      "   blocks.7.ln2.hook_normalized | torch.float32 | [1, 1, 512]   | torch.Tensor | mps:0  | -5.0013     | 8.04934      | 4.65661e-10 \n",
      "          blocks.7.mlp.hook_pre | torch.float32 | [1, 1, 2048]  | torch.Tensor | mps:0  | -4.42412    | 0.663432     | -4.29204    \n",
      "         blocks.7.mlp.hook_post | torch.float32 | [1, 1, 2048]  | torch.Tensor | mps:0  | -0.169908   | 0.495234     | -0.00102631 \n",
      "          blocks.7.hook_mlp_out | torch.float32 | [1, 1, 512]   | torch.Tensor | mps:0  | -1.0175     | 1.40792      | 3.72529e-09 \n",
      "       blocks.7.hook_resid_post | torch.float32 | [1, 1, 512]   | torch.Tensor | mps:0  | -10.1048    | 16.3884      | -1.95578e-08\n",
      "        blocks.8.hook_resid_pre | torch.float32 | [1, 1, 512]   | torch.Tensor | mps:0  | -10.1048    | 16.3884      | -1.95578e-08\n",
      "        blocks.8.ln1.hook_scale | torch.float32 | [1, 1, 1]     | torch.Tensor | mps:0  | 2.03909     | 2.03909      | 2.03909     \n",
      "   blocks.8.ln1.hook_normalized | torch.float32 | [1, 1, 512]   | torch.Tensor | mps:0  | -4.95555    | 8.03714      | -5.58794e-09\n",
      "           blocks.8.attn.hook_q | torch.float32 | [1, 1, 8, 64] | torch.Tensor | mps:0  | -2.67076    | 2.6109       | 0.0374333   \n",
      "           blocks.8.attn.hook_k | torch.float32 | [1, 1, 8, 64] | torch.Tensor | mps:0  | -4.22188    | 4.24892      | 0.0177241   \n",
      "           blocks.8.attn.hook_v | torch.float32 | [1, 1, 8, 64] | torch.Tensor | mps:0  | -0.255448   | 0.258064     | 0.00213197  \n",
      " blocks.8.attn.hook_attn_scores | torch.float32 | [1, 8, 1, 1]  | torch.Tensor | mps:0  | -0.906215   | 1.55594      | -0.152595   \n",
      "     blocks.8.attn.hook_pattern | torch.float32 | [1, 8, 1, 1]  | torch.Tensor | mps:0  | 1           | 1            | 1           \n",
      "           blocks.8.attn.hook_z | torch.float32 | [1, 1, 8, 64] | torch.Tensor | mps:0  | -0.255448   | 0.258064     | 0.00213197  \n",
      "         blocks.8.hook_attn_out | torch.float32 | [1, 1, 512]   | torch.Tensor | mps:0  | -0.938728   | 1.16972      | -1.86265e-09\n",
      "        blocks.8.hook_resid_mid | torch.float32 | [1, 1, 512]   | torch.Tensor | mps:0  | -10.3065    | 15.5408      | -2.23517e-08\n",
      "        blocks.8.ln2.hook_scale | torch.float32 | [1, 1, 1]     | torch.Tensor | mps:0  | 2.0648      | 2.0648       | 2.0648      \n",
      "   blocks.8.ln2.hook_normalized | torch.float32 | [1, 1, 512]   | torch.Tensor | mps:0  | -4.99152    | 7.52654      | -8.84756e-09\n",
      "          blocks.8.mlp.hook_pre | torch.float32 | [1, 1, 2048]  | torch.Tensor | mps:0  | -7.21044    | -0.341106    | -4.51398    \n",
      "         blocks.8.mlp.hook_post | torch.float32 | [1, 1, 2048]  | torch.Tensor | mps:0  | -0.168701   | -0           | -0.0016205  \n",
      "          blocks.8.hook_mlp_out | torch.float32 | [1, 1, 512]   | torch.Tensor | mps:0  | -0.378265   | 0.485966     | 2.32831e-10 \n",
      "       blocks.8.hook_resid_post | torch.float32 | [1, 1, 512]   | torch.Tensor | mps:0  | -10.4449    | 15.2719      | -2.98023e-08\n",
      "        blocks.9.hook_resid_pre | torch.float32 | [1, 1, 512]   | torch.Tensor | mps:0  | -10.4449    | 15.2719      | -2.98023e-08\n",
      "        blocks.9.ln1.hook_scale | torch.float32 | [1, 1, 1]     | torch.Tensor | mps:0  | 2.06914     | 2.06914      | 2.06914     \n",
      "   blocks.9.ln1.hook_normalized | torch.float32 | [1, 1, 512]   | torch.Tensor | mps:0  | -5.04791    | 7.38078      | -4.19095e-09\n",
      "           blocks.9.attn.hook_q | torch.float32 | [1, 1, 8, 64] | torch.Tensor | mps:0  | -1.49125    | 2.01667      | -0.0320692  \n",
      "           blocks.9.attn.hook_k | torch.float32 | [1, 1, 8, 64] | torch.Tensor | mps:0  | -3.35039    | 2.92211      | -0.0279192  \n",
      "           blocks.9.attn.hook_v | torch.float32 | [1, 1, 8, 64] | torch.Tensor | mps:0  | -0.69456    | 0.853749     | 0.00620846  \n",
      " blocks.9.attn.hook_attn_scores | torch.float32 | [1, 8, 1, 1]  | torch.Tensor | mps:0  | -0.103509   | 2.76621      | 0.775042    \n",
      "     blocks.9.attn.hook_pattern | torch.float32 | [1, 8, 1, 1]  | torch.Tensor | mps:0  | 1           | 1            | 1           \n",
      "           blocks.9.attn.hook_z | torch.float32 | [1, 1, 8, 64] | torch.Tensor | mps:0  | -0.69456    | 0.853749     | 0.00620846  \n",
      "         blocks.9.hook_attn_out | torch.float32 | [1, 1, 512]   | torch.Tensor | mps:0  | -14.9368    | 5.9886       | 2.79397e-09 \n",
      "        blocks.9.hook_resid_mid | torch.float32 | [1, 1, 512]   | torch.Tensor | mps:0  | -9.82369    | 12.3225      | -2.70084e-08\n",
      "        blocks.9.ln2.hook_scale | torch.float32 | [1, 1, 1]     | torch.Tensor | mps:0  | 2.01441     | 2.01441      | 2.01441     \n",
      "   blocks.9.ln2.hook_normalized | torch.float32 | [1, 1, 512]   | torch.Tensor | mps:0  | -4.87671    | 6.11717      | -1.07102e-08\n",
      "          blocks.9.mlp.hook_pre | torch.float32 | [1, 1, 2048]  | torch.Tensor | mps:0  | -8.06721    | 1.23788      | -3.89887    \n",
      "         blocks.9.mlp.hook_post | torch.float32 | [1, 1, 2048]  | torch.Tensor | mps:0  | -0.168459   | 1.10434      | -0.00427269 \n",
      "          blocks.9.hook_mlp_out | torch.float32 | [1, 1, 512]   | torch.Tensor | mps:0  | -1.99304    | 1.5013       | 0           \n",
      "       blocks.9.hook_resid_post | torch.float32 | [1, 1, 512]   | torch.Tensor | mps:0  | -10.3772    | 12.4332      | -2.98023e-08\n",
      "       blocks.10.hook_resid_pre | torch.float32 | [1, 1, 512]   | torch.Tensor | mps:0  | -10.3772    | 12.4332      | -2.98023e-08\n",
      "       blocks.10.ln1.hook_scale | torch.float32 | [1, 1, 1]     | torch.Tensor | mps:0  | 2.04205     | 2.04205      | 2.04205     \n",
      "  blocks.10.ln1.hook_normalized | torch.float32 | [1, 1, 512]   | torch.Tensor | mps:0  | -5.08174    | 6.08861      | -3.72529e-09\n",
      "          blocks.10.attn.hook_q | torch.float32 | [1, 1, 8, 64] | torch.Tensor | mps:0  | -0.986899   | 1.28692      | -0.0207955  \n",
      "          blocks.10.attn.hook_k | torch.float32 | [1, 1, 8, 64] | torch.Tensor | mps:0  | -1.11784    | 1.38332      | -0.0193825  \n",
      "          blocks.10.attn.hook_v | torch.float32 | [1, 1, 8, 64] | torch.Tensor | mps:0  | -0.950819   | 0.945502     | 0.00223822  \n",
      "blocks.10.attn.hook_attn_scores | torch.float32 | [1, 8, 1, 1]  | torch.Tensor | mps:0  | -0.109836   | 0.794807     | 0.316111    \n",
      "    blocks.10.attn.hook_pattern | torch.float32 | [1, 8, 1, 1]  | torch.Tensor | mps:0  | 1           | 1            | 1           \n",
      "          blocks.10.attn.hook_z | torch.float32 | [1, 1, 8, 64] | torch.Tensor | mps:0  | -0.950819   | 0.945502     | 0.00223822  \n",
      "        blocks.10.hook_attn_out | torch.float32 | [1, 1, 512]   | torch.Tensor | mps:0  | -3.37757    | 3.70764      | -7.45058e-09\n",
      "       blocks.10.hook_resid_mid | torch.float32 | [1, 1, 512]   | torch.Tensor | mps:0  | -7.84017    | 13.5496      | -3.91155e-08\n",
      "       blocks.10.ln2.hook_scale | torch.float32 | [1, 1, 1]     | torch.Tensor | mps:0  | 2.19461     | 2.19461      | 2.19461     \n",
      "  blocks.10.ln2.hook_normalized | torch.float32 | [1, 1, 512]   | torch.Tensor | mps:0  | -3.57247    | 6.17406      | -5.12227e-09\n",
      "         blocks.10.mlp.hook_pre | torch.float32 | [1, 1, 2048]  | torch.Tensor | mps:0  | -5.78521    | 0.882879     | -2.44909    \n",
      "        blocks.10.mlp.hook_post | torch.float32 | [1, 1, 2048]  | torch.Tensor | mps:0  | -0.169971   | 0.716324     | -0.0470843  \n",
      "         blocks.10.hook_mlp_out | torch.float32 | [1, 1, 512]   | torch.Tensor | mps:0  | -7.93734    | 7.627        | -1.11759e-08\n",
      "      blocks.10.hook_resid_post | torch.float32 | [1, 1, 512]   | torch.Tensor | mps:0  | -14.2533    | 13.0467      | -4.84288e-08\n",
      "       blocks.11.hook_resid_pre | torch.float32 | [1, 1, 512]   | torch.Tensor | mps:0  | -14.2533    | 13.0467      | -4.84288e-08\n",
      "       blocks.11.ln1.hook_scale | torch.float32 | [1, 1, 1]     | torch.Tensor | mps:0  | 2.46858     | 2.46858      | 2.46858     \n",
      "  blocks.11.ln1.hook_normalized | torch.float32 | [1, 1, 512]   | torch.Tensor | mps:0  | -5.77391    | 5.28512      | -6.0536e-09 \n",
      "          blocks.11.attn.hook_q | torch.float32 | [1, 1, 8, 64] | torch.Tensor | mps:0  | -1.19433    | 1.08254      | 0.00210959  \n",
      "          blocks.11.attn.hook_k | torch.float32 | [1, 1, 8, 64] | torch.Tensor | mps:0  | -1.64733    | 1.29836      | -0.0233541  \n",
      "          blocks.11.attn.hook_v | torch.float32 | [1, 1, 8, 64] | torch.Tensor | mps:0  | -1.5847     | 1.42018      | -0.0132517  \n",
      "blocks.11.attn.hook_attn_scores | torch.float32 | [1, 8, 1, 1]  | torch.Tensor | mps:0  | -0.0847526  | 1.12272      | 0.410134    \n",
      "    blocks.11.attn.hook_pattern | torch.float32 | [1, 8, 1, 1]  | torch.Tensor | mps:0  | 1           | 1            | 1           \n",
      "          blocks.11.attn.hook_z | torch.float32 | [1, 1, 8, 64] | torch.Tensor | mps:0  | -1.5847     | 1.42018      | -0.0132517  \n",
      "        blocks.11.hook_attn_out | torch.float32 | [1, 1, 512]   | torch.Tensor | mps:0  | -6.97045    | 7.00932      | -1.49012e-08\n",
      "       blocks.11.hook_resid_mid | torch.float32 | [1, 1, 512]   | torch.Tensor | mps:0  | -15.0895    | 12.6647      | -5.96046e-08\n",
      "       blocks.11.ln2.hook_scale | torch.float32 | [1, 1, 1]     | torch.Tensor | mps:0  | 2.82619     | 2.82619      | 2.82619     \n",
      "  blocks.11.ln2.hook_normalized | torch.float32 | [1, 1, 512]   | torch.Tensor | mps:0  | -5.33916    | 4.4812       | -7.45058e-09\n",
      "         blocks.11.mlp.hook_pre | torch.float32 | [1, 1, 2048]  | torch.Tensor | mps:0  | -4.78191    | 2.027        | -1.27052    \n",
      "        blocks.11.mlp.hook_post | torch.float32 | [1, 1, 2048]  | torch.Tensor | mps:0  | -0.16997    | 1.98376      | -0.00967126 \n",
      "         blocks.11.hook_mlp_out | torch.float32 | [1, 1, 512]   | torch.Tensor | mps:0  | -11.254     | 9.40159      | 0           \n",
      "      blocks.11.hook_resid_post | torch.float32 | [1, 1, 512]   | torch.Tensor | mps:0  | -25.5213    | 21.6285      | -5.21541e-08\n",
      "            ln_final.hook_scale | torch.float32 | [1, 1, 1]     | torch.Tensor | mps:0  | 3.70751     | 3.70751      | 3.70751     \n",
      "       ln_final.hook_normalized | torch.float32 | [1, 1, 512]   | torch.Tensor | mps:0  | -6.88368    | 5.8337       | -7.45058e-09\n"
     ]
    }
   ],
   "source": [
    "# Let's look at what the model contains\n",
    "from arrgh import arrgh\n",
    "\n",
    "model.eval()\n",
    "with torch.device('cpu'):\n",
    "    inp = '<PATH_START>'\n",
    "    next_token, cache = model.run_with_cache(inp, prepend_bos=False)\n",
    "    \n",
    "arrgh(**cache)"
   ]
  },
  {
   "cell_type": "code",
<<<<<<< HEAD
   "execution_count": 766,
   "metadata": {},
   "outputs": [],
   "source": [
    "layer = 2\n",
    "coeff = 10"
=======
   "execution_count": 39,
   "metadata": {},
   "outputs": [],
   "source": [
    "layer = 5\n",
    "coeff = 5"
>>>>>>> e7f9d2a41d56855ee095970487d402844c82cb3d
   ]
  },
  {
   "cell_type": "code",
<<<<<<< HEAD
   "execution_count": 767,
=======
   "execution_count": 40,
   "metadata": {},
   "outputs": [
    {
     "data": {
      "text/plain": [
       "['<ADJLIST_START>',\n",
       " '(2,0)',\n",
       " '<-->',\n",
       " '(2,1)',\n",
       " ';',\n",
       " '(3,4)',\n",
       " '<-->',\n",
       " '(4,4)',\n",
       " ';',\n",
       " '(3,4)',\n",
       " '<-->',\n",
       " '(2,4)',\n",
       " ';',\n",
       " '(1,1)',\n",
       " '<-->',\n",
       " '(0,1)',\n",
       " ';',\n",
       " '(4,2)',\n",
       " '<-->',\n",
       " '(4,1)',\n",
       " ';',\n",
       " '(4,3)',\n",
       " '<-->',\n",
       " '(3,3)',\n",
       " ';',\n",
       " '(3,1)',\n",
       " '<-->',\n",
       " '(4,1)',\n",
       " ';',\n",
       " '(1,2)',\n",
       " '<-->',\n",
       " '(0,2)',\n",
       " ';',\n",
       " '(1,4)',\n",
       " '<-->',\n",
       " '(0,4)',\n",
       " ';',\n",
       " '(2,4)',\n",
       " '<-->',\n",
       " '(2,3)',\n",
       " ';',\n",
       " '(0,0)',\n",
       " '<-->',\n",
       " '(0,1)',\n",
       " ';',\n",
       " '(1,1)',\n",
       " '<-->',\n",
       " '(1,2)',\n",
       " ';',\n",
       " '(3,2)',\n",
       " '<-->',\n",
       " '(3,1)',\n",
       " ';',\n",
       " '(1,4)',\n",
       " '<-->',\n",
       " '(2,4)',\n",
       " ';',\n",
       " '(1,2)',\n",
       " '<-->',\n",
       " '(1,3)',\n",
       " ';',\n",
       " '(4,3)',\n",
       " '<-->',\n",
       " '(4,4)',\n",
       " ';',\n",
       " '(2,3)',\n",
       " '<-->',\n",
       " '(2,2)',\n",
       " ';',\n",
       " '(0,3)',\n",
       " '<-->',\n",
       " '(0,4)',\n",
       " ';',\n",
       " '(0,3)',\n",
       " '<-->',\n",
       " '(0,2)',\n",
       " ';',\n",
       " '(4,1)',\n",
       " '<-->',\n",
       " '(4,0)',\n",
       " ';',\n",
       " '(3,3)',\n",
       " '<-->',\n",
       " '(3,2)',\n",
       " ';',\n",
       " '(3,0)',\n",
       " '<-->',\n",
       " '(2,0)',\n",
       " ';',\n",
       " '(0,0)',\n",
       " '<-->',\n",
       " '(1,0)',\n",
       " ';',\n",
       " '(2,1)',\n",
       " '<-->',\n",
       " '(2,2)',\n",
       " ';',\n",
       " '<ADJLIST_END>',\n",
       " '<ORIGIN_START>',\n",
       " '(3,2)',\n",
       " '<ORIGIN_END>',\n",
       " '<TARGET_START>',\n",
       " '(1,2)',\n",
       " '<TARGET_END>',\n",
       " '<PATH_START>']"
      ]
     },
     "execution_count": 40,
     "metadata": {},
     "output_type": "execute_result"
    }
   ],
   "source": [
    "prompt"
   ]
  },
  {
   "cell_type": "code",
   "execution_count": 41,
>>>>>>> e7f9d2a41d56855ee095970487d402844c82cb3d
   "metadata": {},
   "outputs": [],
   "source": [
    "example = dataset[0].as_tokens(tokenizer) \n",
    "prompt, soln = example[: example.index(\"<PATH_START>\") + 1], example[example.index(\"<PATH_START>\") + 1 :]\n",
    "\n",
    "name = f\"blocks.{layer}.hook_resid_pre\"\n",
    "cache, caching_hooks, _ = model.get_caching_hooks(lambda n: n == name)\n",
    "with model.hooks(fwd_hooks=caching_hooks):\n",
    "    _ = model(\" \".join(prompt))\n",
    "c = cache[name]"
   ]
  },
  {
   "cell_type": "markdown",
   "metadata": {},
   "source": [
    "TO DO\n",
    "put the mazes into a batch and can just run the batch in the model!!\n",
    "make sure they are padded (they are the same lenght)"
   ]
  },
  {
   "cell_type": "code",
<<<<<<< HEAD
   "execution_count": 768,
=======
   "execution_count": 51,
>>>>>>> e7f9d2a41d56855ee095970487d402844c82cb3d
   "metadata": {},
   "outputs": [
    {
     "name": "stdout",
     "output_type": "stream",
     "text": [
      "blocks:\n",
<<<<<<< HEAD
      "  '[2-2]':\n",
=======
      "  '[5-5]':\n",
>>>>>>> e7f9d2a41d56855ee095970487d402844c82cb3d
      "    hook_resid_pre: (1, 106, 512)\n",
      "\n"
     ]
    }
   ],
   "source": [
    "import re\n",
    "import pprint\n",
    "from collections import defaultdict\n",
    "\n",
    "def construct_activation_summary(cache, shapes_as_str: bool = False):\n",
    "    def recursive_insert(tree, keys, value):\n",
    "        if len(keys) == 1:\n",
    "            tree[keys[0]] = value\n",
    "        else:\n",
    "            if keys[0] not in tree:\n",
    "                tree[keys[0]] = {}\n",
    "            recursive_insert(tree[keys[0]], keys[1:], value)\n",
    "\n",
    "    def shape_conversion(value):\n",
    "        if shapes_as_str:\n",
    "            return str(tuple(value.shape))\n",
    "        else:\n",
    "            return tuple(value.shape)\n",
    "\n",
    "    activation_summary = {}\n",
    "    pattern = re.compile(r'^blocks\\.(\\d+)\\.(.*)$')\n",
    "    block_keys = defaultdict(lambda: defaultdict(lambda: []))\n",
    "\n",
    "    # First pass to collect keys and block numbers\n",
    "    for key, value in cache.items():\n",
    "        match = pattern.match(key)\n",
    "        if match:\n",
    "            block_num, sub_key = match.groups()\n",
    "            block_keys[sub_key][shape_conversion(value)].append(int(block_num))\n",
    "\n",
    "    # Second pass to insert with aggregated ranges\n",
    "    for sub_key, shapes in block_keys.items():\n",
    "        for shape, blocks in shapes.items():\n",
    "            blocks.sort()\n",
    "            # Check if the sequence of blocks is continuous\n",
    "            if blocks[-1] - blocks[0] == len(blocks) - 1:\n",
    "                new_key = f\"blocks.[{blocks[0]}-{blocks[-1]}].{sub_key}\"\n",
    "            else:\n",
    "                new_key = ', '.join([f\"blocks.[{b}]\" for b in blocks]) + f\".{sub_key}\"\n",
    "            keys_hierarchy = new_key.split('.')\n",
    "            recursive_insert(activation_summary, keys_hierarchy, shape)\n",
    "\n",
    "    # Insert non-block keys directly\n",
    "    for key, value in cache.items():\n",
    "        if not pattern.match(key):\n",
    "            activation_summary[key] = shape_conversion(value)\n",
    "\n",
    "    return activation_summary\n",
    "\n",
    "# Assuming `cache` is your ActivationCache object\n",
    "activation_summary = construct_activation_summary(cache, shapes_as_str=True)\n",
    "import json\n",
    "import yaml\n",
    "print(yaml.dump(activation_summary, default_flow_style=False))"
   ]
  },
  {
   "cell_type": "markdown",
   "metadata": {},
   "source": [
    "# Creating termination vector\n",
    "\n",
    "To do this, we need to hook at the last step, or target! \n",
    "\n",
    "Does this mean "
   ]
  },
  {
   "cell_type": "code",
<<<<<<< HEAD
   "execution_count": 769,
=======
   "execution_count": 71,
>>>>>>> e7f9d2a41d56855ee095970487d402844c82cb3d
   "metadata": {},
   "outputs": [],
   "source": [
    "cache_n_term=torch.zeros_like(c)\n",
<<<<<<< HEAD
    "for maze in dataset_filtered:\n",
=======
    "for maze in dataset:\n",
>>>>>>> e7f9d2a41d56855ee095970487d402844c82cb3d
    "    # Prepare example and hook\n",
    "    example = maze.as_tokens(tokenizer) \n",
    "    prompt, soln = example[: example.index(\"<PATH_START>\") + 1], example[example.index(\"<PATH_START>\") + 1 :]\n",
    "\n",
    "    name = f\"blocks.{layer}.hook_resid_pre\"\n",
    "    cache, caching_hooks, _ = model.get_caching_hooks(lambda n: n == name)  \n",
    "    with model.hooks(fwd_hooks=caching_hooks):\n",
    "        _ = model(\" \".join(prompt))\n",
    "    cache_n_term+= cache[name]/len(dataset)"
   ]
  },
  {
   "cell_type": "code",
<<<<<<< HEAD
   "execution_count": 770,
   "metadata": {},
   "outputs": [],
   "source": [
    "example = maze.as_tokens(tokenizer) \n",
    "prompt, soln = example[: example.index(\"<PATH_START>\") + 1], example[example.index(\"<PATH_START>\") + 1 :]\n",
    "\n",
    "name = f\"blocks.{layer}.hook_resid_pre\"\n",
    "cache, caching_hooks, _ = model.get_caching_hooks(lambda n: n == name)  \n",
    "with model.hooks(fwd_hooks=caching_hooks):\n",
    "    _ = model(\" \".join(prompt))"
=======
   "execution_count": 72,
   "metadata": {},
   "outputs": [
    {
     "name": "stdout",
     "output_type": "stream",
     "text": [
      "100\n"
     ]
    }
   ],
   "source": [
    "print(example.index(\"<ORIGIN_END>\"))"
>>>>>>> e7f9d2a41d56855ee095970487d402844c82cb3d
   ]
  },
  {
   "cell_type": "markdown",
   "metadata": {},
   "source": [
    "What if I just write the token representation of path_end as the steering vector?"
   ]
  },
  {
   "cell_type": "code",
<<<<<<< HEAD
   "execution_count": 771,
   "metadata": {},
   "outputs": [],
=======
   "execution_count": 73,
   "metadata": {},
   "outputs": [
    {
     "data": {
      "text/plain": [
       "['<-->',\n",
       " '(1,3)',\n",
       " ';',\n",
       " '(0,3)',\n",
       " '<-->',\n",
       " '(0,2)',\n",
       " ';',\n",
       " '<ADJLIST_END>',\n",
       " '<ORIGIN_START>',\n",
       " '(3,2)',\n",
       " '<ORIGIN_END>',\n",
       " '<TARGET_START>',\n",
       " '(1,2)',\n",
       " '<TARGET_END>',\n",
       " '<PATH_START>']"
      ]
     },
     "execution_count": 73,
     "metadata": {},
     "output_type": "execute_result"
    }
   ],
   "source": [
    "prompt[90:]"
   ]
  },
  {
   "cell_type": "code",
   "execution_count": 81,
   "metadata": {},
   "outputs": [
    {
     "data": {
      "text/plain": [
       "torch.Size([512])"
      ]
     },
     "execution_count": 81,
     "metadata": {},
     "output_type": "execute_result"
    }
   ],
>>>>>>> e7f9d2a41d56855ee095970487d402844c82cb3d
   "source": [
    "\n",
    "#example.index(\"<PATH_END>\")\n",
    "\n",
    "#model.tokenizer.vocab\n",
    "\n",
<<<<<<< HEAD
    "#model.W_U[:,model.tokenizer.vocab[\"<PATH_END>\"]].shape"
=======
    "model.W_U[:,model.tokenizer.vocab[\"<PATH_END>\"]].shape"
>>>>>>> e7f9d2a41d56855ee095970487d402844c82cb3d
   ]
  },
  {
   "cell_type": "code",
<<<<<<< HEAD
   "execution_count": 772,
   "metadata": {},
   "outputs": [],
   "source": [
    "act_diff = cache_n_term\n",
    "\n",
    "#act_diff = model.W_U[:,model.tokenizer.vocab[\"<PATH_END>\"]]\n",
    "#act_diff = act_diff.unsqueeze(0).unsqueeze(0).expand(1, cache_n_term.shape[1], -1)\n",
=======
   "execution_count": 113,
   "metadata": {},
   "outputs": [],
   "source": [
    "#act_diff = cache_n_term\n",
    "\n",
    "act_diff = model.W_U[:,model.tokenizer.vocab[\"<TARGET_END>\"]]\n",
    "\n",
    "act_diff = act_diff.unsqueeze(0).unsqueeze(0).expand(1, cache_n_term.shape[1], -1)\n",
>>>>>>> e7f9d2a41d56855ee095970487d402844c82cb3d
    "\n"
   ]
  },
  {
   "cell_type": "code",
<<<<<<< HEAD
   "execution_count": 773,
=======
   "execution_count": 114,
>>>>>>> e7f9d2a41d56855ee095970487d402844c82cb3d
   "metadata": {},
   "outputs": [
    {
     "data": {
      "text/plain": [
       "torch.Size([1, 106, 512])"
      ]
     },
<<<<<<< HEAD
     "execution_count": 773,
=======
     "execution_count": 114,
>>>>>>> e7f9d2a41d56855ee095970487d402844c82cb3d
     "metadata": {},
     "output_type": "execute_result"
    }
   ],
   "source": [
    "act_diff.shape\n",
    "# [batch, seq, dim]"
   ]
  },
  {
   "cell_type": "code",
<<<<<<< HEAD
   "execution_count": 774,
=======
   "execution_count": 119,
>>>>>>> e7f9d2a41d56855ee095970487d402844c82cb3d
   "metadata": {},
   "outputs": [],
   "source": [
    "from unsearch_research.stable.analysis import intervene_upon_generation\n",
    "\n",
    "\n",
<<<<<<< HEAD
    "def patching_hook_terminate(model_in, token_to_patch, layer_to_patch, coeff, act):\n",
=======
    "def patching_hook_terminate(model_in, token_to_patch, layer_to_patch, act):\n",
>>>>>>> e7f9d2a41d56855ee095970487d402844c82cb3d
    "    # Model in is list of str tokens (could batch tensor and use gather)\n",
    "    def layer_output_patch_hook(inp, hook):\n",
    "        # inp has shape [batch_size, seq_len, hidden_dim]\n",
    "\n",
    "        if inp.shape[1] == 1:\n",
    "            return  \n",
    "        \n",
    "        ppos, apos = inp.shape[1], act.shape[1]\n",
    "\n",
    "        if apos <= ppos:\n",
<<<<<<< HEAD
    "            inp[:, :apos, :] += coeff * act\n",
=======
    "            inp[:, :apos, :] += 10 * torch.randn_like(inp[:, 0, :]) #coeff * act\n",
>>>>>>> e7f9d2a41d56855ee095970487d402844c82cb3d
    "        else:\n",
    "            inp += coeff * act[:,apos-ppos:]\n",
    "        \n",
    "        return inp\n",
    "\n",
<<<<<<< HEAD
    "    return [(f\"blocks.{layer_to_patch}.hook_resid_post\", layer_output_patch_hook)]\n",
    "\n",
    "def patching_hook_terminate2(model_in, token_to_patch, layer_to_patch, coeff, act):\n",
    "    # Model in is list of str tokens (could batch tensor and use gather)\n",
    "    def layer_output_patch_hook(inp, hook):\n",
    "        # inp has shape [batch_size, seq_len, hidden_dim]\n",
    "\n",
    "        matched_pos = model_in.index(token_to_patch)\n",
    "\n",
    "        # patch inp at matched_pos\n",
    "        #inp[:,matched_pos] += coeff * act[:,matched_pos+1,:] #5 * torch.randn_like(inp[:, 0, :])#\n",
    "\n",
    "        inp[:,matched_pos] += coeff * act[:,matched_pos + 1]\n",
    "\n",
    "\n",
    "        #print(inp)\n",
    "        return inp\n",
    "\n",
=======
>>>>>>> e7f9d2a41d56855ee095970487d402844c82cb3d
    "    return [(f\"blocks.{layer_to_patch}.hook_resid_post\", layer_output_patch_hook)]"
   ]
  },
  {
   "cell_type": "code",
<<<<<<< HEAD
   "execution_count": 775,
=======
   "execution_count": 120,
>>>>>>> e7f9d2a41d56855ee095970487d402844c82cb3d
   "metadata": {},
   "outputs": [
    {
     "data": {
      "text/plain": [
       "torch.Size([1, 106, 512])"
      ]
     },
<<<<<<< HEAD
     "execution_count": 775,
=======
     "execution_count": 120,
>>>>>>> e7f9d2a41d56855ee095970487d402844c82cb3d
     "metadata": {},
     "output_type": "execute_result"
    }
   ],
   "source": [
<<<<<<< HEAD
    "act_diff.shape# shape is [1, maze length, hidden dim]"
=======
    "act_diff.shape\n",
    "# shape is [1, maze length, hidden dim]"
>>>>>>> e7f9d2a41d56855ee095970487d402844c82cb3d
   ]
  },
  {
   "cell_type": "markdown",
   "metadata": {},
   "source": [
    "Could filter data sets to have the same seq length until termination?\n",
    "\n",
    "Try with just, say, the start token representation, and try creating an activation vector from that, rather than finding the actual termination point (as it varies)."
   ]
  },
  {
   "cell_type": "code",
<<<<<<< HEAD
   "execution_count": 776,
   "metadata": {},
   "outputs": [],
   "source": [
    "termination_pos_str = '(2,0)'"
   ]
  },
  {
   "cell_type": "code",
   "execution_count": 777,
   "metadata": {},
   "outputs": [
    {
     "data": {
      "text/plain": [
       "['(4,3)', '(4,2)', '(4,1)', '(4,0)', '(3,0)', '(2,0)', '<PATH_END>']"
      ]
     },
     "execution_count": 777,
     "metadata": {},
     "output_type": "execute_result"
    }
   ],
   "source": [
    "soln"
   ]
  },
  {
   "cell_type": "code",
   "execution_count": 788,
=======
   "execution_count": 125,
>>>>>>> e7f9d2a41d56855ee095970487d402844c82cb3d
   "metadata": {},
   "outputs": [
    {
     "data": {
      "application/vnd.jupyter.widget-view+json": {
<<<<<<< HEAD
       "model_id": "ca66bd9d1c6c4407934799c0fa5ce9cb",
=======
       "model_id": "cf02fb1ff9df41ba83d7068399802ece",
>>>>>>> e7f9d2a41d56855ee095970487d402844c82cb3d
       "version_major": 2,
       "version_minor": 0
      },
      "text/plain": [
       "  0%|          | 0/40 [00:00<?, ?it/s]"
      ]
     },
     "metadata": {},
     "output_type": "display_data"
    },
    {
<<<<<<< HEAD
     "data": {
      "application/vnd.jupyter.widget-view+json": {
       "model_id": "362b6df9a999453d8c5d49cbc9d4b67a",
       "version_major": 2,
       "version_minor": 0
      },
      "text/plain": [
       "  0%|          | 0/40 [00:00<?, ?it/s]"
      ]
     },
     "metadata": {},
     "output_type": "display_data"
=======
     "name": "stderr",
     "output_type": "stream",
     "text": [
      "  5%|▌         | 2/40 [00:00<00:08,  4.70it/s]\n"
     ]
>>>>>>> e7f9d2a41d56855ee095970487d402844c82cb3d
    }
   ],
   "source": [
    "# Prepare example and hook\n",
<<<<<<< HEAD
    "example = dataset_test[15].as_tokens(tokenizer)\n",
    "prompt, soln = example[: example.index(\"<PATH_START>\") + 7], example[example.index(\"<PATH_START>\") + 7 :]\n",
    "\n",
    "terminate_patch_hook = patching_hook_terminate2(prompt, example[example.index(termination_pos_str)], layer, 20, act_diff)\n",
=======
    "example = dataset[8].as_tokens(tokenizer)\n",
    "prompt, soln = example[: example.index(\"<PATH_START>\") + 1], example[example.index(\"<PATH_START>\") + 1 :]\n",
    "\n",
    "terminate_patch_hook = patching_hook_terminate(prompt, example[example.index(\"<PATH_START>\") + 1], 2, act_diff)\n",
>>>>>>> e7f9d2a41d56855ee095970487d402844c82cb3d
    "\n",
    "\n",
    "# Run intervention - generate with hook applied to same layer\n",
    "#                    and token at each step of the rollout\n",
    "\n",
    "prediction_original = model.generate(\n",
    "    \" \".join(prompt),\n",
    "    prepend_bos=False,\n",
    "    max_new_tokens=40,\n",
    "    do_sample=False\n",
    ")\n",
    "\n",
    "prediction_perturbed = intervene_upon_generation(\n",
    "    model,\n",
    "    \" \".join(prompt),\n",
    "    terminate_patch_hook,\n",
    "    do_sample=False,\n",
    "    max_new_tokens=40,\n",
    "    device=DEVICE,\n",
    ")\n",
    "prediction_perturbed = model.to_string(prediction_perturbed)[0]"
   ]
  },
  {
   "cell_type": "code",
<<<<<<< HEAD
   "execution_count": 789,
   "metadata": {},
   "outputs": [
    {
     "data": {
      "text/plain": [
       "'<ADJLIST_START> (2,2) <--> (1,2) ; (0,2) <--> (1,2) ; (3,2) <--> (2,2) ; (4,3) <--> (4,4) ; (2,4) <--> (2,3) ; (0,0) <--> (0,1) ; (4,0) <--> (3,0) ; (3,3) <--> (3,2) ; (4,2) <--> (4,3) ; (4,1) <--> (4,0) ; (1,3) <--> (1,4) ; (1,4) <--> (0,4) ; (2,1) <--> (2,0) ; (1,0) <--> (1,1) ; (4,1) <--> (4,2) ; (1,3) <--> (0,3) ; (2,2) <--> (2,1) ; (0,2) <--> (0,3) ; (0,0) <--> (1,0) ; (4,4) <--> (3,4) ; (3,2) <--> (3,1) ; (3,4) <--> (2,4) ; (2,0) <--> (3,0) ; (0,2) <--> (0,1) ; <ADJLIST_END> <ORIGIN_START> (2,4) <ORIGIN_END> <TARGET_START> (3,1) <TARGET_END> <PATH_START> (2,4) (3,4) (4,4) (4,3) (4,2) (4,1) (4,0) (3,0) (2,0) (3,0) (3,1) <PATH_END>'"
      ]
     },
     "execution_count": 789,
     "metadata": {},
     "output_type": "execute_result"
    }
   ],
   "source": [
    "prediction_perturbed[:]"
   ]
  },
  {
   "cell_type": "code",
   "execution_count": 790,
=======
   "execution_count": 126,
>>>>>>> e7f9d2a41d56855ee095970487d402844c82cb3d
   "metadata": {},
   "outputs": [
    {
     "name": "stdout",
     "output_type": "stream",
     "text": [
<<<<<<< HEAD
      "Layer = 2\n"
=======
      "Layer = 5\n"
>>>>>>> e7f9d2a41d56855ee095970487d402844c82cb3d
     ]
    },
    {
     "data": {
<<<<<<< HEAD
      "image/png": "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",
=======
      "image/png": "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",
>>>>>>> e7f9d2a41d56855ee095970487d402844c82cb3d
      "text/plain": [
       "<Figure size 640x480 with 2 Axes>"
      ]
     },
     "metadata": {},
     "output_type": "display_data"
    }
   ],
   "source": [
    "\n",
<<<<<<< HEAD
    "from matplotlib.gridspec import GridSpec\n",
    "\n",
=======
>>>>>>> e7f9d2a41d56855ee095970487d402844c82cb3d
    "# Plot the output\n",
    "gs = GridSpec(1, 2)\n",
    "plot_maze(prediction_original, tokenizer=tokenizer, ax=gs[0, 0], ax_labels={'maze':{'title': 'Original'}})\n",
    "plot_maze(prediction_perturbed, tokenizer=tokenizer, ax=gs[0, 1], ax_labels={'maze':{'title': 'Perturbed'}});\n",
    "print(f\"Layer = {layer}\")"
   ]
  },
  {
   "cell_type": "code",
<<<<<<< HEAD
   "execution_count": 791,
   "metadata": {},
   "outputs": [
    {
     "ename": "AttributeError",
     "evalue": "'str' object has no attribute 'is_invalid'",
     "output_type": "error",
     "traceback": [
      "\u001b[0;31m---------------------------------------------------------------------------\u001b[0m",
      "\u001b[0;31mAttributeError\u001b[0m                            Traceback (most recent call last)",
      "Cell \u001b[0;32mIn[791], line 1\u001b[0m\n\u001b[0;32m----> 1\u001b[0m \u001b[43mprediction_original\u001b[49m\u001b[38;5;241;43m.\u001b[39;49m\u001b[43mis_invalid\u001b[49m(), prediction_perturbed\u001b[38;5;241m.\u001b[39mis_invalid()\n",
      "\u001b[0;31mAttributeError\u001b[0m: 'str' object has no attribute 'is_invalid'"
     ]
    }
   ],
   "source": []
  },
  {
   "cell_type": "code",
   "execution_count": 418,
=======
   "execution_count": 107,
>>>>>>> e7f9d2a41d56855ee095970487d402844c82cb3d
   "metadata": {},
   "outputs": [
    {
     "data": {
      "text/plain": [
<<<<<<< HEAD
       "'<ADJLIST_START> (1,2) <--> (2,2) ; (3,0) <--> (2,0) ; (4,0) <--> (4,1) ; (3,2) <--> (3,1) ; (1,2) <--> (0,2) ; (3,0) <--> (4,0) ; (2,4) <--> (3,4) ; (4,4) <--> (4,3) ; (4,4) <--> (3,4) ; (3,3) <--> (3,2) ; (0,0) <--> (1,0) ; (2,1) <--> (2,0) ; (2,3) <--> (2,4) ; (0,1) <--> (0,0) ; (4,3) <--> (4,2) ; (0,3) <--> (1,3) ; (1,3) <--> (1,4) ; (0,2) <--> (0,1) ; (3,2) <--> (2,2) ; (0,2) <--> (0,3) ; (4,1) <--> (4,2) ; (1,0) <--> (1,1) ; (2,1) <--> (2,2) ; (1,4) <--> (0,4) ; <ADJLIST_END> <ORIGIN_START> (4,4) <ORIGIN_END> <TARGET_START> (3,2) <TARGET_END> <PATH_START> (4,4) (4,3) (4,2) (4,1) (4,0) (3,0) (2,0) (2,1) (2,2) (3,2) <PATH_END>'"
      ]
     },
     "execution_count": 418,
=======
       "['<ADJLIST_START>',\n",
       " '(4,3)',\n",
       " '<-->',\n",
       " '(4,2)',\n",
       " ';',\n",
       " '(2,3)',\n",
       " '<-->',\n",
       " '(1,3)',\n",
       " ';',\n",
       " '(0,3)',\n",
       " '<-->',\n",
       " '(1,3)',\n",
       " ';',\n",
       " '(0,1)',\n",
       " '<-->',\n",
       " '(0,0)',\n",
       " ';',\n",
       " '(0,2)',\n",
       " '<-->',\n",
       " '(1,2)',\n",
       " ';',\n",
       " '(3,3)',\n",
       " '<-->',\n",
       " '(2,3)',\n",
       " ';',\n",
       " '(3,0)',\n",
       " '<-->',\n",
       " '(3,1)',\n",
       " ';',\n",
       " '(4,4)',\n",
       " '<-->',\n",
       " '(4,3)',\n",
       " ';',\n",
       " '(2,0)',\n",
       " '<-->',\n",
       " '(1,0)',\n",
       " ';',\n",
       " '(2,0)',\n",
       " '<-->',\n",
       " '(3,0)',\n",
       " ';',\n",
       " '(1,2)',\n",
       " '<-->',\n",
       " '(2,2)',\n",
       " ';',\n",
       " '(2,4)',\n",
       " '<-->',\n",
       " '(2,3)',\n",
       " ';',\n",
       " '(4,2)',\n",
       " '<-->',\n",
       " '(3,2)',\n",
       " ';',\n",
       " '(3,1)',\n",
       " '<-->',\n",
       " '(3,2)',\n",
       " ';',\n",
       " '(4,0)',\n",
       " '<-->',\n",
       " '(4,1)',\n",
       " ';',\n",
       " '(3,4)',\n",
       " '<-->',\n",
       " '(2,4)',\n",
       " ';',\n",
       " '(0,4)',\n",
       " '<-->',\n",
       " '(0,3)',\n",
       " ';',\n",
       " '(1,0)',\n",
       " '<-->',\n",
       " '(1,1)',\n",
       " ';',\n",
       " '(1,4)',\n",
       " '<-->',\n",
       " '(0,4)',\n",
       " ';',\n",
       " '(1,1)',\n",
       " '<-->',\n",
       " '(2,1)',\n",
       " ';',\n",
       " '(2,1)',\n",
       " '<-->',\n",
       " '(2,2)',\n",
       " ';',\n",
       " '(1,0)',\n",
       " '<-->',\n",
       " '(0,0)',\n",
       " ';',\n",
       " '(3,4)',\n",
       " '<-->',\n",
       " '(4,4)',\n",
       " ';',\n",
       " '(4,2)',\n",
       " '<-->',\n",
       " '(4,1)',\n",
       " ';',\n",
       " '<ADJLIST_END>',\n",
       " '<ORIGIN_START>',\n",
       " '(0,1)',\n",
       " '<ORIGIN_END>',\n",
       " '<TARGET_START>',\n",
       " '(3,1)',\n",
       " '<TARGET_END>',\n",
       " '<PATH_START>']"
      ]
     },
     "execution_count": 107,
     "metadata": {},
     "output_type": "execute_result"
    }
   ],
   "source": [
    "prompt"
   ]
  },
  {
   "cell_type": "code",
   "execution_count": 102,
   "metadata": {},
   "outputs": [
    {
     "data": {
      "text/plain": [
       "'<ADJLIST_START> (4,3) <--> (4,2) ; (2,3) <--> (1,3) ; (0,3) <--> (1,3) ; (0,1) <--> (0,0) ; (0,2) <--> (1,2) ; (3,3) <--> (2,3) ; (3,0) <--> (3,1) ; (4,4) <--> (4,3) ; (2,0) <--> (1,0) ; (2,0) <--> (3,0) ; (1,2) <--> (2,2) ; (2,4) <--> (2,3) ; (4,2) <--> (3,2) ; (3,1) <--> (3,2) ; (4,0) <--> (4,1) ; (3,4) <--> (2,4) ; (0,4) <--> (0,3) ; (1,0) <--> (1,1) ; (1,4) <--> (0,4) ; (1,1) <--> (2,1) ; (2,1) <--> (2,2) ; (1,0) <--> (0,0) ; (3,4) <--> (4,4) ; (4,2) <--> (4,1) ; <ADJLIST_END> <ORIGIN_START> (0,1) <ORIGIN_END> <TARGET_START> (3,1) <TARGET_END> <PATH_START> (0,1) (0,0) (1,0) (2,0) (3,0) (3,1) <PATH_END>'"
      ]
     },
     "execution_count": 102,
>>>>>>> e7f9d2a41d56855ee095970487d402844c82cb3d
     "metadata": {},
     "output_type": "execute_result"
    }
   ],
   "source": [
    "prediction_original"
   ]
  },
  {
   "cell_type": "code",
<<<<<<< HEAD
   "execution_count": 419,
=======
   "execution_count": 103,
>>>>>>> e7f9d2a41d56855ee095970487d402844c82cb3d
   "metadata": {},
   "outputs": [
    {
     "data": {
      "text/plain": [
<<<<<<< HEAD
       "'<ADJLIST_START> (1,2) <--> (2,2) ; (3,0) <--> (2,0) ; (4,0) <--> (4,1) ; (3,2) <--> (3,1) ; (1,2) <--> (0,2) ; (3,0) <--> (4,0) ; (2,4) <--> (3,4) ; (4,4) <--> (4,3) ; (4,4) <--> (3,4) ; (3,3) <--> (3,2) ; (0,0) <--> (1,0) ; (2,1) <--> (2,0) ; (2,3) <--> (2,4) ; (0,1) <--> (0,0) ; (4,3) <--> (4,2) ; (0,3) <--> (1,3) ; (1,3) <--> (1,4) ; (0,2) <--> (0,1) ; (3,2) <--> (2,2) ; (0,2) <--> (0,3) ; (4,1) <--> (4,2) ; (1,0) <--> (1,1) ; (2,1) <--> (2,2) ; (1,4) <--> (0,4) ; <ADJLIST_END> <ORIGIN_START> (4,4) <ORIGIN_END> <TARGET_START> (3,2) <TARGET_END> <PATH_START> (4,4) (4,3) (4,2) (4,1) (4,0) (3,0) (2,0) (2,1) (2,2) (3,2) <PATH_END>'"
      ]
     },
     "execution_count": 419,
=======
       "'<ADJLIST_START> (4,3) <--> (4,2) ; (2,3) <--> (1,3) ; (0,3) <--> (1,3) ; (0,1) <--> (0,0) ; (0,2) <--> (1,2) ; (3,3) <--> (2,3) ; (3,0) <--> (3,1) ; (4,4) <--> (4,3) ; (2,0) <--> (1,0) ; (2,0) <--> (3,0) ; (1,2) <--> (2,2) ; (2,4) <--> (2,3) ; (4,2) <--> (3,2) ; (3,1) <--> (3,2) ; (4,0) <--> (4,1) ; (3,4) <--> (2,4) ; (0,4) <--> (0,3) ; (1,0) <--> (1,1) ; (1,4) <--> (0,4) ; (1,1) <--> (2,1) ; (2,1) <--> (2,2) ; (1,0) <--> (0,0) ; (3,4) <--> (4,4) ; (4,2) <--> (4,1) ; <ADJLIST_END> <ORIGIN_START> (0,1) <ORIGIN_END> <TARGET_START> (3,1) <TARGET_END> <PATH_START> (0,1) (0,0) (1,0) (2,0) (3,0) (3,1) <PATH_END>'"
      ]
     },
     "execution_count": 103,
>>>>>>> e7f9d2a41d56855ee095970487d402844c82cb3d
     "metadata": {},
     "output_type": "execute_result"
    }
   ],
   "source": [
    "prediction_perturbed"
   ]
  },
  {
   "cell_type": "code",
<<<<<<< HEAD
   "execution_count": 421,
=======
   "execution_count": 965,
>>>>>>> e7f9d2a41d56855ee095970487d402844c82cb3d
   "metadata": {},
   "outputs": [],
   "source": [
    "def find_vector(data_set, layer, coeff):\n",
    "\n",
    "    cache_n=torch.zeros_like(c)\n",
    "    \n",
    "    for i in range(len(data_set)):\n",
    "        # Prepare example and hook\n",
    "        example = data_set[i].as_tokens(tokenizer) \n",
    "        prompt, soln = example[: example.index(\"<PATH_START>\") + 1], example[example.index(\"<PATH_START>\") + 1 :]\n",
    "\n",
    "        name = f\"blocks.{layer}.hook_resid_pre\"\n",
    "        cache, caching_hooks, _ = model.get_caching_hooks(lambda n: n == name)\n",
    "        with model.hooks(fwd_hooks=caching_hooks):\n",
    "            _ = model(\" \".join(prompt))\n",
<<<<<<< HEAD
    "        cache_n+= cache[name]/len(dataset_filtered)\n",
=======
    "        cache_n+= cache[name]/len(dataset_right)\n",
>>>>>>> e7f9d2a41d56855ee095970487d402844c82cb3d
    "\n",
    "    return cache_n\n",
    "\n"
   ]
  },
  {
   "cell_type": "code",
<<<<<<< HEAD
   "execution_count": 422,
=======
   "execution_count": 966,
>>>>>>> e7f9d2a41d56855ee095970487d402844c82cb3d
   "metadata": {},
   "outputs": [],
   "source": [
    "def create_activation_vector(pos_data_set, neg_data_set, layer, coeff):\n",
    "\n",
    "    pos_vec = find_vector(pos_data_set, layer, coeff)\n",
    "    neg_vec = find_vector(neg_data_set, layer, coeff)\n",
    "\n",
    "    return pos_vec-neg_vec"
   ]
  },
  {
   "cell_type": "code",
   "execution_count": 1104,
   "metadata": {},
   "outputs": [],
   "source": [
    "act_vec0 = create_activation_vector(dataset_right, dataset_left, 0, coeff)\n",
    "act_vec1 = create_activation_vector(dataset_right, dataset_left, 1, coeff)\n",
    "act_vec2 = create_activation_vector(dataset_right, dataset_left, 2, coeff)\n",
    "act_vec3 = create_activation_vector(dataset_right, dataset_left, 3, coeff)\n",
    "act_vec4 = create_activation_vector(dataset_right, dataset_left, 4, coeff)\n",
    "act_vec5 = create_activation_vector(dataset_right, dataset_left, 5, coeff)\n",
    "act_vec6 = create_activation_vector(dataset_right, dataset_left, 6, coeff)\n",
    "act_vec7 = create_activation_vector(dataset_right, dataset_left, 7, coeff)\n"
   ]
  },
  {
   "cell_type": "code",
<<<<<<< HEAD
   "execution_count": 262,
=======
   "execution_count": 1130,
>>>>>>> e7f9d2a41d56855ee095970487d402844c82cb3d
   "metadata": {},
   "outputs": [],
   "source": [
    "def apply_act_vecs(act_vec, example):\n",
    "\n",
    "    prompt, soln = example[: example.index(\"<PATH_START>\") + 1], example[example.index(\"<PATH_START>\") + 1 :]\n",
    "\n",
<<<<<<< HEAD
    "    turn_right_patch_hook = patching_hook_right(prompt, example[example.index(\"<PATH_START>\") + 2], layer, act_vec)\n",
=======
    "    turn_right_patch_hook = patching_hook_right(prompt, example[example.index(\"<PATH_START>\") + 2], 2, act_vec)\n",
>>>>>>> e7f9d2a41d56855ee095970487d402844c82cb3d
    "\n",
    "    prediction_original = model.generate(\n",
    "        \"\".join(prompt),\n",
    "        prepend_bos=False,\n",
    "        max_new_tokens=40,\n",
    "        do_sample=False\n",
    "    ) \n",
    "\n",
    "    prediction_perturbed = intervene_upon_generation(\n",
    "        model,\n",
    "        \"\".join(prompt),\n",
    "        turn_right_patch_hook,\n",
    "        do_sample=False,\n",
    "        max_new_tokens=40,\n",
    "        device=DEVICE,\n",
    "    )\n",
    "    prediction_perturbed = model.to_string(prediction_perturbed)[0]\n",
    "\n",
    "\n",
    "    # Plot the output\n",
    "    gs = GridSpec(1, 2)\n",
    "    plot_maze(prediction_original, tokenizer=tokenizer, ax=gs[0, 0], ax_labels={'maze':{'title': 'Original'}})\n",
    "    plot_maze(prediction_perturbed, tokenizer=tokenizer, ax=gs[0, 1], ax_labels={'maze':{'title': 'Perturbed'}});\n",
    "    #print(f\"Layer = {la}\")\n"
   ]
  },
  {
   "cell_type": "code",
   "execution_count": 1140,
   "metadata": {},
   "outputs": [
    {
     "data": {
      "application/vnd.jupyter.widget-view+json": {
       "model_id": "692a93016337470d9dae4ed2a8245d76",
       "version_major": 2,
       "version_minor": 0
      },
      "text/plain": [
       "  0%|          | 0/40 [00:00<?, ?it/s]"
      ]
     },
     "metadata": {},
     "output_type": "display_data"
    },
    {
     "name": "stderr",
     "output_type": "stream",
     "text": [
      " 25%|██▌       | 10/40 [00:01<00:03,  8.45it/s]\n"
     ]
    },
    {
     "data": {
      "image/png": "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",
      "text/plain": [
       "<Figure size 640x480 with 2 Axes>"
      ]
     },
     "metadata": {},
     "output_type": "display_data"
    }
   ],
   "source": [
    "example = dataset_left[19].as_tokens(tokenizer)\n",
    "\n",
    "apply_act_vecs(act_vec7, example)"
   ]
  },
  {
   "cell_type": "code",
   "execution_count": 1141,
   "metadata": {},
   "outputs": [
    {
     "data": {
      "application/vnd.jupyter.widget-view+json": {
       "model_id": "c9755349fac74dcc86eaea067798d6ec",
       "version_major": 2,
       "version_minor": 0
      },
      "text/plain": [
       "  0%|          | 0/40 [00:00<?, ?it/s]"
      ]
     },
     "metadata": {},
     "output_type": "display_data"
    },
    {
     "name": "stderr",
     "output_type": "stream",
     "text": [
      " 35%|███▌      | 14/40 [00:01<00:02,  8.84it/s]\n"
     ]
    },
    {
     "data": {
      "image/png": "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",
      "text/plain": [
       "<Figure size 640x480 with 2 Axes>"
      ]
     },
     "metadata": {},
     "output_type": "display_data"
    }
   ],
   "source": [
    "example = dataset_left[18].as_tokens(tokenizer)\n",
    "\n",
    "apply_act_vecs(act_vec7, example)"
   ]
  },
  {
   "cell_type": "code",
   "execution_count": 1142,
   "metadata": {},
   "outputs": [
    {
     "data": {
      "application/vnd.jupyter.widget-view+json": {
       "model_id": "dee515365ca34042b43b8605461ee7fd",
       "version_major": 2,
       "version_minor": 0
      },
      "text/plain": [
       "  0%|          | 0/40 [00:00<?, ?it/s]"
      ]
     },
     "metadata": {},
     "output_type": "display_data"
    },
    {
     "name": "stderr",
     "output_type": "stream",
     "text": [
      " 20%|██        | 8/40 [00:00<00:03,  8.55it/s]\n"
     ]
    },
    {
     "data": {
      "image/png": "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",
      "text/plain": [
       "<Figure size 640x480 with 2 Axes>"
      ]
     },
     "metadata": {},
     "output_type": "display_data"
    }
   ],
   "source": [
    "example = dataset_left[10].as_tokens(tokenizer)\n",
    "\n",
    "apply_act_vecs(act_vec7, example)"
   ]
  },
  {
   "cell_type": "code",
<<<<<<< HEAD
   "execution_count": 792,
   "metadata": {},
   "outputs": [
    {
     "ename": "NameError",
     "evalue": "name 'dataset_left' is not defined",
     "output_type": "error",
     "traceback": [
      "\u001b[0;31m---------------------------------------------------------------------------\u001b[0m",
      "\u001b[0;31mNameError\u001b[0m                                 Traceback (most recent call last)",
      "Cell \u001b[0;32mIn[792], line 1\u001b[0m\n\u001b[0;32m----> 1\u001b[0m example \u001b[38;5;241m=\u001b[39m \u001b[43mdataset_left\u001b[49m[\u001b[38;5;241m13\u001b[39m]\u001b[38;5;241m.\u001b[39mas_tokens(tokenizer)\n\u001b[1;32m      3\u001b[0m apply_act_vecs(act_vec7, example)\n",
      "\u001b[0;31mNameError\u001b[0m: name 'dataset_left' is not defined"
     ]
=======
   "execution_count": 1143,
   "metadata": {},
   "outputs": [
    {
     "data": {
      "application/vnd.jupyter.widget-view+json": {
       "model_id": "d5756cca1e544db48c564d3500349f9f",
       "version_major": 2,
       "version_minor": 0
      },
      "text/plain": [
       "  0%|          | 0/40 [00:00<?, ?it/s]"
      ]
     },
     "metadata": {},
     "output_type": "display_data"
    },
    {
     "name": "stderr",
     "output_type": "stream",
     "text": [
      " 30%|███       | 12/40 [00:01<00:03,  8.67it/s]\n"
     ]
    },
    {
     "data": {
      "image/png": "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",
      "text/plain": [
       "<Figure size 640x480 with 2 Axes>"
      ]
     },
     "metadata": {},
     "output_type": "display_data"
>>>>>>> e7f9d2a41d56855ee095970487d402844c82cb3d
    }
   ],
   "source": [
    "example = dataset_left[13].as_tokens(tokenizer)\n",
    "\n",
    "apply_act_vecs(act_vec7, example)"
   ]
  },
  {
   "cell_type": "code",
<<<<<<< HEAD
   "execution_count": 793,
   "metadata": {},
   "outputs": [
    {
     "ename": "NameError",
     "evalue": "name 'dataset_left' is not defined",
     "output_type": "error",
     "traceback": [
      "\u001b[0;31m---------------------------------------------------------------------------\u001b[0m",
      "\u001b[0;31mNameError\u001b[0m                                 Traceback (most recent call last)",
      "Cell \u001b[0;32mIn[793], line 1\u001b[0m\n\u001b[0;32m----> 1\u001b[0m example \u001b[38;5;241m=\u001b[39m \u001b[43mdataset_left\u001b[49m[\u001b[38;5;241m9\u001b[39m]\u001b[38;5;241m.\u001b[39mas_tokens(tokenizer)\n\u001b[1;32m      3\u001b[0m apply_act_vecs(act_vec7, example)\n",
      "\u001b[0;31mNameError\u001b[0m: name 'dataset_left' is not defined"
     ]
=======
   "execution_count": 1144,
   "metadata": {},
   "outputs": [
    {
     "data": {
      "application/vnd.jupyter.widget-view+json": {
       "model_id": "5b7fadb900d44155a4eda86fb6d0cff7",
       "version_major": 2,
       "version_minor": 0
      },
      "text/plain": [
       "  0%|          | 0/40 [00:00<?, ?it/s]"
      ]
     },
     "metadata": {},
     "output_type": "display_data"
    },
    {
     "name": "stderr",
     "output_type": "stream",
     "text": [
      "  5%|▌         | 2/40 [00:00<00:06,  6.31it/s]\n"
     ]
    },
    {
     "data": {
      "image/png": "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",
      "text/plain": [
       "<Figure size 640x480 with 2 Axes>"
      ]
     },
     "metadata": {},
     "output_type": "display_data"
>>>>>>> e7f9d2a41d56855ee095970487d402844c82cb3d
    }
   ],
   "source": [
    "example = dataset_left[9].as_tokens(tokenizer)\n",
    "\n",
    "apply_act_vecs(act_vec7, example)"
   ]
  },
  {
   "cell_type": "code",
   "execution_count": 1145,
   "metadata": {},
   "outputs": [
    {
     "data": {
      "application/vnd.jupyter.widget-view+json": {
       "model_id": "d869d5f892f44ef8bc1ff2022b2e1a5d",
       "version_major": 2,
       "version_minor": 0
      },
      "text/plain": [
       "  0%|          | 0/40 [00:00<?, ?it/s]"
      ]
     },
     "metadata": {},
     "output_type": "display_data"
    },
    {
     "name": "stderr",
     "output_type": "stream",
     "text": [
      " 20%|██        | 8/40 [00:00<00:03,  8.32it/s]\n"
     ]
    },
    {
     "data": {
      "image/png": "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",
      "text/plain": [
       "<Figure size 640x480 with 2 Axes>"
      ]
     },
     "metadata": {},
     "output_type": "display_data"
    }
   ],
   "source": [
    "example = dataset_left[22].as_tokens(tokenizer)\n",
    "\n",
    "apply_act_vecs(act_vec7, example)"
   ]
  },
  {
   "cell_type": "code",
   "execution_count": 1095,
   "metadata": {},
   "outputs": [
    {
     "data": {
      "text/plain": [
       "tensor([[[ 0.1096, -2.3806, -0.0313,  ...,  0.0396,  0.1062, -0.0343],\n",
       "         [ 0.1135, -2.3110, -0.0322,  ...,  0.0352,  0.0948, -0.0288],\n",
       "         [ 0.0125,  0.2130,  0.0606,  ...,  0.0049,  0.0237, -0.0898],\n",
       "         ...,\n",
       "         [-0.0405,  0.3791, -0.0162,  ..., -0.0589,  0.1657, -0.1460],\n",
       "         [ 0.1489,  0.2021,  0.0623,  ...,  0.0703, -0.0695,  0.0139],\n",
       "         [-0.0057, -0.5120,  0.0624,  ...,  0.1951,  0.1051,  0.1107]]],\n",
       "       device='mps:0')"
      ]
     },
     "execution_count": 1095,
     "metadata": {},
     "output_type": "execute_result"
    }
   ],
   "source": [
    "act_vec2"
   ]
  },
  {
   "cell_type": "code",
   "execution_count": 1097,
   "metadata": {},
   "outputs": [
    {
     "data": {
      "text/plain": [
       "tensor([[[-0.0120, -2.3313, -0.0416,  ...,  0.0588,  0.1621, -0.1354],\n",
       "         [-0.0087, -2.2620, -0.0429,  ...,  0.0536,  0.1518, -0.1304],\n",
       "         [ 0.1596,  0.5617,  0.2068,  ..., -0.1418,  0.2861,  0.1010],\n",
       "         ...,\n",
       "         [-0.2293, -0.6589,  0.1757,  ...,  0.1183,  0.2678, -0.1087],\n",
       "         [-0.1245,  0.3446, -0.0118,  ...,  0.1242,  0.0612, -0.0547],\n",
       "         [-0.0063, -0.5443, -0.0886,  ...,  0.0216,  0.1021, -0.0163]]],\n",
       "       device='mps:0')"
      ]
     },
     "execution_count": 1097,
     "metadata": {},
     "output_type": "execute_result"
    }
   ],
   "source": [
    "act_vec6"
   ]
  },
  {
   "cell_type": "code",
   "execution_count": null,
   "metadata": {},
   "outputs": [],
   "source": []
  }
 ],
 "metadata": {
  "kernelspec": {
   "display_name": "search_env",
   "language": "python",
   "name": "python3"
  },
  "language_info": {
   "codemirror_mode": {
    "name": "ipython",
    "version": 3
   },
   "file_extension": ".py",
   "mimetype": "text/x-python",
   "name": "python",
   "nbconvert_exporter": "python",
   "pygments_lexer": "ipython3",
   "version": "3.11.7"
  }
 },
 "nbformat": 4,
 "nbformat_minor": 2
}
