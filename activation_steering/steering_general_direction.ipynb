{
 "cells": [
  {
   "cell_type": "markdown",
   "metadata": {},
   "source": [
    "## Creating general direction steering vectors\n",
    "\n",
    "\n",
    "We want to create a set of mazes and then find steering vectors for going in a direction. This would be done by averaging the activations in different mazes everytime they go in a specific direction. Say, finding a general \"right\" vector, could be done by finding all instances in every maze where the model does a \"right step\". We can do this for each direction (right, left, up, down). In addition, to enforce a direction, we can subtract its negative counterpart, e.g. steer_up = up_vector - down_vector. "
   ]
  },
  {
   "cell_type": "code",
   "execution_count": 317,
   "metadata": {},
   "outputs": [
    {
     "data": {
      "text/plain": [
       "{'COMMAND_MODE': 'unix2003',\n",
       " 'HOME': '/Users/benjamin.berczi',\n",
       " 'HOMEBREW_CELLAR': '/opt/homebrew/Cellar',\n",
       " 'HOMEBREW_PREFIX': '/opt/homebrew',\n",
       " 'HOMEBREW_REPOSITORY': '/opt/homebrew',\n",
       " 'INFOPATH': '/opt/homebrew/share/info:',\n",
       " 'LOGNAME': 'benjamin.berczi',\n",
       " 'LaunchInstanceID': '74E4E318-53B5-4B19-8242-DEFF82A98823',\n",
       " 'MANPATH': '/opt/homebrew/share/man::',\n",
       " 'MallocNanoZone': '0',\n",
       " 'OLDPWD': '/',\n",
       " 'ORIGINAL_XDG_CURRENT_DESKTOP': 'undefined',\n",
       " 'PATH': '/opt/homebrew/bin:/Users/benjamin.berczi/Library/Python/3.11/bin:/Users/benjamin.berczi/.rd/bin:/opt/homebrew/bin:/opt/homebrew/sbin:/usr/local/bin:/System/Cryptexes/App/usr/bin:/usr/bin:/bin:/usr/sbin:/sbin:/var/run/com.apple.security.cryptexd/codex.system/bootstrap/usr/local/bin:/var/run/com.apple.security.cryptexd/codex.system/bootstrap/usr/bin:/var/run/com.apple.security.cryptexd/codex.system/bootstrap/usr/appleinternal/bin:/Users/benjamin.berczi/.rd/bin:/opt/homebrew/bin:/opt/homebrew/sbin:/usr/local/bin:/System/Cryptexes/App/usr/bin:/usr/bin:/bin:/usr/sbin:/sbin:/var/run/com.apple.security.cryptexd/codex.system/bootstrap/usr/local/bin:/var/run/com.apple.security.cryptexd/codex.system/bootstrap/usr/bin:/var/run/com.apple.security.cryptexd/codex.system/bootstrap/usr/appleinternal/bin',\n",
       " 'PWD': '/',\n",
       " 'SECURITYSESSIONID': '186b2',\n",
       " 'SHELL': '/bin/zsh',\n",
       " 'SHLVL': '0',\n",
       " 'SSH_AUTH_SOCK': '/private/tmp/com.apple.launchd.R7R9khr3np/Listeners',\n",
       " 'TMPDIR': '/var/folders/z5/k_gvzs715zz85rhc9nwmk4kw0000gp/T/',\n",
       " 'USER': 'benjamin.berczi',\n",
       " 'VSCODE_AMD_ENTRYPOINT': 'vs/workbench/api/node/extensionHostProcess',\n",
       " 'VSCODE_CODE_CACHE_PATH': '/Users/benjamin.berczi/Library/Application Support/Code/CachedData/019f4d1419fbc8219a181fab7892ebccf7ee29a2',\n",
       " 'VSCODE_CRASH_REPORTER_PROCESS_TYPE': 'extensionHost',\n",
       " 'VSCODE_CWD': '/',\n",
       " 'VSCODE_HANDLES_UNCAUGHT_ERRORS': 'true',\n",
       " 'VSCODE_IPC_HOOK': '/Users/benjamin.berczi/Library/Application Support/Code/1.87-main.sock',\n",
       " 'VSCODE_NLS_CONFIG': '{\"locale\":\"en-gb\",\"osLocale\":\"en-gb\",\"availableLanguages\":{},\"_languagePackSupport\":true}',\n",
       " 'VSCODE_PID': '961',\n",
       " 'XPC_FLAGS': '0x0',\n",
       " 'XPC_SERVICE_NAME': 'application.com.microsoft.VSCode.3833237.3833243',\n",
       " '_': '/Applications/Visual Studio Code.app/Contents/MacOS/Electron',\n",
       " '__CFBundleIdentifier': 'com.microsoft.VSCode',\n",
       " '__CF_USER_TEXT_ENCODING': '0x1F6:0:2',\n",
       " 'ELECTRON_RUN_AS_NODE': '1',\n",
       " 'VSCODE_L10N_BUNDLE_LOCATION': '',\n",
       " 'PYDEVD_IPYTHON_COMPATIBLE_DEBUGGING': '1',\n",
       " 'PYTHONUNBUFFERED': '1',\n",
       " 'PYTHONIOENCODING': 'utf-8',\n",
       " 'LC_CTYPE': 'UTF-8',\n",
       " 'PYDEVD_USE_FRAME_EVAL': 'NO',\n",
       " 'TERM': 'xterm-color',\n",
       " 'CLICOLOR': '1',\n",
       " 'FORCE_COLOR': '1',\n",
       " 'CLICOLOR_FORCE': '1',\n",
       " 'PAGER': 'cat',\n",
       " 'GIT_PAGER': 'cat',\n",
       " 'MPLBACKEND': 'module://matplotlib_inline.backend_inline',\n",
       " 'CUDA_VISIBLE_DEVICES': '',\n",
       " 'PYTORCH_ENABLE_MPS_FALLBACK': '1',\n",
       " 'CUBLAS_WORKSPACE_CONFIG': ':4096:8',\n",
       " 'WANDB_TMPDIR': '/tmp',\n",
       " 'WANDB_SERVICE': '2-32977-tcp-localhost-57512'}"
      ]
     },
     "execution_count": 317,
     "metadata": {},
     "output_type": "execute_result"
    }
   ],
   "source": [
    "%env"
   ]
  },
  {
   "cell_type": "code",
   "execution_count": 318,
   "metadata": {},
   "outputs": [],
   "source": [
    "import os \n",
    "PYTORCH_ENABLE_MPS_FALLBACK=1\n",
    "CUDA_VISIBLE_DEVICES=\"\"\n",
    "os.environ[\"CUDA_VISIBLE_DEVICES\"]=\"\"\n",
    "os.environ[\"PYTORCH_ENABLE_MPS_FALLBACK\"]=\"1\"\n"
   ]
  },
  {
   "cell_type": "code",
   "execution_count": 319,
   "metadata": {},
   "outputs": [],
   "source": [
    "import sys\n",
    "sys.path\n",
    "\n",
    "sys.path.append(\"/Users/benjamin.berczi/Documents/maze-dataset\")\n",
    "sys.path.append(\"/Users/benjamin.berczi/Documents/maze-transformer-1\")\n",
    "sys.path.append(\"/Users/benjamin.berczi/Documents/research\")\n",
    "sys.path.append(\"/Users/benjamin.berczi/Documents/research/unsearch_research\")\n"
   ]
  },
  {
   "cell_type": "code",
   "execution_count": 320,
   "metadata": {},
   "outputs": [
    {
     "name": "stdout",
     "output_type": "stream",
     "text": [
      "The autoreload extension is already loaded. To reload it, use:\n",
      "  %reload_ext autoreload\n",
      "dict_keys(['test-g3-n5-a_dfs-h75556', 'demo_small-g3-n100-a_dfs-h88371', 'demo-g6-n10K-a_dfs-h30615'])\n"
     ]
    }
   ],
   "source": [
    "# Imports\n",
    "%load_ext autoreload\n",
    "%autoreload 2\n",
    "\n",
    "# General Utilities\n",
    "from pathlib import Path\n",
    "\n",
    "# Generic ML\n",
    "import numpy as np\n",
    "import torch\n",
    "from torch.utils.data import DataLoader\n",
    "torch.set_float32_matmul_precision('medium') # if your GPU has TensorCores\n",
    "\n",
    "# Maze Transformer and Dataset\n",
    "\n",
    "# Other useful things\n",
    "from muutils.nbutils.configure_notebook import configure_notebook\n",
    "from unsearch_research import *\n",
    "\n",
    "# other package imports\n",
    "import matplotlib.pyplot as plt # keep this import for CI to work\n",
    "from zanj import ZANJ # saving/loading data\n",
    "from muutils.mlutils import pprint_summary # pretty printing as json\n",
    "\n",
    "# maze_dataset imports\n",
    "\n",
    "from maze_dataset import LatticeMaze, SolvedMaze, MazeDataset, MazeDatasetConfig\n",
    "from maze_dataset.tokenization import MazeTokenizer, TokenizationMode\n",
    "from maze_dataset.generation import LatticeMazeGenerators, GENERATORS_MAP\n",
    "from maze_dataset.generation.default_generators import DEFAULT_GENERATORS\n",
    "from maze_dataset.dataset.configs import MAZE_DATASET_CONFIGS\n",
    "from maze_dataset.plotting import plot_dataset_mazes, print_dataset_mazes\n",
    "\n",
    "from unsearch_research.stable.analysis import intervene_upon_generation\n",
    "\n",
    "from matplotlib.gridspec import GridSpec\n",
    "\n",
    "\n",
    "# check the configs\n",
    "print(MAZE_DATASET_CONFIGS.keys())\n",
    "# for saving/loading things\n",
    "zanj: ZANJ = ZANJ(external_list_threshold=256)"
   ]
  },
  {
   "cell_type": "code",
   "execution_count": 321,
   "metadata": {},
   "outputs": [
    {
     "name": "stdout",
     "output_type": "stream",
     "text": [
      "set up plots with PLOT_MODE = 'inline', FIG_OUTPUT_FMT = None, FIG_BASEPATH = None\n"
     ]
    }
   ],
   "source": [
    "# Configuration\n",
    "SEED = 42\n",
    "DARK_MODE = True\n",
    "LOCAL_DATA_PATH = Path(\"/Users/benjamin.berczi/Documents\")\n",
    "#LOCAL_DATA_PATH: str = \"../data/maze_dataset\"\n",
    "\n",
    "DEVICE = configure_notebook(\n",
    "    seed=SEED,\n",
    "    dark_mode=DARK_MODE,\n",
    "    device=None,  # Defaults GPU > MPS > CPU\n",
    ")\n",
    "set_unsearch_style(dark_mode=DARK_MODE) # Matplotlib style"
   ]
  },
  {
   "cell_type": "code",
   "execution_count": 322,
   "metadata": {},
   "outputs": [
    {
     "name": "stdout",
     "output_type": "stream",
     "text": [
      "Downloading model from aisc-search/mixed_maze_sweep/mixed_maze_sweep02_10-seed_1-lr_0.001-h_8-l_12-d_512-posembed_standard-20240210223618\n",
      "Loading latest checkpoint\n",
      "Model already downloaded to /Users/benjamin.berczi/Documents/downloaded_models/mixed_maze_sweep02_10-seed_1-lr_0.001-h_8-l_12-d_512-posembed_standard-20240210223618\n"
     ]
    }
   ],
   "source": [
    "model_run_id1 = \"mixed_maze_sweep02_10-seed_1-lr_0.001-h_8-l_12-d_512-posembed_standard-20240210223618\"\n",
    "model_run_id2 = \"mixed_maze_sweep02_12-seed_2-lr_0.0001-h_8-l_8-d_512-posembed_standard-20240212110545\"\n",
    "model_run_id3 = \"mixed_maze_sweep02_10-seed_1-lr_0.0001-h_8-l_6-d_512-posembed_standard-20240210223546\"\n",
    "\n",
    "model, cfg = load_wandb_model(\n",
    "    entity=\"aisc-search\",\n",
    "    project=\"mixed_maze_sweep\",\n",
    "    run_id=model_run_id1,\n",
    "    # The following may be required for some older models with incomplete cfgs on wandb\n",
    "    # you'll know because loading will complain about mismatched position embedding weights\n",
    "    # config_overrides={\"model_cfg\": {\"positional_embedding_type\": \"rotary\"}},\n",
    "    output_path=LOCAL_DATA_PATH / \"downloaded_models\",\n",
    ")"
   ]
  },
  {
   "cell_type": "markdown",
   "metadata": {},
   "source": []
  },
  {
   "cell_type": "markdown",
   "metadata": {},
   "source": []
  },
  {
   "cell_type": "code",
   "execution_count": 323,
   "metadata": {},
   "outputs": [],
   "source": [
    "# Load a dataset\n",
    "tokenizer: MazeTokenizer = MazeTokenizer(tokenization_mode=TokenizationMode.AOTP_UT_rasterized, max_grid_size=7)\n",
    "\n",
    "cfg = MazeDatasetConfig(\n",
    "    name=\"test\",\n",
    "    grid_n=5,\n",
    "    n_mazes=10,\n",
    "    maze_ctor=LatticeMazeGenerators.gen_dfs,\n",
    "    #maze_ctor_kwargs=dict(do_forks=False),\n",
    "\n",
    ")\n",
    "\n",
    "dataset = MazeDataset.from_config(\n",
    "\tcfg,\n",
    "\tload_local=True,\n",
    "\tdo_generate=True,\n",
    "    save_local=True,\n",
    "\tlocal_base_path=LOCAL_DATA_PATH / 'mazes',\n",
    "\tverbose=False,\n",
    ")"
   ]
  },
  {
   "cell_type": "markdown",
   "metadata": {},
   "source": [
    "## Creating data set\n",
    "\n",
    "To find instances of steps in all directions, we have a choice to either restrict ourselves to one maze architecture (walls and stuff are the same, and we just change the starting and ending point) or we make it more general and have different mazes (and in that case probably we should vary the start and end points as well)."
   ]
  },
  {
   "cell_type": "code",
   "execution_count": 324,
   "metadata": {},
   "outputs": [
    {
     "name": "stdout",
     "output_type": "stream",
     "text": [
      "###########\n",
      "#    XXX# #\n",
      "# ###X#X# #\n",
      "#   #X#S  #\n",
      "#####X#####\n",
      "#XXXXX#EXX#\n",
      "#X### ###X#\n",
      "#X#     #X#\n",
      "#X#######X#\n",
      "#XXXXXXXXX#\n",
      "###########\n",
      "{'func_name': 'gen_dfs', 'grid_shape': array([5, 5]), 'start_coord': array([2, 3]), 'n_accessible_cells': 25, 'max_tree_depth': 50, 'fully_connected': True, 'visited_cells': [[4, 0], [3, 4], [4, 3], [3, 1], [0, 2], [2, 2], [1, 0], [1, 3], [4, 2], [3, 0], [3, 3], [0, 1], [2, 4], [1, 2], [0, 4], [2, 1], [3, 2], [4, 1], [4, 4], [0, 0], [1, 1], [0, 3], [2, 0], [1, 4], [2, 3]]}\n"
     ]
    }
   ],
   "source": [
    "maze: SolvedMaze = dataset[0]\n",
    "\n",
    "print(maze.as_ascii())\n",
    "\n",
    "print(maze.generation_meta)\n",
    "\n",
    "lattice_maze: LatticeMaze = LatticeMaze(\n",
    "\tconnection_list=maze.connection_list,\n",
    "\tgeneration_meta=maze.generation_meta,\n",
    ")"
   ]
  },
  {
   "cell_type": "code",
   "execution_count": 325,
   "metadata": {},
   "outputs": [],
   "source": [
    "N=100\n",
    "\n",
    "variants: list[SolvedMaze] = [\n",
    "\tSolvedMaze(\n",
    "\t\tconnection_list=lattice_maze.connection_list,\n",
    "\t\tgeneration_meta=lattice_maze.generation_meta,\n",
    "\t\tsolution=lattice_maze.generate_random_path(),\n",
    "\t)\n",
    "\tfor _ in range(N)\n",
    "]\n",
    "variants_dataset = MazeDataset(\n",
    "\tcfg=dataset.cfg,\n",
    "\tmazes=variants,\n",
    ")"
   ]
  },
  {
   "cell_type": "code",
   "execution_count": 326,
   "metadata": {},
   "outputs": [
    {
     "data": {
      "text/plain": [
       "(<Figure size 10000x200 with 100 Axes>,\n",
       " array([<Axes: >, <Axes: >, <Axes: >, <Axes: >, <Axes: >, <Axes: >,\n",
       "        <Axes: >, <Axes: >, <Axes: >, <Axes: >, <Axes: >, <Axes: >,\n",
       "        <Axes: >, <Axes: >, <Axes: >, <Axes: >, <Axes: >, <Axes: >,\n",
       "        <Axes: >, <Axes: >, <Axes: >, <Axes: >, <Axes: >, <Axes: >,\n",
       "        <Axes: >, <Axes: >, <Axes: >, <Axes: >, <Axes: >, <Axes: >,\n",
       "        <Axes: >, <Axes: >, <Axes: >, <Axes: >, <Axes: >, <Axes: >,\n",
       "        <Axes: >, <Axes: >, <Axes: >, <Axes: >, <Axes: >, <Axes: >,\n",
       "        <Axes: >, <Axes: >, <Axes: >, <Axes: >, <Axes: >, <Axes: >,\n",
       "        <Axes: >, <Axes: >, <Axes: >, <Axes: >, <Axes: >, <Axes: >,\n",
       "        <Axes: >, <Axes: >, <Axes: >, <Axes: >, <Axes: >, <Axes: >,\n",
       "        <Axes: >, <Axes: >, <Axes: >, <Axes: >, <Axes: >, <Axes: >,\n",
       "        <Axes: >, <Axes: >, <Axes: >, <Axes: >, <Axes: >, <Axes: >,\n",
       "        <Axes: >, <Axes: >, <Axes: >, <Axes: >, <Axes: >, <Axes: >,\n",
       "        <Axes: >, <Axes: >, <Axes: >, <Axes: >, <Axes: >, <Axes: >,\n",
       "        <Axes: >, <Axes: >, <Axes: >, <Axes: >, <Axes: >, <Axes: >,\n",
       "        <Axes: >, <Axes: >, <Axes: >, <Axes: >, <Axes: >, <Axes: >,\n",
       "        <Axes: >, <Axes: >, <Axes: >, <Axes: >], dtype=object))"
      ]
     },
     "execution_count": 326,
     "metadata": {},
     "output_type": "execute_result"
    },
    {
     "data": {
      "image/png": "[encoded data removed]",
      "text/plain": [
       "<Figure size 10000x200 with 100 Axes>"
      ]
     },
     "metadata": {},
     "output_type": "display_data"
    }
   ],
   "source": [
    "plot_dataset_mazes(variants_dataset)"
   ]
  },
  {
   "cell_type": "markdown",
   "metadata": {},
   "source": [
    "Now, we just create filtered data sets for any direction. There will be a data set where the maze starts going in the desired direction (positive direction) and one data set where the maze goes the opposite one (negative direction). So we will have a positive and negative data set."
   ]
  },
  {
   "cell_type": "code",
   "execution_count": 327,
   "metadata": {},
   "outputs": [
    {
     "data": {
      "text/plain": [
       "(<Figure size 7400x200 with 74 Axes>,\n",
       " array([<Axes: >, <Axes: >, <Axes: >, <Axes: >, <Axes: >, <Axes: >,\n",
       "        <Axes: >, <Axes: >, <Axes: >, <Axes: >, <Axes: >, <Axes: >,\n",
       "        <Axes: >, <Axes: >, <Axes: >, <Axes: >, <Axes: >, <Axes: >,\n",
       "        <Axes: >, <Axes: >, <Axes: >, <Axes: >, <Axes: >, <Axes: >,\n",
       "        <Axes: >, <Axes: >, <Axes: >, <Axes: >, <Axes: >, <Axes: >,\n",
       "        <Axes: >, <Axes: >, <Axes: >, <Axes: >, <Axes: >, <Axes: >,\n",
       "        <Axes: >, <Axes: >, <Axes: >, <Axes: >, <Axes: >, <Axes: >,\n",
       "        <Axes: >, <Axes: >, <Axes: >, <Axes: >, <Axes: >, <Axes: >,\n",
       "        <Axes: >, <Axes: >, <Axes: >, <Axes: >, <Axes: >, <Axes: >,\n",
       "        <Axes: >, <Axes: >, <Axes: >, <Axes: >, <Axes: >, <Axes: >,\n",
       "        <Axes: >, <Axes: >, <Axes: >, <Axes: >, <Axes: >, <Axes: >,\n",
       "        <Axes: >, <Axes: >, <Axes: >, <Axes: >, <Axes: >, <Axes: >,\n",
       "        <Axes: >, <Axes: >], dtype=object))"
      ]
     },
     "execution_count": 327,
     "metadata": {},
     "output_type": "execute_result"
    },
    {
     "data": {
      "image/png": "[encoded data removed]",
      "text/plain": [
       "<Figure size 7400x200 with 74 Axes>"
      ]
     },
     "metadata": {},
     "output_type": "display_data"
    }
   ],
   "source": [
    "dataset_filtered: MazeDataset = variants_dataset.custom_maze_filter(\n",
    "\tlambda m : len(m.get_coord_neighbors(m.start_pos)) > 1\n",
    ")\n",
    "\n",
    "plot_dataset_mazes(dataset_filtered)"
   ]
  },
  {
   "cell_type": "code",
   "execution_count": 328,
   "metadata": {},
   "outputs": [
    {
     "data": {
      "text/plain": [
       "(<Figure size 10000x200 with 100 Axes>,\n",
       " array([<Axes: >, <Axes: >, <Axes: >, <Axes: >, <Axes: >, <Axes: >,\n",
       "        <Axes: >, <Axes: >, <Axes: >, <Axes: >, <Axes: >, <Axes: >,\n",
       "        <Axes: >, <Axes: >, <Axes: >, <Axes: >, <Axes: >, <Axes: >,\n",
       "        <Axes: >, <Axes: >, <Axes: >, <Axes: >, <Axes: >, <Axes: >,\n",
       "        <Axes: >, <Axes: >, <Axes: >, <Axes: >, <Axes: >, <Axes: >,\n",
       "        <Axes: >, <Axes: >, <Axes: >, <Axes: >, <Axes: >, <Axes: >,\n",
       "        <Axes: >, <Axes: >, <Axes: >, <Axes: >, <Axes: >, <Axes: >,\n",
       "        <Axes: >, <Axes: >, <Axes: >, <Axes: >, <Axes: >, <Axes: >,\n",
       "        <Axes: >, <Axes: >, <Axes: >, <Axes: >, <Axes: >, <Axes: >,\n",
       "        <Axes: >, <Axes: >, <Axes: >, <Axes: >, <Axes: >, <Axes: >,\n",
       "        <Axes: >, <Axes: >, <Axes: >, <Axes: >, <Axes: >, <Axes: >,\n",
       "        <Axes: >, <Axes: >, <Axes: >, <Axes: >, <Axes: >, <Axes: >,\n",
       "        <Axes: >, <Axes: >, <Axes: >, <Axes: >, <Axes: >, <Axes: >,\n",
       "        <Axes: >, <Axes: >, <Axes: >, <Axes: >, <Axes: >, <Axes: >,\n",
       "        <Axes: >, <Axes: >, <Axes: >, <Axes: >, <Axes: >, <Axes: >,\n",
       "        <Axes: >, <Axes: >, <Axes: >, <Axes: >, <Axes: >, <Axes: >,\n",
       "        <Axes: >, <Axes: >, <Axes: >, <Axes: >], dtype=object))"
      ]
     },
     "execution_count": 328,
     "metadata": {},
     "output_type": "execute_result"
    },
    {
     "data": {
      "image/png": "[encoded data removed]",
      "text/plain": [
       "<Figure size 10000x200 with 100 Axes>"
      ]
     },
     "metadata": {},
     "output_type": "display_data"
    }
   ],
   "source": [
    "plot_dataset_mazes(variants_dataset)"
   ]
  },
  {
   "cell_type": "markdown",
   "metadata": {},
   "source": [
    "## Creating data set that always starts with a specific direction (and its opposite)"
   ]
  },
  {
   "cell_type": "code",
   "execution_count": 329,
   "metadata": {},
   "outputs": [
    {
     "data": {
      "text/plain": [
       "(<Figure size 3300x200 with 33 Axes>,\n",
       " array([<Axes: >, <Axes: >, <Axes: >, <Axes: >, <Axes: >, <Axes: >,\n",
       "        <Axes: >, <Axes: >, <Axes: >, <Axes: >, <Axes: >, <Axes: >,\n",
       "        <Axes: >, <Axes: >, <Axes: >, <Axes: >, <Axes: >, <Axes: >,\n",
       "        <Axes: >, <Axes: >, <Axes: >, <Axes: >, <Axes: >, <Axes: >,\n",
       "        <Axes: >, <Axes: >, <Axes: >, <Axes: >, <Axes: >, <Axes: >,\n",
       "        <Axes: >, <Axes: >, <Axes: >], dtype=object))"
      ]
     },
     "execution_count": 329,
     "metadata": {},
     "output_type": "execute_result"
    },
    {
     "data": {
      "image/png": "[encoded data removed]",
      "text/plain": [
       "<Figure size 3300x200 with 33 Axes>"
      ]
     },
     "metadata": {},
     "output_type": "display_data"
    }
   ],
   "source": [
    "dataset_right: MazeDataset = variants_dataset.custom_maze_filter(\n",
    "\tlambda m : m.get_solution_tokens()[1][1] < m.get_solution_tokens()[2][1]\n",
    ")\n",
    "\n",
    "dataset_left: MazeDataset = variants_dataset.custom_maze_filter(\n",
    "\tlambda m : m.get_solution_tokens()[1][1] > m.get_solution_tokens()[2][1]\n",
    ")\n",
    "\n",
    "dataset_up: MazeDataset = variants_dataset.custom_maze_filter(\n",
    "\tlambda m : m.get_solution_tokens()[1][0] > m.get_solution_tokens()[2][0]\n",
    ")\n",
    "\n",
    "dataset_down: MazeDataset = variants_dataset.custom_maze_filter(\n",
    "\tlambda m : m.get_solution_tokens()[1][0] < m.get_solution_tokens()[2][0]\n",
    ")\n",
    "\n",
    "plot_dataset_mazes(dataset_left)"
   ]
  },
  {
   "cell_type": "markdown",
   "metadata": {},
   "source": [
    "# Actual steering"
   ]
  },
  {
   "cell_type": "code",
   "execution_count": 330,
   "metadata": {},
   "outputs": [],
   "source": [
    "steering_direction = 'down'\n",
    "\n",
    "layer = 5\n",
    "coeff = 5\n",
    "\n",
    "batch_size = 1\n",
    "seq_length = 106\n",
    "hidden_dim = 512\n",
    "\n",
    "shape = torch.Size([batch_size, seq_length, hidden_dim])"
   ]
  },
  {
   "cell_type": "code",
   "execution_count": 331,
   "metadata": {},
   "outputs": [],
   "source": [
    "if steering_direction == 'left':\n",
    "    dataset_pos = dataset_left\n",
    "    dataset_neg = dataset_right\n",
    "elif steering_direction == 'right':\n",
    "    dataset_pos = dataset_right\n",
    "    dataset_neg = dataset_left\n",
    "elif steering_direction == 'up':\n",
    "    dataset_pos = dataset_up\n",
    "    dataset_neg = dataset_down\n",
    "elif steering_direction == 'down':\n",
    "    dataset_pos = dataset_down\n",
    "    dataset_neg = dataset_up"
   ]
  },
  {
   "cell_type": "code",
   "execution_count": 332,
   "metadata": {},
   "outputs": [
    {
     "data": {
      "text/plain": [
       "(15, 25)"
      ]
     },
     "execution_count": 332,
     "metadata": {},
     "output_type": "execute_result"
    }
   ],
   "source": [
    "len(dataset_pos), len(dataset_neg)"
   ]
  },
  {
   "cell_type": "code",
   "execution_count": 333,
   "metadata": {},
   "outputs": [],
   "source": [
    "cache_n_pos=torch.zeros(shape)\n",
    "cache_n_pos = cache_n_pos.to(DEVICE)\n",
    "for i in range(len(dataset_pos)):\n",
    "    # Prepare example and hook\n",
    "    example = dataset_pos[i].as_tokens(tokenizer)\n",
    "    prompt, soln = example[: example.index(\"<PATH_START>\") + 1], example[example.index(\"<PATH_START>\") + 1 :]\n",
    "\n",
    "    name = f\"blocks.{layer}.hook_resid_pre\"\n",
    "    cache, caching_hooks, _ = model.get_caching_hooks(lambda n: n == name)\n",
    "    with model.hooks(fwd_hooks=caching_hooks):\n",
    "        _ = model(\" \".join(prompt))\n",
    "    cache_n_pos+= cache[name]/len(dataset_pos)"
   ]
  },
  {
   "cell_type": "code",
   "execution_count": 334,
   "metadata": {},
   "outputs": [],
   "source": [
    "cache_n_neg=torch.zeros(shape)\n",
    "cache_n_neg = cache_n_neg.to(DEVICE)\n",
    "\n",
    "for i in range(len(dataset_neg)):\n",
    "    # Prepare example and hook\n",
    "    example = dataset_neg[i].as_tokens(tokenizer)\n",
    "    prompt, soln = example[: example.index(\"<PATH_START>\") + 1], example[example.index(\"<PATH_START>\") + 1 :]\n",
    "\n",
    "    name = f\"blocks.{layer}.hook_resid_pre\"\n",
    "    cache, caching_hooks, _ = model.get_caching_hooks(lambda n: True)\n",
    "    with model.hooks(fwd_hooks=caching_hooks):\n",
    "        _ = model(\" \".join(prompt))\n",
    "    cache_n_neg += cache[name]/len(dataset_neg)"
   ]
  },
  {
   "cell_type": "code",
   "execution_count": 335,
   "metadata": {},
   "outputs": [],
   "source": [
    "act_diff = cache_n_pos-cache_n_neg"
   ]
  },
  {
   "cell_type": "code",
   "execution_count": 336,
   "metadata": {},
   "outputs": [],
   "source": [
    "def patching_hook_direction(model_in, token_to_patch, layer_to_patch, coeff, act):\n",
    "    # Model in is list of str tokens (could batch tensor and use gather)\n",
    "    def layer_output_patch_hook(inp, hook):\n",
    "        # inp has shape [batch_size, seq_len, hidden_dim]\n",
    "\n",
    "        if inp.shape[1] == 1:\n",
    "            return  \n",
    "        \n",
    "        ppos, apos = inp.shape[1], act.shape[1]\n",
    "\n",
    "        if apos <= ppos:\n",
    "            inp[:, :apos, :] += coeff * act\n",
    "        else:\n",
    "            inp += coeff * act[:,apos-ppos:]\n",
    "        \n",
    "        return inp\n",
    "\n",
    "    return [(f\"blocks.{layer_to_patch}.hook_resid_post\", layer_output_patch_hook)]\n",
    "\n",
    "\n",
    "def patching_hook_direction2(model_in, token_to_patch, layer_to_patch, coeff, act):\n",
    "    # Model in is list of str tokens (could batch tensor and use gather)\n",
    "    def layer_output_patch_hook(inp, hook):\n",
    "        # inp has shape [batch_size, seq_len, hidden_dim]\n",
    "\n",
    "        matched_pos = model_in.index(token_to_patch)\n",
    "\n",
    "        # patch inp at matched_pos\n",
    "        inp[:,matched_pos] += coeff * act[:,matched_pos+1] #5 * torch.randn_like(inp[:, 0, :])#\n",
    "        #print(inp)\n",
    "        return inp\n",
    "\n",
    "    return [(f\"blocks.{layer_to_patch}.hook_resid_post\", layer_output_patch_hook)]"
   ]
  },
  {
   "cell_type": "code",
   "execution_count": 337,
   "metadata": {},
   "outputs": [
    {
     "data": {
      "text/plain": [
       "['<PATH_START>',\n",
       " '(3,0)',\n",
       " '(2,0)',\n",
       " '(2,1)',\n",
       " '(2,2)',\n",
       " '(1,2)',\n",
       " '(0,2)',\n",
       " '(0,1)',\n",
       " '(0,0)',\n",
       " '(1,0)',\n",
       " '(1,1)',\n",
       " '<PATH_END>']"
      ]
     },
     "execution_count": 337,
     "metadata": {},
     "output_type": "execute_result"
    }
   ],
   "source": [
    "example[example.index(\"<PATH_START>\") : ]"
   ]
  },
  {
   "cell_type": "code",
   "execution_count": 338,
   "metadata": {},
   "outputs": [
    {
     "data": {
      "text/plain": [
       "(<Figure size 2500x200 with 25 Axes>,\n",
       " array([<Axes: >, <Axes: >, <Axes: >, <Axes: >, <Axes: >, <Axes: >,\n",
       "        <Axes: >, <Axes: >, <Axes: >, <Axes: >, <Axes: >, <Axes: >,\n",
       "        <Axes: >, <Axes: >, <Axes: >, <Axes: >, <Axes: >, <Axes: >,\n",
       "        <Axes: >, <Axes: >, <Axes: >, <Axes: >, <Axes: >, <Axes: >,\n",
       "        <Axes: >], dtype=object))"
      ]
     },
     "execution_count": 338,
     "metadata": {},
     "output_type": "execute_result"
    },
    {
     "data": {
      "image/png": "[encoded data removed]",
      "text/plain": [
       "<Figure size 2500x200 with 25 Axes>"
      ]
     },
     "metadata": {},
     "output_type": "display_data"
    }
   ],
   "source": [
    "plot_dataset_mazes(dataset_neg)"
   ]
  },
  {
   "cell_type": "code",
   "execution_count": 422,
   "metadata": {},
   "outputs": [
    {
     "data": {
      "application/vnd.jupyter.widget-view+json": {
       "model_id": "40be1558d7db44d8813df91ead58c83f",
       "version_major": 2,
       "version_minor": 0
      },
      "text/plain": [
       "  0%|          | 0/40 [00:00<?, ?it/s]"
      ]
     },
     "metadata": {},
     "output_type": "display_data"
    },
    {
     "data": {
      "application/vnd.jupyter.widget-view+json": {
       "model_id": "2ca0476144e94213bce1705201b2eb99",
       "version_major": 2,
       "version_minor": 0
      },
      "text/plain": [
       "  0%|          | 0/40 [00:00<?, ?it/s]"
      ]
     },
     "metadata": {},
     "output_type": "display_data"
    }
   ],
   "source": [
    "# Prepare example and hook\n",
    "example = dataset_left[0].as_tokens(tokenizer)\n",
    "prompt, soln = example[: example.index(\"<PATH_START>\") + 1], example[example.index(\"<PATH_START>\") + 1 :]\n",
    "\n",
    "direction_patch_hook = patching_hook_direction2(prompt, example[example.index(\"<PATH_START>\") + 2], layer, 30, act_diff)\n",
    "\n",
    "\n",
    "# Run intervention - generate with hook applied to same layer\n",
    "#                    and token at each step of the rollout\n",
    "\n",
    "prediction_original = model.generate(\n",
    "    \" \".join(prompt),\n",
    "    prepend_bos=False,\n",
    "    max_new_tokens=40,\n",
    "    temperature=0,\n",
    "    do_sample=False,\n",
    ")\n",
    "\n",
    "prediction_perturbed = intervene_upon_generation(\n",
    "    model,\n",
    "    \" \".join(prompt),\n",
    "    direction_patch_hook,\n",
    "    do_sample=False,\n",
    "    max_new_tokens=40,\n",
    "    device=DEVICE,\n",
    ")\n",
    "prediction_perturbed = model.to_string(prediction_perturbed)[0]"
   ]
  },
  {
   "cell_type": "code",
   "execution_count": 423,
   "metadata": {},
   "outputs": [
    {
     "name": "stdout",
     "output_type": "stream",
     "text": [
      "Layer = 5\n"
     ]
    },
    {
     "data": {
      "image/png": "[encoded data removed]",
      "text/plain": [
       "<Figure size 640x480 with 2 Axes>"
      ]
     },
     "metadata": {},
     "output_type": "display_data"
    }
   ],
   "source": [
    "\n",
    "# Plot the output\n",
    "gs = GridSpec(1, 2)\n",
    "\n",
    "plot_maze(prediction_original, tokenizer=tokenizer, ax=gs[0, 0], ax_labels={'maze':{'title': 'Original'}})\n",
    "plot_maze(prediction_perturbed, tokenizer=tokenizer, ax=gs[0, 1], ax_labels={'maze':{'title': 'Perturbed'}});\n",
    "print(f\"Layer = {layer}\")"
   ]
  },
  {
   "cell_type": "code",
   "execution_count": 368,
   "metadata": {},
   "outputs": [],
   "source": [
    "per = prediction_perturbed[prediction_perturbed.index(\"<PATH_START>\") + 1 :]\n",
    "ori = prediction_original[prediction_original.index(\"<PATH_START>\") + 1 :]"
   ]
  },
  {
   "cell_type": "code",
   "execution_count": 395,
   "metadata": {},
   "outputs": [
    {
     "name": "stdout",
     "output_type": "stream",
     "text": [
      "True\n"
     ]
    }
   ],
   "source": [
    "import numpy as np\n",
    "p = np.array(tokenizer.strings_to_coords(per))\n",
    "o = np.array(tokenizer.strings_to_coords(ori))\n",
    "\n",
    "result = all(p[1] - p[0] == [-1, 0])\n",
    "print(result)\n"
   ]
  },
  {
   "cell_type": "code",
   "execution_count": null,
   "metadata": {},
   "outputs": [],
   "source": []
  },
  {
   "cell_type": "code",
   "execution_count": 344,
   "metadata": {},
   "outputs": [],
   "source": [
    "def find_vector(data_set, layer):\n",
    "\n",
    "    cache_n=torch.zeros(shape)\n",
    "    cache_n = cache_n.to(DEVICE)\n",
    "\n",
    "    for i in range(len(data_set)):\n",
    "        # Prepare example and hook\n",
    "        example = data_set[i].as_tokens(tokenizer)\n",
    "        prompt, soln = example[: example.index(\"<PATH_START>\") + 1], example[example.index(\"<PATH_START>\") + 1 :]\n",
    "\n",
    "        name = f\"blocks.{layer}.hook_resid_pre\"\n",
    "        cache, caching_hooks, _ = model.get_caching_hooks(lambda n: n == name)\n",
    "        with model.hooks(fwd_hooks=caching_hooks):\n",
    "            _ = model(\" \".join(prompt))\n",
    "        cache_n+= cache[name]/len(data_set)\n",
    "\n",
    "    return cache_n\n",
    "\n"
   ]
  },
  {
   "cell_type": "code",
   "execution_count": 345,
   "metadata": {},
   "outputs": [],
   "source": [
    "def create_activation_vector(pos_data_set, neg_data_set, layer):\n",
    "\n",
    "    pos_vec = find_vector(pos_data_set, layer)\n",
    "    neg_vec = find_vector(neg_data_set, layer)\n",
    "\n",
    "    return pos_vec-neg_vec"
   ]
  },
  {
   "cell_type": "code",
   "execution_count": 346,
   "metadata": {},
   "outputs": [],
   "source": [
    "\n",
    "act_vec0 = create_activation_vector(dataset_pos, dataset_neg, 0)\n",
    "act_vec1 = create_activation_vector(dataset_pos, dataset_neg, 1)\n",
    "act_vec2 = create_activation_vector(dataset_pos, dataset_neg, 2)\n",
    "act_vec3 = create_activation_vector(dataset_pos, dataset_neg, 3)\n",
    "act_vec4 = create_activation_vector(dataset_pos, dataset_neg, 4)\n",
    "act_vec5 = create_activation_vector(dataset_pos, dataset_neg, 5)\n",
    "act_vec6 = create_activation_vector(dataset_pos, dataset_neg, 6)\n",
    "act_vec7 = create_activation_vector(dataset_pos, dataset_neg, 7)\n",
    "act_vec8 = create_activation_vector(dataset_pos, dataset_neg, 8)\n",
    "act_vec9 = create_activation_vector(dataset_pos, dataset_neg, 9)\n",
    "act_vec10 = create_activation_vector(dataset_pos, dataset_neg, 10)\n",
    "act_vec11 = create_activation_vector(dataset_pos, dataset_neg, 11)\n"
   ]
  },
  {
   "cell_type": "code",
   "execution_count": 347,
   "metadata": {},
   "outputs": [],
   "source": [
    "def apply_act_vecs(act_vec, layer, coeff, example):\n",
    "\n",
    "    prompt, soln = example[: example.index(\"<PATH_START>\") + 1], example[example.index(\"<PATH_START>\") + 1 :]\n",
    "\n",
    "    turn_right_patch_hook = patching_hook_direction2(prompt, example[example.index(\"<PATH_START>\") + 2], layer, coeff, act_vec)\n",
    "\n",
    "    prediction_original = model.generate(\n",
    "        \"\".join(prompt),\n",
    "        prepend_bos=False,\n",
    "        max_new_tokens=40,\n",
    "        do_sample=False\n",
    "    )\n",
    "\n",
    "    prediction_perturbed = intervene_upon_generation(\n",
    "        model,\n",
    "        \"\".join(prompt),\n",
    "        turn_right_patch_hook,\n",
    "        do_sample=False,\n",
    "        max_new_tokens=40,\n",
    "        device=DEVICE,\n",
    "    )\n",
    "    prediction_perturbed = model.to_string(prediction_perturbed)[0]\n",
    "\n",
    "\n",
    "    # Plot the output\n",
    "    gs = GridSpec(1, 2)\n",
    "    plot_maze(prediction_original, tokenizer=tokenizer, ax=gs[0, 0], ax_labels={'maze':{'title': 'Original'}})\n",
    "    plot_maze(prediction_perturbed, tokenizer=tokenizer, ax=gs[0, 1], ax_labels={'maze':{'title': 'Perturbed'}});\n",
    "    #print(f\"Layer = {la}\")\n"
   ]
  },
  {
   "cell_type": "code",
   "execution_count": null,
   "metadata": {},
   "outputs": [
    {
     "ename": "IndexError",
     "evalue": "list index out of range",
     "output_type": "error",
     "traceback": [
      "\u001b[0;31m---------------------------------------------------------------------------\u001b[0m",
      "\u001b[0;31mIndexError\u001b[0m                                Traceback (most recent call last)",
      "Cell \u001b[0;32mIn[255], line 1\u001b[0m\n\u001b[0;32m----> 1\u001b[0m example \u001b[38;5;241m=\u001b[39m \u001b[43mdataset_neg\u001b[49m\u001b[43m[\u001b[49m\u001b[38;5;241;43m19\u001b[39;49m\u001b[43m]\u001b[49m\u001b[38;5;241m.\u001b[39mas_tokens(tokenizer)\n\u001b[1;32m      3\u001b[0m apply_act_vecs(act_vec10, \u001b[38;5;241m10\u001b[39m, \u001b[38;5;241m100\u001b[39m, example)\n",
      "File \u001b[0;32m/opt/homebrew/lib/python3.11/site-packages/maze_dataset/dataset/maze_dataset.py:181\u001b[0m, in \u001b[0;36mMazeDataset.__getitem__\u001b[0;34m(self, i)\u001b[0m\n\u001b[1;32m    180\u001b[0m \u001b[38;5;28;01mdef\u001b[39;00m \u001b[38;5;21m__getitem__\u001b[39m(\u001b[38;5;28mself\u001b[39m, i: \u001b[38;5;28mint\u001b[39m) \u001b[38;5;241m-\u001b[39m\u001b[38;5;241m>\u001b[39m SolvedMaze:\n\u001b[0;32m--> 181\u001b[0m     \u001b[38;5;28;01mreturn\u001b[39;00m \u001b[38;5;28;43mself\u001b[39;49m\u001b[38;5;241;43m.\u001b[39;49m\u001b[43mmazes\u001b[49m\u001b[43m[\u001b[49m\u001b[43mi\u001b[49m\u001b[43m]\u001b[49m\n",
      "\u001b[0;31mIndexError\u001b[0m: list index out of range"
     ]
    }
   ],
   "source": [
    "example = dataset_neg[19].as_tokens(tokenizer)\n",
    "\n",
    "apply_act_vecs(act_vec10, 10, 100, example)"
   ]
  },
  {
   "cell_type": "code",
   "execution_count": 256,
   "metadata": {},
   "outputs": [
    {
     "data": {
      "application/vnd.jupyter.widget-view+json": {
       "model_id": "b2c1639411654d6493aaa6dc63060a71",
       "version_major": 2,
       "version_minor": 0
      },
      "text/plain": [
       "  0%|          | 0/40 [00:00<?, ?it/s]"
      ]
     },
     "metadata": {},
     "output_type": "display_data"
    },
    {
     "data": {
      "application/vnd.jupyter.widget-view+json": {
       "model_id": "4e299051093e4eb3b189bfcdcd3ef86e",
       "version_major": 2,
       "version_minor": 0
      },
      "text/plain": [
       "  0%|          | 0/40 [00:00<?, ?it/s]"
      ]
     },
     "metadata": {},
     "output_type": "display_data"
    },
    {
     "data": {
      "image/png": "[encoded data removed]",
      "text/plain": [
       "<Figure size 640x480 with 2 Axes>"
      ]
     },
     "metadata": {},
     "output_type": "display_data"
    }
   ],
   "source": [
    "example = dataset_left[22].as_tokens(tokenizer)\n",
    "\n",
    "apply_act_vecs(act_vec11, 11, 100, example)"
   ]
  },
  {
   "cell_type": "code",
   "execution_count": 257,
   "metadata": {},
   "outputs": [
    {
     "data": {
      "application/vnd.jupyter.widget-view+json": {
       "model_id": "1ab31bebca634b0c9873b6f351568739",
       "version_major": 2,
       "version_minor": 0
      },
      "text/plain": [
       "  0%|          | 0/40 [00:00<?, ?it/s]"
      ]
     },
     "metadata": {},
     "output_type": "display_data"
    },
    {
     "data": {
      "application/vnd.jupyter.widget-view+json": {
       "model_id": "f4c03c70d89d40ff9b46fc1f6d58263a",
       "version_major": 2,
       "version_minor": 0
      },
      "text/plain": [
       "  0%|          | 0/40 [00:00<?, ?it/s]"
      ]
     },
     "metadata": {},
     "output_type": "display_data"
    },
    {
     "data": {
      "image/png": "[encoded data removed]",
      "text/plain": [
       "<Figure size 640x480 with 2 Axes>"
      ]
     },
     "metadata": {},
     "output_type": "display_data"
    }
   ],
   "source": [
    "example = dataset_left[10].as_tokens(tokenizer)\n",
    "\n",
    "apply_act_vecs(act_vec2, 2, 10, example)"
   ]
  },
  {
   "cell_type": "code",
   "execution_count": 258,
   "metadata": {},
   "outputs": [
    {
     "ename": "TypeError",
     "evalue": "apply_act_vecs() missing 2 required positional arguments: 'coeff' and 'example'",
     "output_type": "error",
     "traceback": [
      "\u001b[0;31m---------------------------------------------------------------------------\u001b[0m",
      "\u001b[0;31mTypeError\u001b[0m                                 Traceback (most recent call last)",
      "Cell \u001b[0;32mIn[258], line 3\u001b[0m\n\u001b[1;32m      1\u001b[0m example \u001b[38;5;241m=\u001b[39m dataset_left[\u001b[38;5;241m13\u001b[39m]\u001b[38;5;241m.\u001b[39mas_tokens(tokenizer)\n\u001b[0;32m----> 3\u001b[0m \u001b[43mapply_act_vecs\u001b[49m\u001b[43m(\u001b[49m\u001b[43mact_vec7\u001b[49m\u001b[43m,\u001b[49m\u001b[43m \u001b[49m\u001b[43mexample\u001b[49m\u001b[43m)\u001b[49m\n",
      "\u001b[0;31mTypeError\u001b[0m: apply_act_vecs() missing 2 required positional arguments: 'coeff' and 'example'"
     ]
    }
   ],
   "source": [
    "example = dataset_left[13].as_tokens(tokenizer)\n",
    "\n",
    "apply_act_vecs(act_vec7, example)"
   ]
  },
  {
   "cell_type": "code",
   "execution_count": 1144,
   "metadata": {},
   "outputs": [
    {
     "data": {
      "application/vnd.jupyter.widget-view+json": {
       "model_id": "5b7fadb900d44155a4eda86fb6d0cff7",
       "version_major": 2,
       "version_minor": 0
      },
      "text/plain": [
       "  0%|          | 0/40 [00:00<?, ?it/s]"
      ]
     },
     "metadata": {},
     "output_type": "display_data"
    },
    {
     "name": "stderr",
     "output_type": "stream",
     "text": [
      "  5%|▌         | 2/40 [00:00<00:06,  6.31it/s]\n"
     ]
    },
    {
     "data": {
      "image/png": "[encoded data removed]",
      "text/plain": [
       "<Figure size 640x480 with 2 Axes>"
      ]
     },
     "metadata": {},
     "output_type": "display_data"
    }
   ],
   "source": [
    "example = dataset_left[9].as_tokens(tokenizer)\n",
    "\n",
    "apply_act_vecs(act_vec7, example)"
   ]
  },
  {
   "cell_type": "code",
   "execution_count": 1145,
   "metadata": {},
   "outputs": [
    {
     "data": {
      "application/vnd.jupyter.widget-view+json": {
       "model_id": "d869d5f892f44ef8bc1ff2022b2e1a5d",
       "version_major": 2,
       "version_minor": 0
      },
      "text/plain": [
       "  0%|          | 0/40 [00:00<?, ?it/s]"
      ]
     },
     "metadata": {},
     "output_type": "display_data"
    },
    {
     "name": "stderr",
     "output_type": "stream",
     "text": [
      " 20%|██        | 8/40 [00:00<00:03,  8.32it/s]\n"
     ]
    },
    {
     "data": {
      "image/png": "[encoded data removed]",
      "text/plain": [
       "<Figure size 640x480 with 2 Axes>"
      ]
     },
     "metadata": {},
     "output_type": "display_data"
    }
   ],
   "source": [
    "example = dataset_left[22].as_tokens(tokenizer)\n",
    "\n",
    "apply_act_vecs(act_vec7, example)"
   ]
  },
  {
   "cell_type": "code",
   "execution_count": 1095,
   "metadata": {},
   "outputs": [
    {
     "data": {
      "text/plain": [
       "tensor([[[ 0.1096, -2.3806, -0.0313,  ...,  0.0396,  0.1062, -0.0343],\n",
       "         [ 0.1135, -2.3110, -0.0322,  ...,  0.0352,  0.0948, -0.0288],\n",
       "         [ 0.0125,  0.2130,  0.0606,  ...,  0.0049,  0.0237, -0.0898],\n",
       "         ...,\n",
       "         [-0.0405,  0.3791, -0.0162,  ..., -0.0589,  0.1657, -0.1460],\n",
       "         [ 0.1489,  0.2021,  0.0623,  ...,  0.0703, -0.0695,  0.0139],\n",
       "         [-0.0057, -0.5120,  0.0624,  ...,  0.1951,  0.1051,  0.1107]]],\n",
       "       device='mps:0')"
      ]
     },
     "execution_count": 1095,
     "metadata": {},
     "output_type": "execute_result"
    }
   ],
   "source": [
    "act_vec2"
   ]
  },
  {
   "cell_type": "code",
   "execution_count": 397,
   "metadata": {},
   "outputs": [
    {
     "data": {
      "application/vnd.jupyter.widget-view+json": {
       "model_id": "957ee799917e41aa9c6ac9d3f88d8d95",
       "version_major": 2,
       "version_minor": 0
      },
      "text/plain": [
       "  0%|          | 0/40 [00:00<?, ?it/s]"
      ]
     },
     "metadata": {},
     "output_type": "display_data"
    },
    {
     "data": {
      "application/vnd.jupyter.widget-view+json": {
       "model_id": "a9ab503c21d54c12b6fda02bf664c523",
       "version_major": 2,
       "version_minor": 0
      },
      "text/plain": [
       "  0%|          | 0/40 [00:00<?, ?it/s]"
      ]
     },
     "metadata": {},
     "output_type": "display_data"
    }
   ],
   "source": [
    "prompt, soln = example[: example.index(\"<PATH_START>\") + 1], example[example.index(\"<PATH_START>\") + 1 :]\n",
    "\n",
    "turn_right_patch_hook = patching_hook_direction2(prompt, example[example.index(\"<PATH_START>\") + 2], layer, coeff, act_vec7)\n",
    "\n",
    "prediction_original = model.generate(\n",
    "        \"\".join(prompt),\n",
    "        prepend_bos=False,\n",
    "        max_new_tokens=40,\n",
    "        do_sample=False\n",
    "    )\n",
    "\n",
    "prediction_perturbed = intervene_upon_generation(\n",
    "        model,\n",
    "        \"\".join(prompt),\n",
    "        turn_right_patch_hook,\n",
    "        do_sample=False,\n",
    "        max_new_tokens=40,\n",
    "        device=DEVICE,\n",
    "    )\n",
    "prediction_perturbed = model.to_string(prediction_perturbed)[0]"
   ]
  },
  {
   "cell_type": "code",
   "execution_count": 400,
   "metadata": {},
   "outputs": [
    {
     "ename": "AttributeError",
     "evalue": "'MazeTokenizer' object has no attribute 'is_valid_path'",
     "output_type": "error",
     "traceback": [
      "\u001b[0;31m---------------------------------------------------------------------------\u001b[0m",
      "\u001b[0;31mAttributeError\u001b[0m                            Traceback (most recent call last)",
      "Cell \u001b[0;32mIn[400], line 1\u001b[0m\n\u001b[0;32m----> 1\u001b[0m \u001b[43mtokenizer\u001b[49m\u001b[38;5;241;43m.\u001b[39;49m\u001b[43mis_valid_path\u001b[49m(prediction_perturbed)\n",
      "\u001b[0;31mAttributeError\u001b[0m: 'MazeTokenizer' object has no attribute 'is_valid_path'"
     ]
    }
   ],
   "source": [
    "tokenizer.is_valid_path(prediction_perturbed)"
   ]
  },
  {
   "cell_type": "code",
   "execution_count": 406,
   "metadata": {},
   "outputs": [
    {
     "ename": "TypeError",
     "evalue": "'<=' not supported between instances of 'int' and 'list'",
     "output_type": "error",
     "traceback": [
      "\u001b[0;31m---------------------------------------------------------------------------\u001b[0m",
      "\u001b[0;31mTypeError\u001b[0m                                 Traceback (most recent call last)",
      "Cell \u001b[0;32mIn[406], line 1\u001b[0m\n\u001b[0;32m----> 1\u001b[0m \u001b[43mdataset_left\u001b[49m\u001b[43m[\u001b[49m\u001b[38;5;241;43m22\u001b[39;49m\u001b[43m]\u001b[49m\u001b[38;5;241;43m.\u001b[39;49m\u001b[43mis_valid_path\u001b[49m\u001b[43m(\u001b[49m\u001b[43msoln\u001b[49m\u001b[43m)\u001b[49m\n",
      "File \u001b[0;32m/opt/homebrew/lib/python3.11/site-packages/maze_dataset/maze/lattice_maze.py:172\u001b[0m, in \u001b[0;36mLatticeMaze.is_valid_path\u001b[0;34m(self, path, empty_is_valid)\u001b[0m\n\u001b[1;32m    169\u001b[0m         \u001b[38;5;28;01mreturn\u001b[39;00m \u001b[38;5;28;01mTrue\u001b[39;00m\n\u001b[1;32m    171\u001b[0m \u001b[38;5;66;03m# check all coords in bounds of maze\u001b[39;00m\n\u001b[0;32m--> 172\u001b[0m \u001b[38;5;28;01mif\u001b[39;00m \u001b[38;5;129;01mnot\u001b[39;00m np\u001b[38;5;241m.\u001b[39mall((\u001b[38;5;241;43m0\u001b[39;49m\u001b[43m \u001b[49m\u001b[38;5;241;43m<\u001b[39;49m\u001b[38;5;241;43m=\u001b[39;49m\u001b[43m \u001b[49m\u001b[43mpath\u001b[49m) \u001b[38;5;241m&\u001b[39m (path \u001b[38;5;241m<\u001b[39m \u001b[38;5;28mself\u001b[39m\u001b[38;5;241m.\u001b[39mgrid_shape)):\n\u001b[1;32m    173\u001b[0m     \u001b[38;5;28;01mreturn\u001b[39;00m \u001b[38;5;28;01mFalse\u001b[39;00m\n\u001b[1;32m    175\u001b[0m \u001b[38;5;66;03m# check all nodes connected\u001b[39;00m\n",
      "\u001b[0;31mTypeError\u001b[0m: '<=' not supported between instances of 'int' and 'list'"
     ]
    }
   ],
   "source": [
    "dataset_left[22].is_valid_path(soln)"
   ]
  },
  {
   "cell_type": "code",
   "execution_count": 405,
   "metadata": {},
   "outputs": [
    {
     "data": {
      "text/plain": [
       "['(4,4)',\n",
       " '(4,3)',\n",
       " '(4,2)',\n",
       " '(4,1)',\n",
       " '(4,0)',\n",
       " '(3,0)',\n",
       " '(2,0)',\n",
       " '(2,1)',\n",
       " '(2,2)',\n",
       " '(1,2)',\n",
       " '(0,2)',\n",
       " '<PATH_END>']"
      ]
     },
     "execution_count": 405,
     "metadata": {},
     "output_type": "execute_result"
    }
   ],
   "source": [
    "soln"
   ]
  },
  {
   "cell_type": "code",
   "execution_count": null,
   "metadata": {},
   "outputs": [],
   "source": []
  }
 ],
 "metadata": {
  "kernelspec": {
   "display_name": "search_env",
   "language": "python",
   "name": "python3"
  },
  "language_info": {
   "codemirror_mode": {
    "name": "ipython",
    "version": 3
   },
   "file_extension": ".py",
   "mimetype": "text/x-python",
   "name": "python",
   "nbconvert_exporter": "python",
   "pygments_lexer": "ipython3",
   "version": "3.11.7"
  }
 },
 "nbformat": 4,
 "nbformat_minor": 2
}
