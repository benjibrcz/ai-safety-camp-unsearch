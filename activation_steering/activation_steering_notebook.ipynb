{
 "cells": [
  {
   "cell_type": "markdown",
   "metadata": {},
   "source": [
    "# Activation steering to turn right"
   ]
  },
  {
   "cell_type": "code",
   "execution_count": 1,
   "metadata": {},
   "outputs": [
    {
     "data": {
      "text/plain": [
       "{'COMMAND_MODE': 'unix2003',\n",
       " 'HOME': '/Users/benjamin.berczi',\n",
       " 'HOMEBREW_CELLAR': '/opt/homebrew/Cellar',\n",
       " 'HOMEBREW_PREFIX': '/opt/homebrew',\n",
       " 'HOMEBREW_REPOSITORY': '/opt/homebrew',\n",
       " 'INFOPATH': '/opt/homebrew/share/info:',\n",
       " 'LOGNAME': 'benjamin.berczi',\n",
       " 'LaunchInstanceID': '74E4E318-53B5-4B19-8242-DEFF82A98823',\n",
       " 'MANPATH': '/opt/homebrew/share/man::',\n",
       " 'MallocNanoZone': '0',\n",
       " 'OLDPWD': '/',\n",
       " 'ORIGINAL_XDG_CURRENT_DESKTOP': 'undefined',\n",
       " 'PATH': '/opt/homebrew/bin:/Users/benjamin.berczi/Library/Python/3.11/bin:/Users/benjamin.berczi/.rd/bin:/opt/homebrew/bin:/opt/homebrew/sbin:/usr/local/bin:/System/Cryptexes/App/usr/bin:/usr/bin:/bin:/usr/sbin:/sbin:/var/run/com.apple.security.cryptexd/codex.system/bootstrap/usr/local/bin:/var/run/com.apple.security.cryptexd/codex.system/bootstrap/usr/bin:/var/run/com.apple.security.cryptexd/codex.system/bootstrap/usr/appleinternal/bin:/Users/benjamin.berczi/.rd/bin:/opt/homebrew/bin:/opt/homebrew/sbin:/usr/local/bin:/System/Cryptexes/App/usr/bin:/usr/bin:/bin:/usr/sbin:/sbin:/var/run/com.apple.security.cryptexd/codex.system/bootstrap/usr/local/bin:/var/run/com.apple.security.cryptexd/codex.system/bootstrap/usr/bin:/var/run/com.apple.security.cryptexd/codex.system/bootstrap/usr/appleinternal/bin',\n",
       " 'PWD': '/',\n",
       " 'SECURITYSESSIONID': '186b2',\n",
       " 'SHELL': '/bin/zsh',\n",
       " 'SHLVL': '0',\n",
       " 'SSH_AUTH_SOCK': '/private/tmp/com.apple.launchd.R7R9khr3np/Listeners',\n",
       " 'TMPDIR': '/var/folders/z5/k_gvzs715zz85rhc9nwmk4kw0000gp/T/',\n",
       " 'USER': 'benjamin.berczi',\n",
       " 'VSCODE_AMD_ENTRYPOINT': 'vs/workbench/api/node/extensionHostProcess',\n",
       " 'VSCODE_CODE_CACHE_PATH': '/Users/benjamin.berczi/Library/Application Support/Code/CachedData/019f4d1419fbc8219a181fab7892ebccf7ee29a2',\n",
       " 'VSCODE_CRASH_REPORTER_PROCESS_TYPE': 'extensionHost',\n",
       " 'VSCODE_CWD': '/',\n",
       " 'VSCODE_HANDLES_UNCAUGHT_ERRORS': 'true',\n",
       " 'VSCODE_IPC_HOOK': '/Users/benjamin.berczi/Library/Application Support/Code/1.87-main.sock',\n",
       " 'VSCODE_NLS_CONFIG': '{\"locale\":\"en-gb\",\"osLocale\":\"en-gb\",\"availableLanguages\":{},\"_languagePackSupport\":true}',\n",
       " 'VSCODE_PID': '961',\n",
       " 'XPC_FLAGS': '0x0',\n",
       " 'XPC_SERVICE_NAME': 'application.com.microsoft.VSCode.3833237.3833243',\n",
       " '_': '/Applications/Visual Studio Code.app/Contents/MacOS/Electron',\n",
       " '__CFBundleIdentifier': 'com.microsoft.VSCode',\n",
       " '__CF_USER_TEXT_ENCODING': '0x1F6:0:2',\n",
       " 'ELECTRON_RUN_AS_NODE': '1',\n",
       " 'VSCODE_L10N_BUNDLE_LOCATION': '',\n",
       " 'PYDEVD_IPYTHON_COMPATIBLE_DEBUGGING': '1',\n",
       " 'PYTHONUNBUFFERED': '1',\n",
       " 'PYTHONIOENCODING': 'utf-8',\n",
       " 'LC_CTYPE': 'UTF-8',\n",
       " 'PYDEVD_USE_FRAME_EVAL': 'NO',\n",
       " 'TERM': 'xterm-color',\n",
       " 'CLICOLOR': '1',\n",
       " 'FORCE_COLOR': '1',\n",
       " 'CLICOLOR_FORCE': '1',\n",
       " 'PAGER': 'cat',\n",
       " 'GIT_PAGER': 'cat',\n",
       " 'MPLBACKEND': 'module://matplotlib_inline.backend_inline'}"
      ]
     },
     "execution_count": 1,
     "metadata": {},
     "output_type": "execute_result"
    }
   ],
   "source": [
    "%env"
   ]
  },
  {
   "cell_type": "code",
   "execution_count": 2,
   "metadata": {},
   "outputs": [],
   "source": [
    "import os \n",
    "PYTORCH_ENABLE_MPS_FALLBACK=1\n",
    "CUDA_VISIBLE_DEVICES=\"\"\n",
    "os.environ[\"CUDA_VISIBLE_DEVICES\"]=\"\"\n",
    "os.environ[\"PYTORCH_ENABLE_MPS_FALLBACK\"]=\"1\"\n",
    "\n",
    "\n"
   ]
  },
  {
   "cell_type": "code",
   "execution_count": 3,
   "metadata": {},
   "outputs": [],
   "source": [
    "import sys\n",
    "sys.path\n",
    "\n",
    "sys.path.append(\"/Users/benjamin.berczi/Documents/maze-dataset\")\n",
    "sys.path.append(\"/Users/benjamin.berczi/Documents/maze-transformer-1\")\n",
    "sys.path.append(\"/Users/benjamin.berczi/Documents/research\")\n",
    "sys.path.append(\"/Users/benjamin.berczi/Documents/research/unsearch_research\")\n"
   ]
  },
  {
   "cell_type": "code",
   "execution_count": 4,
   "metadata": {},
   "outputs": [
    {
     "name": "stderr",
     "output_type": "stream",
     "text": [
      "/opt/homebrew/Cellar/python@3.11/3.11.7/Frameworks/Python.framework/Versions/3.11/lib/python3.11/site-packages/_distutils_hack/__init__.py:33: UserWarning: Setuptools is replacing distutils.\n",
      "  warnings.warn(\"Setuptools is replacing distutils.\")\n",
      "/opt/homebrew/lib/python3.11/site-packages/transformers/utils/generic.py:311: UserWarning: torch.utils._pytree._register_pytree_node is deprecated. Please use torch.utils._pytree.register_pytree_node instead.\n",
      "  torch.utils._pytree._register_pytree_node(\n",
      "/opt/homebrew/lib/python3.11/site-packages/transformers/utils/generic.py:311: UserWarning: torch.utils._pytree._register_pytree_node is deprecated. Please use torch.utils._pytree.register_pytree_node instead.\n",
      "  torch.utils._pytree._register_pytree_node(\n"
     ]
    },
    {
     "name": "stdout",
     "output_type": "stream",
     "text": [
      "dict_keys(['test-g3-n5-a_dfs-h75556', 'demo_small-g3-n100-a_dfs-h88371', 'demo-g6-n10K-a_dfs-h30615'])\n"
     ]
    }
   ],
   "source": [
    "# Imports\n",
    "%load_ext autoreload\n",
    "%autoreload 2\n",
    "\n",
    "# General Utilities\n",
    "from pathlib import Path\n",
    "\n",
    "# Generic ML\n",
    "import numpy as np\n",
    "import torch\n",
    "from torch.utils.data import DataLoader\n",
    "torch.set_float32_matmul_precision('medium') # if your GPU has TensorCores\n",
    "\n",
    "# Maze Transformer and Dataset\n",
    "\n",
    "# Other useful things\n",
    "from muutils.nbutils.configure_notebook import configure_notebook\n",
    "from unsearch_research import *\n",
    "\n",
    "# other package imports\n",
    "import matplotlib.pyplot as plt # keep this import for CI to work\n",
    "from zanj import ZANJ # saving/loading data\n",
    "from muutils.mlutils import pprint_summary # pretty printing as json\n",
    "\n",
    "# maze_dataset imports\n",
    "\n",
    "from maze_dataset import LatticeMaze, SolvedMaze, MazeDataset, MazeDatasetConfig\n",
    "from maze_dataset.tokenization import MazeTokenizer, TokenizationMode\n",
    "from maze_dataset.generation import LatticeMazeGenerators, GENERATORS_MAP\n",
    "from maze_dataset.generation.default_generators import DEFAULT_GENERATORS\n",
    "from maze_dataset.dataset.configs import MAZE_DATASET_CONFIGS\n",
    "from maze_dataset.plotting import plot_dataset_mazes, print_dataset_mazes\n",
    "\n",
    "from maze_transformer.evaluation.load_model_testdata import load_model_with_test_data\n",
    "\n",
    "\n",
    "# check the configs\n",
    "print(MAZE_DATASET_CONFIGS.keys())\n",
    "# for saving/loading things\n",
    "zanj: ZANJ = ZANJ(external_list_threshold=256)"
   ]
  },
  {
   "cell_type": "code",
   "execution_count": 5,
   "metadata": {},
   "outputs": [
    {
     "name": "stdout",
     "output_type": "stream",
     "text": [
      "set up plots with PLOT_MODE = 'inline', FIG_OUTPUT_FMT = None, FIG_BASEPATH = None\n"
     ]
    }
   ],
   "source": [
    "# Configuration\n",
    "SEED = 42\n",
    "DARK_MODE = True\n",
    "LOCAL_DATA_PATH = Path(\"/Users/benjamin.berczi/Documents\")\n",
    "#LOCAL_DATA_PATH: str = \"../data/maze_dataset\"\n",
    "\n",
    "DEVICE = configure_notebook(\n",
    "    seed=SEED,\n",
    "    dark_mode=DARK_MODE,\n",
    "    device=None,  # Defaults GPU > MPS > CPU\n",
    ")\n",
    "set_unsearch_style(dark_mode=DARK_MODE) # Matplotlib style"
   ]
  },
  {
   "cell_type": "code",
   "execution_count": 6,
   "metadata": {},
   "outputs": [
    {
     "name": "stderr",
     "output_type": "stream",
     "text": [
      "Failed to detect the name of this notebook, you can set it manually with the WANDB_NOTEBOOK_NAME environment variable to enable code saving.\n"
     ]
    },
    {
     "name": "stdout",
     "output_type": "stream",
     "text": [
      "No wandb context found, creating one...\n"
     ]
    },
    {
     "name": "stderr",
     "output_type": "stream",
     "text": [
      "\u001b[34m\u001b[1mwandb\u001b[0m: Currently logged in as: \u001b[33mbenji-berczi\u001b[0m (\u001b[33maisc-search\u001b[0m). Use \u001b[1m`wandb login --relogin`\u001b[0m to force relogin\n",
      "\u001b[34m\u001b[1mwandb\u001b[0m: \u001b[33mWARNING\u001b[0m Tried to auto resume run with id mixed_maze_sweep02_12-seed_2-lr_0.0001-h_8-l_8-d_512-posembed_standard-20240212110545 but id mixed_maze_sweep02_10-seed_1-lr_0.0001-h_8-l_6-d_512-posembed_standard-20240210223546 is set.\n"
     ]
    },
    {
     "data": {
      "application/vnd.jupyter.widget-view+json": {
       "model_id": "af4f909ca6d5407292e71557fb87dcc9",
       "version_major": 2,
       "version_minor": 0
      },
      "text/plain": [
       "VBox(children=(Label(value='Waiting for wandb.init()...\\r'), FloatProgress(value=0.01675141943366422, max=1.0)…"
      ]
     },
     "metadata": {},
     "output_type": "display_data"
    },
    {
     "data": {
      "text/html": [
       "wandb version 0.16.5 is available!  To upgrade, please run:\n",
       " $ pip install wandb --upgrade"
      ],
      "text/plain": [
       "<IPython.core.display.HTML object>"
      ]
     },
     "metadata": {},
     "output_type": "display_data"
    },
    {
     "data": {
      "text/html": [
       "Tracking run with wandb version 0.13.11"
      ],
      "text/plain": [
       "<IPython.core.display.HTML object>"
      ]
     },
     "metadata": {},
     "output_type": "display_data"
    },
    {
     "data": {
      "text/html": [
       "Run data is saved locally in <code>/tmp/wandb/run-20240329_182500-mixed_maze_sweep02_10-seed_1-lr_0.0001-h_8-l_6-d_512-posembed_standard-20240210223546</code>"
      ],
      "text/plain": [
       "<IPython.core.display.HTML object>"
      ]
     },
     "metadata": {},
     "output_type": "display_data"
    },
    {
     "data": {
      "text/html": [
       "Resuming run <strong><a href='https://wandb.ai/aisc-search/mixed_maze_sweep/runs/mixed_maze_sweep02_10-seed_1-lr_0.0001-h_8-l_6-d_512-posembed_standard-20240210223546' target=\"_blank\">mixed_maze_sweep02_10</a></strong> to <a href='https://wandb.ai/aisc-search/mixed_maze_sweep' target=\"_blank\">Weights & Biases</a> (<a href='https://wandb.me/run' target=\"_blank\">docs</a>)<br/>"
      ],
      "text/plain": [
       "<IPython.core.display.HTML object>"
      ]
     },
     "metadata": {},
     "output_type": "display_data"
    },
    {
     "data": {
      "text/html": [
       " View project at <a href='https://wandb.ai/aisc-search/mixed_maze_sweep' target=\"_blank\">https://wandb.ai/aisc-search/mixed_maze_sweep</a>"
      ],
      "text/plain": [
       "<IPython.core.display.HTML object>"
      ]
     },
     "metadata": {},
     "output_type": "display_data"
    },
    {
     "data": {
      "text/html": [
       " View run at <a href='https://wandb.ai/aisc-search/mixed_maze_sweep/runs/mixed_maze_sweep02_10-seed_1-lr_0.0001-h_8-l_6-d_512-posembed_standard-20240210223546' target=\"_blank\">https://wandb.ai/aisc-search/mixed_maze_sweep/runs/mixed_maze_sweep02_10-seed_1-lr_0.0001-h_8-l_6-d_512-posembed_standard-20240210223546</a>"
      ],
      "text/plain": [
       "<IPython.core.display.HTML object>"
      ]
     },
     "metadata": {},
     "output_type": "display_data"
    },
    {
     "name": "stdout",
     "output_type": "stream",
     "text": [
      "Downloading model from aisc-search/mixed_maze_sweep/mixed_maze_sweep02_10-seed_1-lr_0.0001-h_8-l_6-d_512-posembed_standard-20240210223546\n",
      "Loading latest checkpoint\n",
      "Model already downloaded to /Users/benjamin.berczi/Documents/downloaded_models/mixed_maze_sweep02_10-seed_1-lr_0.0001-h_8-l_6-d_512-posembed_standard-20240210223546\n"
     ]
    }
   ],
   "source": [
    "#model_run_id = \"mixed_maze_sweep02_10-seed_1-lr_0.001-h_8-l_12-d_512-posembed_standard-20240210223618\"\n",
    "#model_run_id = \"mixed_maze_sweep02_12-seed_2-lr_0.0001-h_8-l_8-d_512-posembed_standard-20240212110545\"\n",
    "model_run_id = \"mixed_maze_sweep02_10-seed_1-lr_0.0001-h_8-l_6-d_512-posembed_standard-20240210223546\"\n",
    "\n",
    "model, cfg = load_wandb_model(\n",
    "    entity=\"aisc-search\",\n",
    "    project=\"mixed_maze_sweep\",\n",
    "    run_id=model_run_id,\n",
    "    # The following may be required for some older models with incomplete cfgs on wandb\n",
    "    # you'll know because loading will complain about mismatched position embedding weights\n",
    "    # config_overrides={\"model_cfg\": {\"positional_embedding_type\": \"rotary\"}},\n",
    "    output_path=LOCAL_DATA_PATH / \"downloaded_models\",\n",
    ")"
   ]
  },
  {
   "cell_type": "markdown",
   "metadata": {},
   "source": []
  },
  {
   "cell_type": "markdown",
   "metadata": {},
   "source": []
  },
  {
   "cell_type": "code",
   "execution_count": 7,
   "metadata": {},
   "outputs": [],
   "source": [
    "# Load a dataset\n",
    "tokenizer: MazeTokenizer = MazeTokenizer(tokenization_mode=TokenizationMode.AOTP_UT_rasterized, max_grid_size=7)\n",
    "\n",
    "\n",
    "\n",
    "cfg = MazeDatasetConfig(\n",
    "    name=\"test\",  \n",
    "    grid_n=5,  \n",
    "    n_mazes=10,  \n",
    "    maze_ctor=LatticeMazeGenerators.gen_dfs,  \n",
    "    #maze_ctor_kwargs=dict(do_forks=False),\n",
    "\n",
    ")\n",
    "\n",
    "dataset = MazeDataset.from_config(\n",
    "\tcfg,\n",
    "\tload_local=True,\n",
    "\tdo_generate=True,\n",
    "    save_local=True,\n",
    "\tlocal_base_path=LOCAL_DATA_PATH / 'mazes',\n",
    "\tverbose=False,\n",
    ")"
   ]
  },
  {
   "cell_type": "code",
   "execution_count": 8,
   "metadata": {},
   "outputs": [
    {
     "data": {
      "text/plain": [
       "(<Figure size 1000x200 with 10 Axes>,\n",
       " array([<Axes: >, <Axes: >, <Axes: >, <Axes: >, <Axes: >, <Axes: >,\n",
       "        <Axes: >, <Axes: >, <Axes: >, <Axes: >], dtype=object))"
      ]
     },
     "execution_count": 8,
     "metadata": {},
     "output_type": "execute_result"
    },
    {
     "data": {
      "image/png": "[encoded data removed]",
      "text/plain": [
       "<Figure size 640x480 with 2 Axes>"
      ]
     },
     "metadata": {},
     "output_type": "display_data"
    },
    {
     "data": {
      "image/png": "[encoded data removed]",
      "text/plain": [
       "<Figure size 1000x200 with 10 Axes>"
      ]
     },
     "metadata": {},
     "output_type": "display_data"
    }
   ],
   "source": [
    "# Plot a maze\n",
    "# gridspec\n",
    "from matplotlib.gridspec import GridSpec\n",
    "gs = GridSpec(1, 2)\n",
    "\n",
    "# Test plotting function on the LattizeMaze\n",
    "plot_maze(dataset[0], tokenizer=tokenizer, ax=gs[0, 0])\n",
    "\n",
    "# Get LatticeMaze object from string and plot that directly too!\n",
    "ds_string = dataset[0].as_tokens(tokenizer)\n",
    "plot_maze(ds_string, tokenizer=tokenizer, ax=gs[0,1])\n",
    "\n",
    "# note that the vocab is 7x7 so the second plot shows the maze as a 7x7 grid\n",
    "plot_dataset_mazes(dataset, count=None) # for large datasets, set the count to some int to just plot the first few"
   ]
  },
  {
   "cell_type": "markdown",
   "metadata": {},
   "source": [
    "# Experiment 1 - Stuff\n",
    "We'll use a hook with function closure to intervene and cache (more efficiently than caching everything when using ```run_with_cache```). We also have a modified version of the `generation` function from TransformerLens which we can use to apply hooks during a generative rollout"
   ]
  },
  {
   "cell_type": "code",
   "execution_count": 9,
   "metadata": {},
   "outputs": [
    {
     "name": "stdout",
     "output_type": "stream",
     "text": [
      "                          name | dtype         | shape         | type         | device | min         | max       | mean        \n",
      "-------------------------------------------------------------------------------------------------------------------------------\n",
      "                    hook_embed | torch.float32 | [1, 1, 512]   | torch.Tensor | mps:0  | -0.12058    | 0.106894  | -2.32831e-10\n",
      "                hook_pos_embed | torch.float32 | [1, 1, 512]   | torch.Tensor | mps:0  | -0.0728284  | 0.120151  | -2.32831e-10\n",
      "       blocks.0.hook_resid_pre | torch.float32 | [1, 1, 512]   | torch.Tensor | mps:0  | -0.112274   | 0.142576  | -3.49246e-10\n",
      "       blocks.0.ln1.hook_scale | torch.float32 | [1, 1, 1]     | torch.Tensor | mps:0  | 0.0386244   | 0.0386244 | 0.0386244   \n",
      "  blocks.0.ln1.hook_normalized | torch.float32 | [1, 1, 512]   | torch.Tensor | mps:0  | -2.90681    | 3.69134   | -7.45058e-09\n",
      "          blocks.0.attn.hook_q | torch.float32 | [1, 1, 8, 64] | torch.Tensor | mps:0  | -2.65223    | 2.60605   | -0.0194792  \n",
      "          blocks.0.attn.hook_k | torch.float32 | [1, 1, 8, 64] | torch.Tensor | mps:0  | -1.59782    | 1.48006   | 0.0201016   \n",
      "          blocks.0.attn.hook_v | torch.float32 | [1, 1, 8, 64] | torch.Tensor | mps:0  | -0.806616   | 0.637497  | -0.00960838 \n",
      "blocks.0.attn.hook_attn_scores | torch.float32 | [1, 8, 1, 1]  | torch.Tensor | mps:0  | -4.99118    | 0.123235  | -1.68916    \n",
      "    blocks.0.attn.hook_pattern | torch.float32 | [1, 8, 1, 1]  | torch.Tensor | mps:0  | 1           | 1         | 1           \n",
      "          blocks.0.attn.hook_z | torch.float32 | [1, 1, 8, 64] | torch.Tensor | mps:0  | -0.806616   | 0.637497  | -0.00960838 \n",
      "        blocks.0.hook_attn_out | torch.float32 | [1, 1, 512]   | torch.Tensor | mps:0  | -0.3415     | 0.25689   | 0           \n",
      "       blocks.0.hook_resid_mid | torch.float32 | [1, 1, 512]   | torch.Tensor | mps:0  | -0.351065   | 0.266372  | -9.31323e-10\n",
      "       blocks.0.ln2.hook_scale | torch.float32 | [1, 1, 1]     | torch.Tensor | mps:0  | 0.101635    | 0.101635  | 0.101635    \n",
      "  blocks.0.ln2.hook_normalized | torch.float32 | [1, 1, 512]   | torch.Tensor | mps:0  | -3.45416    | 2.62086   | 1.86265e-09 \n",
      "         blocks.0.mlp.hook_pre | torch.float32 | [1, 1, 2048]  | torch.Tensor | mps:0  | -5.60572    | 1.98345   | -0.0607607  \n",
      "        blocks.0.mlp.hook_post | torch.float32 | [1, 1, 2048]  | torch.Tensor | mps:0  | -0.169947   | 1.93653   | -0.00819011 \n",
      "         blocks.0.hook_mlp_out | torch.float32 | [1, 1, 512]   | torch.Tensor | mps:0  | -0.48068    | 0.453593  | -2.32831e-10\n",
      "      blocks.0.hook_resid_post | torch.float32 | [1, 1, 512]   | torch.Tensor | mps:0  | -0.63167    | 0.719965  | -1.39698e-09\n",
      "       blocks.1.hook_resid_pre | torch.float32 | [1, 1, 512]   | torch.Tensor | mps:0  | -0.63167    | 0.719965  | -1.39698e-09\n",
      "       blocks.1.ln1.hook_scale | torch.float32 | [1, 1, 1]     | torch.Tensor | mps:0  | 0.213723    | 0.213723  | 0.213723    \n",
      "  blocks.1.ln1.hook_normalized | torch.float32 | [1, 1, 512]   | torch.Tensor | mps:0  | -2.95555    | 3.36868   | -5.58794e-09\n",
      "          blocks.1.attn.hook_q | torch.float32 | [1, 1, 8, 64] | torch.Tensor | mps:0  | -1.53941    | 1.80844   | 0.0121759   \n",
      "          blocks.1.attn.hook_k | torch.float32 | [1, 1, 8, 64] | torch.Tensor | mps:0  | -1.47247    | 1.51616   | 0.0208573   \n",
      "          blocks.1.attn.hook_v | torch.float32 | [1, 1, 8, 64] | torch.Tensor | mps:0  | -0.719779   | 0.750947  | -0.00684377 \n",
      "blocks.1.attn.hook_attn_scores | torch.float32 | [1, 8, 1, 1]  | torch.Tensor | mps:0  | -2.04942    | 0.609834  | -0.265294   \n",
      "    blocks.1.attn.hook_pattern | torch.float32 | [1, 8, 1, 1]  | torch.Tensor | mps:0  | 1           | 1         | 1           \n",
      "          blocks.1.attn.hook_z | torch.float32 | [1, 1, 8, 64] | torch.Tensor | mps:0  | -0.719779   | 0.750947  | -0.00684377 \n",
      "        blocks.1.hook_attn_out | torch.float32 | [1, 1, 512]   | torch.Tensor | mps:0  | -0.70741    | 0.765486  | -2.79397e-09\n",
      "       blocks.1.hook_resid_mid | torch.float32 | [1, 1, 512]   | torch.Tensor | mps:0  | -0.791889   | 0.798356  | -2.67755e-09\n",
      "       blocks.1.ln2.hook_scale | torch.float32 | [1, 1, 1]     | torch.Tensor | mps:0  | 0.296714    | 0.296714  | 0.296714    \n",
      "  blocks.1.ln2.hook_normalized | torch.float32 | [1, 1, 512]   | torch.Tensor | mps:0  | -2.66886    | 2.69066   | -7.91624e-09\n",
      "         blocks.1.mlp.hook_pre | torch.float32 | [1, 1, 2048]  | torch.Tensor | mps:0  | -2.58278    | 1.05284   | -0.649621   \n",
      "        blocks.1.mlp.hook_post | torch.float32 | [1, 1, 2048]  | torch.Tensor | mps:0  | -0.169971   | 0.898912  | -0.0996235  \n",
      "         blocks.1.hook_mlp_out | torch.float32 | [1, 1, 512]   | torch.Tensor | mps:0  | -0.705836   | 0.514572  | 1.16415e-09 \n",
      "      blocks.1.hook_resid_post | torch.float32 | [1, 1, 512]   | torch.Tensor | mps:0  | -0.981123   | 0.936583  | -2.56114e-09\n",
      "       blocks.2.hook_resid_pre | torch.float32 | [1, 1, 512]   | torch.Tensor | mps:0  | -0.981123   | 0.936583  | -2.56114e-09\n",
      "       blocks.2.ln1.hook_scale | torch.float32 | [1, 1, 1]     | torch.Tensor | mps:0  | 0.359725    | 0.359725  | 0.359725    \n",
      "  blocks.2.ln1.hook_normalized | torch.float32 | [1, 1, 512]   | torch.Tensor | mps:0  | -2.72743    | 2.60361   | 4.19095e-09 \n",
      "          blocks.2.attn.hook_q | torch.float32 | [1, 1, 8, 64] | torch.Tensor | mps:0  | -1.02608    | 1.13648   | -0.0109098  \n",
      "          blocks.2.attn.hook_k | torch.float32 | [1, 1, 8, 64] | torch.Tensor | mps:0  | -1.00132    | 1.05736   | -0.0027995  \n",
      "          blocks.2.attn.hook_v | torch.float32 | [1, 1, 8, 64] | torch.Tensor | mps:0  | -1.23765    | 1.0794    | -0.00249922 \n",
      "blocks.2.attn.hook_attn_scores | torch.float32 | [1, 8, 1, 1]  | torch.Tensor | mps:0  | -0.198459   | 0.911391  | 0.466149    \n",
      "    blocks.2.attn.hook_pattern | torch.float32 | [1, 8, 1, 1]  | torch.Tensor | mps:0  | 1           | 1         | 1           \n",
      "          blocks.2.attn.hook_z | torch.float32 | [1, 1, 8, 64] | torch.Tensor | mps:0  | -1.23765    | 1.0794    | -0.00249922 \n",
      "        blocks.2.hook_attn_out | torch.float32 | [1, 1, 512]   | torch.Tensor | mps:0  | -1.11116    | 0.979375  | 2.79397e-09 \n",
      "       blocks.2.hook_resid_mid | torch.float32 | [1, 1, 512]   | torch.Tensor | mps:0  | -1.21766    | 1.1678    | -9.31323e-10\n",
      "       blocks.2.ln2.hook_scale | torch.float32 | [1, 1, 1]     | torch.Tensor | mps:0  | 0.398897    | 0.398897  | 0.398897    \n",
      "  blocks.2.ln2.hook_normalized | torch.float32 | [1, 1, 512]   | torch.Tensor | mps:0  | -3.05258    | 2.92758   | 1.39698e-09 \n",
      "         blocks.2.mlp.hook_pre | torch.float32 | [1, 1, 2048]  | torch.Tensor | mps:0  | -1.99522    | 1.23185   | -0.530739   \n",
      "        blocks.2.mlp.hook_post | torch.float32 | [1, 1, 2048]  | torch.Tensor | mps:0  | -0.169971   | 1.09757   | -0.0932407  \n",
      "         blocks.2.hook_mlp_out | torch.float32 | [1, 1, 512]   | torch.Tensor | mps:0  | -0.934228   | 1.03864   | 0           \n",
      "      blocks.2.hook_resid_post | torch.float32 | [1, 1, 512]   | torch.Tensor | mps:0  | -1.7047     | 1.42595   | -9.31323e-10\n",
      "       blocks.3.hook_resid_pre | torch.float32 | [1, 1, 512]   | torch.Tensor | mps:0  | -1.7047     | 1.42595   | -9.31323e-10\n",
      "       blocks.3.ln1.hook_scale | torch.float32 | [1, 1, 1]     | torch.Tensor | mps:0  | 0.439055    | 0.439055  | 0.439055    \n",
      "  blocks.3.ln1.hook_normalized | torch.float32 | [1, 1, 512]   | torch.Tensor | mps:0  | -3.88265    | 3.24776   | 5.58794e-09 \n",
      "          blocks.3.attn.hook_q | torch.float32 | [1, 1, 8, 64] | torch.Tensor | mps:0  | -1.82605    | 1.79941   | -0.0377618  \n",
      "          blocks.3.attn.hook_k | torch.float32 | [1, 1, 8, 64] | torch.Tensor | mps:0  | -1.47481    | 1.38592   | -0.0247634  \n",
      "          blocks.3.attn.hook_v | torch.float32 | [1, 1, 8, 64] | torch.Tensor | mps:0  | -0.688421   | 0.742745  | -0.00347334 \n",
      "blocks.3.attn.hook_attn_scores | torch.float32 | [1, 8, 1, 1]  | torch.Tensor | mps:0  | 0.227252    | 2.97764   | 1.17548     \n",
      "    blocks.3.attn.hook_pattern | torch.float32 | [1, 8, 1, 1]  | torch.Tensor | mps:0  | 1           | 1         | 1           \n",
      "          blocks.3.attn.hook_z | torch.float32 | [1, 1, 8, 64] | torch.Tensor | mps:0  | -0.688421   | 0.742745  | -0.00347334 \n",
      "        blocks.3.hook_attn_out | torch.float32 | [1, 1, 512]   | torch.Tensor | mps:0  | -0.986284   | 1.1371    | -3.25963e-09\n",
      "       blocks.3.hook_resid_mid | torch.float32 | [1, 1, 512]   | torch.Tensor | mps:0  | -1.54155    | 1.33045   | -5.58794e-09\n",
      "       blocks.3.ln2.hook_scale | torch.float32 | [1, 1, 1]     | torch.Tensor | mps:0  | 0.513651    | 0.513651  | 0.513651    \n",
      "  blocks.3.ln2.hook_normalized | torch.float32 | [1, 1, 512]   | torch.Tensor | mps:0  | -3.00117    | 2.59017   | 1.86265e-09 \n",
      "         blocks.3.mlp.hook_pre | torch.float32 | [1, 1, 2048]  | torch.Tensor | mps:0  | -1.17038    | 1.42764   | -0.0854864  \n",
      "        blocks.3.mlp.hook_post | torch.float32 | [1, 1, 2048]  | torch.Tensor | mps:0  | -0.169971   | 1.31815   | -0.0118761  \n",
      "         blocks.3.hook_mlp_out | torch.float32 | [1, 1, 512]   | torch.Tensor | mps:0  | -0.932237   | 1.05097   | 3.0268e-09  \n",
      "      blocks.3.hook_resid_post | torch.float32 | [1, 1, 512]   | torch.Tensor | mps:0  | -1.84062    | 1.63842   | 2.79397e-09 \n",
      "       blocks.4.hook_resid_pre | torch.float32 | [1, 1, 512]   | torch.Tensor | mps:0  | -1.84062    | 1.63842   | 2.79397e-09 \n",
      "       blocks.4.ln1.hook_scale | torch.float32 | [1, 1, 1]     | torch.Tensor | mps:0  | 0.654195    | 0.654195  | 0.654195    \n",
      "  blocks.4.ln1.hook_normalized | torch.float32 | [1, 1, 512]   | torch.Tensor | mps:0  | -2.81357    | 2.50448   | 0           \n",
      "          blocks.4.attn.hook_q | torch.float32 | [1, 1, 8, 64] | torch.Tensor | mps:0  | -1.62243    | 1.56618   | -0.0390562  \n",
      "          blocks.4.attn.hook_k | torch.float32 | [1, 1, 8, 64] | torch.Tensor | mps:0  | -1.27042    | 1.13717   | -0.0266197  \n",
      "          blocks.4.attn.hook_v | torch.float32 | [1, 1, 8, 64] | torch.Tensor | mps:0  | -0.932886   | 0.914044  | 0.00480143  \n",
      "blocks.4.attn.hook_attn_scores | torch.float32 | [1, 8, 1, 1]  | torch.Tensor | mps:0  | 0.194782    | 3.49444   | 0.913112    \n",
      "    blocks.4.attn.hook_pattern | torch.float32 | [1, 8, 1, 1]  | torch.Tensor | mps:0  | 1           | 1         | 1           \n",
      "          blocks.4.attn.hook_z | torch.float32 | [1, 1, 8, 64] | torch.Tensor | mps:0  | -0.932886   | 0.914044  | 0.00480143  \n",
      "        blocks.4.hook_attn_out | torch.float32 | [1, 1, 512]   | torch.Tensor | mps:0  | -0.941466   | 1.18296   | -3.49246e-10\n",
      "       blocks.4.hook_resid_mid | torch.float32 | [1, 1, 512]   | torch.Tensor | mps:0  | -1.59802    | 1.70849   | -1.86265e-09\n",
      "       blocks.4.ln2.hook_scale | torch.float32 | [1, 1, 1]     | torch.Tensor | mps:0  | 0.580783    | 0.580783  | 0.580783    \n",
      "  blocks.4.ln2.hook_normalized | torch.float32 | [1, 1, 512]   | torch.Tensor | mps:0  | -2.75148    | 2.9417    | 0           \n",
      "         blocks.4.mlp.hook_pre | torch.float32 | [1, 1, 2048]  | torch.Tensor | mps:0  | -1.66406    | 1.30265   | -0.125828   \n",
      "        blocks.4.mlp.hook_post | torch.float32 | [1, 1, 2048]  | torch.Tensor | mps:0  | -0.169971   | 1.17715   | -0.0328672  \n",
      "         blocks.4.hook_mlp_out | torch.float32 | [1, 1, 512]   | torch.Tensor | mps:0  | -1.44759    | 1.38053   | -1.86265e-09\n",
      "      blocks.4.hook_resid_post | torch.float32 | [1, 1, 512]   | torch.Tensor | mps:0  | -1.70981    | 1.9681    | 0           \n",
      "       blocks.5.hook_resid_pre | torch.float32 | [1, 1, 512]   | torch.Tensor | mps:0  | -1.70981    | 1.9681    | 0           \n",
      "       blocks.5.ln1.hook_scale | torch.float32 | [1, 1, 1]     | torch.Tensor | mps:0  | 0.659189    | 0.659189  | 0.659189    \n",
      "  blocks.5.ln1.hook_normalized | torch.float32 | [1, 1, 512]   | torch.Tensor | mps:0  | -2.5938     | 2.98564   | 1.86265e-09 \n",
      "          blocks.5.attn.hook_q | torch.float32 | [1, 1, 8, 64] | torch.Tensor | mps:0  | -0.982605   | 0.980413  | -0.00965501 \n",
      "          blocks.5.attn.hook_k | torch.float32 | [1, 1, 8, 64] | torch.Tensor | mps:0  | -1.15966    | 0.887329  | 0.0041358   \n",
      "          blocks.5.attn.hook_v | torch.float32 | [1, 1, 8, 64] | torch.Tensor | mps:0  | -0.650087   | 0.848316  | 0.00323531  \n",
      "blocks.5.attn.hook_attn_scores | torch.float32 | [1, 8, 1, 1]  | torch.Tensor | mps:0  | -0.00531717 | 1.92746   | 0.730624    \n",
      "    blocks.5.attn.hook_pattern | torch.float32 | [1, 8, 1, 1]  | torch.Tensor | mps:0  | 1           | 1         | 1           \n",
      "          blocks.5.attn.hook_z | torch.float32 | [1, 1, 8, 64] | torch.Tensor | mps:0  | -0.650087   | 0.848316  | 0.00323531  \n",
      "        blocks.5.hook_attn_out | torch.float32 | [1, 1, 512]   | torch.Tensor | mps:0  | -1.01519    | 1.0769    | 1.86265e-09 \n",
      "       blocks.5.hook_resid_mid | torch.float32 | [1, 1, 512]   | torch.Tensor | mps:0  | -1.88711    | 1.93024   | 2.79397e-09 \n",
      "       blocks.5.ln2.hook_scale | torch.float32 | [1, 1, 1]     | torch.Tensor | mps:0  | 0.55929     | 0.55929   | 0.55929     \n",
      "  blocks.5.ln2.hook_normalized | torch.float32 | [1, 1, 512]   | torch.Tensor | mps:0  | -3.37413    | 3.45123   | 3.72529e-09 \n",
      "         blocks.5.mlp.hook_pre | torch.float32 | [1, 1, 2048]  | torch.Tensor | mps:0  | -1.27886    | 1.37478   | -0.0743533  \n",
      "        blocks.5.mlp.hook_post | torch.float32 | [1, 1, 2048]  | torch.Tensor | mps:0  | -0.169971   | 1.25847   | 0.0097539   \n",
      "         blocks.5.hook_mlp_out | torch.float32 | [1, 1, 512]   | torch.Tensor | mps:0  | -11.4168    | 7.40021   | 5.58794e-09 \n",
      "      blocks.5.hook_resid_post | torch.float32 | [1, 1, 512]   | torch.Tensor | mps:0  | -11.9114    | 7.10739   | 0           \n",
      "           ln_final.hook_scale | torch.float32 | [1, 1, 1]     | torch.Tensor | mps:0  | 1.26037     | 1.26037   | 1.26037     \n",
      "      ln_final.hook_normalized | torch.float32 | [1, 1, 512]   | torch.Tensor | mps:0  | -9.45067    | 5.63912   | 7.45058e-09 \n"
     ]
    }
   ],
   "source": [
    "# Let's look at what the model contains\n",
    "from arrgh import arrgh\n",
    "\n",
    "model.eval()\n",
    "with torch.device('cpu'):\n",
    "    inp = '<PATH_START>'\n",
    "    next_token, cache = model.run_with_cache(inp, prepend_bos=False)\n",
    "    \n",
    "arrgh(**cache)"
   ]
  },
  {
   "cell_type": "code",
   "execution_count": 10,
   "metadata": {},
   "outputs": [
    {
     "data": {
      "text/plain": [
       "'<PATH_START>'"
      ]
     },
     "execution_count": 10,
     "metadata": {},
     "output_type": "execute_result"
    }
   ],
   "source": [
    "inp"
   ]
  },
  {
   "cell_type": "code",
   "execution_count": 11,
   "metadata": {},
   "outputs": [],
   "source": [
    "from unsearch_research.stable.analysis import intervene_upon_generation\n",
    "\n",
    "\n",
    "def patching_hook(model_in, token_to_patch, layer_to_patch):\n",
    "    # Model in is list of str tokens (could batch tensor and use gather)\n",
    "    def layer_output_patch_hook(inp, hook):\n",
    "        # inp has shape [batch_size, seq_len, hidden_dim]\n",
    "        # Match token to patch\n",
    "        matched_pos = model_in.index(token_to_patch)\n",
    "\n",
    "        # patch inp at matched_pos\n",
    "        inp[:,matched_pos] += 5 * torch.randn_like(inp[:, 0, :])# 10 * torch.randn_like(inp[:, 0, :])\n",
    "        print(inp)\n",
    "        return inp\n",
    "\n",
    "    return [(f\"blocks.{layer_to_patch}.hook_resid_post\", layer_output_patch_hook)]\n"
   ]
  },
  {
   "cell_type": "code",
   "execution_count": 12,
   "metadata": {},
   "outputs": [],
   "source": [
    "# Prepare example and hook\n",
    "example = dataset[0].as_tokens(tokenizer)\n",
    "prompt, soln = example[: example.index(\"<PATH_START>\") + 1], example[example.index(\"<PATH_START>\") + 1 :]\n",
    "\n",
    "start_pos_random_patch_hook = patching_hook(prompt, \"<PATH_START>\", 2)"
   ]
  },
  {
   "cell_type": "code",
   "execution_count": 13,
   "metadata": {},
   "outputs": [
    {
     "data": {
      "application/vnd.jupyter.widget-view+json": {
       "model_id": "5dd51e6ea11c46d58b3eebdd96193d1a",
       "version_major": 2,
       "version_minor": 0
      },
      "text/plain": [
       "  0%|          | 0/40 [00:00<?, ?it/s]"
      ]
     },
     "metadata": {},
     "output_type": "display_data"
    },
    {
     "name": "stderr",
     "output_type": "stream",
     "text": [
      "/opt/homebrew/lib/python3.11/site-packages/transformer_lens/HookedTransformer.py:1660: UserWarning:\n",
      "\n",
      "The operator 'aten::isin.Tensor_Tensor_out' is not currently supported on the MPS backend and will fall back to run on the CPU. This may have performance implications. (Triggered internally at /Users/runner/work/pytorch/pytorch/pytorch/aten/src/ATen/mps/MPSFallback.mm:13.)\n",
      "\n"
     ]
    },
    {
     "data": {
      "application/vnd.jupyter.widget-view+json": {
       "model_id": "c80e6b4af1584d88911956ee34828cea",
       "version_major": 2,
       "version_minor": 0
      },
      "text/plain": [
       "  0%|          | 0/40 [00:00<?, ?it/s]"
      ]
     },
     "metadata": {},
     "output_type": "display_data"
    },
    {
     "name": "stdout",
     "output_type": "stream",
     "text": [
      "tensor([[[-0.1365, -0.2067, -0.1164,  ...,  0.3214,  0.4002, -0.0749],\n",
      "         [-0.1092, -0.1492, -0.1272,  ...,  0.3306,  0.1735, -0.0717],\n",
      "         [-0.7632,  0.2992,  0.8594,  ...,  0.2720,  0.5603,  1.1381],\n",
      "         ...,\n",
      "         [-0.0271,  1.2409, -0.6756,  ...,  1.1997, -0.4642, -0.1710],\n",
      "         [ 0.2418, -1.1416, -0.5995,  ..., -1.0302,  0.1248,  0.2211],\n",
      "         [ 4.3837,  0.9163,  1.1898,  ...,  0.7511, 10.3909, -3.6039]]],\n",
      "       device='mps:0', grad_fn=<CopySlices>)\n",
      "tensor([[[-0.1365, -0.2067, -0.1164,  ...,  0.3214,  0.4002, -0.0749],\n",
      "         [-0.1092, -0.1492, -0.1272,  ...,  0.3306,  0.1735, -0.0717],\n",
      "         [-0.7632,  0.2992,  0.8594,  ...,  0.2720,  0.5603,  1.1381],\n",
      "         ...,\n",
      "         [ 0.2418, -1.1416, -0.5995,  ..., -1.0302,  0.1248,  0.2211],\n",
      "         [-7.6679, -2.4388,  0.6540,  ..., -7.4529,  1.9220, -0.1323],\n",
      "         [-0.3428, -0.2805, -0.1669,  ..., -1.4082, -0.3464, -0.2916]]],\n",
      "       device='mps:0', grad_fn=<CopySlices>)\n",
      "tensor([[[-0.1365, -0.2067, -0.1164,  ...,  0.3214,  0.4002, -0.0749],\n",
      "         [-0.1092, -0.1492, -0.1272,  ...,  0.3306,  0.1735, -0.0717],\n",
      "         [-0.7632,  0.2992,  0.8594,  ...,  0.2720,  0.5603,  1.1381],\n",
      "         ...,\n",
      "         [ 0.9720, -3.6750,  1.4650,  ...,  2.4540,  4.1223,  7.7777],\n",
      "         [-0.3428, -0.2805, -0.1669,  ..., -1.4082, -0.3464, -0.2916],\n",
      "         [-0.5773,  0.3557, -0.5596,  ..., -1.6614,  0.1172, -0.1022]]],\n",
      "       device='mps:0', grad_fn=<CopySlices>)\n",
      "tensor([[[-0.1365, -0.2067, -0.1164,  ...,  0.3214,  0.4002, -0.0749],\n",
      "         [-0.1092, -0.1492, -0.1272,  ...,  0.3306,  0.1735, -0.0717],\n",
      "         [-0.7632,  0.2992,  0.8594,  ...,  0.2720,  0.5603,  1.1381],\n",
      "         ...,\n",
      "         [-0.3428, -0.2805, -0.1669,  ..., -1.4082, -0.3464, -0.2916],\n",
      "         [-0.5773,  0.3557, -0.5596,  ..., -1.6614,  0.1172, -0.1022],\n",
      "         [ 0.7870,  1.4797, -0.1790,  ..., -0.1958, -0.0318, -0.2075]]],\n",
      "       device='mps:0', grad_fn=<CopySlices>)\n",
      "tensor([[[-0.1365, -0.2067, -0.1164,  ...,  0.3214,  0.4002, -0.0749],\n",
      "         [-0.1092, -0.1492, -0.1272,  ...,  0.3306,  0.1735, -0.0717],\n",
      "         [-0.7632,  0.2992,  0.8594,  ...,  0.2720,  0.5603,  1.1381],\n",
      "         ...,\n",
      "         [-0.5773,  0.3557, -0.5596,  ..., -1.6614,  0.1172, -0.1022],\n",
      "         [ 0.7870,  1.4797, -0.1790,  ..., -0.1958, -0.0318, -0.2075],\n",
      "         [ 1.3904,  1.1866, -0.4296,  ...,  0.4638, -0.7776, -1.4430]]],\n",
      "       device='mps:0', grad_fn=<CopySlices>)\n",
      "tensor([[[-0.1365, -0.2067, -0.1164,  ...,  0.3214,  0.4002, -0.0749],\n",
      "         [-0.1092, -0.1492, -0.1272,  ...,  0.3306,  0.1735, -0.0717],\n",
      "         [-0.7632,  0.2992,  0.8594,  ...,  0.2720,  0.5603,  1.1381],\n",
      "         ...,\n",
      "         [ 0.7870,  1.4797, -0.1790,  ..., -0.1958, -0.0318, -0.2075],\n",
      "         [ 1.3904,  1.1866, -0.4296,  ...,  0.4638, -0.7776, -1.4430],\n",
      "         [ 0.0915,  0.7689, -0.2816,  ...,  0.4860, -0.1981,  0.9215]]],\n",
      "       device='mps:0', grad_fn=<CopySlices>)\n"
     ]
    }
   ],
   "source": [
    "# Run intervention - generate with hook applied to same layer\n",
    "#                    and token at each step of the rollout\n",
    "\n",
    "prediction_original = model.generate(\n",
    "    \" \".join(prompt),\n",
    "    prepend_bos=False,\n",
    "    max_new_tokens=40,\n",
    "    do_sample=False\n",
    ")\n",
    "\n",
    "prediction_perturbed = intervene_upon_generation(\n",
    "    model,\n",
    "    \" \".join(prompt),\n",
    "    start_pos_random_patch_hook,\n",
    "    do_sample=False,\n",
    "    max_new_tokens=40,\n",
    "    device=DEVICE,\n",
    ")\n",
    "prediction_perturbed = model.to_string(prediction_perturbed)[0]"
   ]
  },
  {
   "cell_type": "code",
   "execution_count": 14,
   "metadata": {},
   "outputs": [
    {
     "data": {
      "text/html": [
       "<pre style=\"white-space:pre;overflow-x:auto;line-height:normal;font-family:Menlo,'DejaVu Sans Mono',consolas,'Courier New',monospace\">┏━━━━━━━━━━━━━━┳━━━━━━━━━━━━━━┓\n",
       "┃<span style=\"font-weight: bold\">   Original   </span>┃<span style=\"font-weight: bold\">  Perturbed   </span>┃\n",
       "┡━━━━━━━━━━━━━━╇━━━━━━━━━━━━━━┩\n",
       "│ &lt;PATH_START&gt; │ &lt;PATH_START&gt; │\n",
       "│    (1,3)     │    (3,6)     │\n",
       "│    (0,3)     │    (4,6)     │\n",
       "│    (0,2)     │    (3,4)     │\n",
       "│    (1,2)     │    (2,4)     │\n",
       "│    (2,2)     │    (2,3)     │\n",
       "│    (2,1)     │  &lt;PATH_END&gt;  │\n",
       "│    (2,0)     │              │\n",
       "│    (3,0)     │              │\n",
       "│    (4,0)     │              │\n",
       "│    (4,1)     │              │\n",
       "│    (4,2)     │              │\n",
       "│    (4,3)     │              │\n",
       "│    (4,4)     │              │\n",
       "│    (3,4)     │              │\n",
       "│    (2,4)     │              │\n",
       "│    (2,3)     │              │\n",
       "│  &lt;PATH_END&gt;  │              │\n",
       "└──────────────┴──────────────┘\n",
       "</pre>\n"
      ],
      "text/plain": [
       "┏━━━━━━━━━━━━━━┳━━━━━━━━━━━━━━┓\n",
       "┃\u001b[1m \u001b[0m\u001b[1m  Original  \u001b[0m\u001b[1m \u001b[0m┃\u001b[1m \u001b[0m\u001b[1m Perturbed  \u001b[0m\u001b[1m \u001b[0m┃\n",
       "┡━━━━━━━━━━━━━━╇━━━━━━━━━━━━━━┩\n",
       "│ <PATH_START> │ <PATH_START> │\n",
       "│    (1,3)     │    (3,6)     │\n",
       "│    (0,3)     │    (4,6)     │\n",
       "│    (0,2)     │    (3,4)     │\n",
       "│    (1,2)     │    (2,4)     │\n",
       "│    (2,2)     │    (2,3)     │\n",
       "│    (2,1)     │  <PATH_END>  │\n",
       "│    (2,0)     │              │\n",
       "│    (3,0)     │              │\n",
       "│    (4,0)     │              │\n",
       "│    (4,1)     │              │\n",
       "│    (4,2)     │              │\n",
       "│    (4,3)     │              │\n",
       "│    (4,4)     │              │\n",
       "│    (3,4)     │              │\n",
       "│    (2,4)     │              │\n",
       "│    (2,3)     │              │\n",
       "│  <PATH_END>  │              │\n",
       "└──────────────┴──────────────┘\n"
      ]
     },
     "metadata": {},
     "output_type": "display_data"
    }
   ],
   "source": [
    "# Look at the output\n",
    "from unsearch_research.stable.utils import get_aligned_lists\n",
    "\n",
    "get_aligned_lists(\n",
    "    prediction_original.split(\" \")[len(prompt)-1:],\n",
    "    prediction_perturbed.split(\" \")[len(prompt)-1:],\n",
    "    titles=[\"Original\", \"Perturbed\"],\n",
    "    use_rich=True,\n",
    ")"
   ]
  },
  {
   "cell_type": "code",
   "execution_count": 15,
   "metadata": {},
   "outputs": [
    {
     "data": {
      "text/plain": [
       "GridSpec(1, 2)[0:1, 1:2]"
      ]
     },
     "execution_count": 15,
     "metadata": {},
     "output_type": "execute_result"
    },
    {
     "data": {
      "image/png": "[encoded data removed]",
      "text/plain": [
       "<Figure size 640x480 with 2 Axes>"
      ]
     },
     "metadata": {},
     "output_type": "display_data"
    }
   ],
   "source": [
    "# Plot the output\n",
    "gs = GridSpec(1, 2)\n",
    "plot_maze(prediction_original, tokenizer=tokenizer, ax=gs[0, 0], ax_labels={'maze':{'title': 'Original'}})\n",
    "plot_maze(prediction_perturbed, tokenizer=tokenizer, ax=gs[0, 1], ax_labels={'maze':{'title': 'Perturbed'}})"
   ]
  },
  {
   "cell_type": "markdown",
   "metadata": {},
   "source": [
    "## Creating data set (start with right/left turn)"
   ]
  },
  {
   "cell_type": "code",
   "execution_count": 16,
   "metadata": {},
   "outputs": [
    {
     "name": "stdout",
     "output_type": "stream",
     "text": [
      "###########\n",
      "#    XXX# #\n",
      "# ###X#X# #\n",
      "#   #X#S  #\n",
      "#####X#####\n",
      "#XXXXX#EXX#\n",
      "#X### ###X#\n",
      "#X#     #X#\n",
      "#X#######X#\n",
      "#XXXXXXXXX#\n",
      "###########\n",
      "{'func_name': 'gen_dfs', 'grid_shape': array([5, 5]), 'start_coord': array([2, 3]), 'n_accessible_cells': 25, 'max_tree_depth': 50, 'fully_connected': True, 'visited_cells': [[4, 0], [3, 4], [4, 3], [3, 1], [0, 2], [2, 2], [1, 0], [1, 3], [4, 2], [3, 0], [3, 3], [0, 1], [2, 4], [1, 2], [0, 4], [2, 1], [3, 2], [4, 1], [4, 4], [0, 0], [1, 1], [0, 3], [2, 0], [1, 4], [2, 3]]}\n"
     ]
    }
   ],
   "source": [
    "maze: SolvedMaze = dataset[0]\n",
    "\n",
    "print(maze.as_ascii())\n",
    "\n",
    "print(maze.generation_meta)\n",
    "\n",
    "lattice_maze: LatticeMaze = LatticeMaze(\n",
    "\tconnection_list=maze.connection_list,\n",
    "\tgeneration_meta=maze.generation_meta,\n",
    ")"
   ]
  },
  {
   "cell_type": "code",
   "execution_count": 17,
   "metadata": {},
   "outputs": [
    {
     "data": {
      "text/plain": [
       "(<Figure size 10000x200 with 100 Axes>,\n",
       " array([<Axes: >, <Axes: >, <Axes: >, <Axes: >, <Axes: >, <Axes: >,\n",
       "        <Axes: >, <Axes: >, <Axes: >, <Axes: >, <Axes: >, <Axes: >,\n",
       "        <Axes: >, <Axes: >, <Axes: >, <Axes: >, <Axes: >, <Axes: >,\n",
       "        <Axes: >, <Axes: >, <Axes: >, <Axes: >, <Axes: >, <Axes: >,\n",
       "        <Axes: >, <Axes: >, <Axes: >, <Axes: >, <Axes: >, <Axes: >,\n",
       "        <Axes: >, <Axes: >, <Axes: >, <Axes: >, <Axes: >, <Axes: >,\n",
       "        <Axes: >, <Axes: >, <Axes: >, <Axes: >, <Axes: >, <Axes: >,\n",
       "        <Axes: >, <Axes: >, <Axes: >, <Axes: >, <Axes: >, <Axes: >,\n",
       "        <Axes: >, <Axes: >, <Axes: >, <Axes: >, <Axes: >, <Axes: >,\n",
       "        <Axes: >, <Axes: >, <Axes: >, <Axes: >, <Axes: >, <Axes: >,\n",
       "        <Axes: >, <Axes: >, <Axes: >, <Axes: >, <Axes: >, <Axes: >,\n",
       "        <Axes: >, <Axes: >, <Axes: >, <Axes: >, <Axes: >, <Axes: >,\n",
       "        <Axes: >, <Axes: >, <Axes: >, <Axes: >, <Axes: >, <Axes: >,\n",
       "        <Axes: >, <Axes: >, <Axes: >, <Axes: >, <Axes: >, <Axes: >,\n",
       "        <Axes: >, <Axes: >, <Axes: >, <Axes: >, <Axes: >, <Axes: >,\n",
       "        <Axes: >, <Axes: >, <Axes: >, <Axes: >, <Axes: >, <Axes: >,\n",
       "        <Axes: >, <Axes: >, <Axes: >, <Axes: >], dtype=object))"
      ]
     },
     "execution_count": 17,
     "metadata": {},
     "output_type": "execute_result"
    },
    {
     "data": {
      "image/png": "[encoded data removed]",
      "text/plain": [
       "<Figure size 10000x200 with 100 Axes>"
      ]
     },
     "metadata": {},
     "output_type": "display_data"
    }
   ],
   "source": [
    "variants: list[SolvedMaze] = [\n",
    "\tSolvedMaze(\n",
    "\t\tconnection_list=lattice_maze.connection_list,\n",
    "\t\tgeneration_meta=lattice_maze.generation_meta,\n",
    "\t\tsolution=lattice_maze.generate_random_path(),\n",
    "\t)\n",
    "\tfor _ in range(100)\n",
    "]\n",
    "variants_dataset = MazeDataset(\n",
    "\tcfg=dataset.cfg,\n",
    "\tmazes=variants,\n",
    ")\n",
    "plot_dataset_mazes(variants_dataset)"
   ]
  },
  {
   "cell_type": "code",
   "execution_count": 18,
   "metadata": {},
   "outputs": [
    {
     "data": {
      "text/plain": [
       "(<Figure size 7600x200 with 76 Axes>,\n",
       " array([<Axes: >, <Axes: >, <Axes: >, <Axes: >, <Axes: >, <Axes: >,\n",
       "        <Axes: >, <Axes: >, <Axes: >, <Axes: >, <Axes: >, <Axes: >,\n",
       "        <Axes: >, <Axes: >, <Axes: >, <Axes: >, <Axes: >, <Axes: >,\n",
       "        <Axes: >, <Axes: >, <Axes: >, <Axes: >, <Axes: >, <Axes: >,\n",
       "        <Axes: >, <Axes: >, <Axes: >, <Axes: >, <Axes: >, <Axes: >,\n",
       "        <Axes: >, <Axes: >, <Axes: >, <Axes: >, <Axes: >, <Axes: >,\n",
       "        <Axes: >, <Axes: >, <Axes: >, <Axes: >, <Axes: >, <Axes: >,\n",
       "        <Axes: >, <Axes: >, <Axes: >, <Axes: >, <Axes: >, <Axes: >,\n",
       "        <Axes: >, <Axes: >, <Axes: >, <Axes: >, <Axes: >, <Axes: >,\n",
       "        <Axes: >, <Axes: >, <Axes: >, <Axes: >, <Axes: >, <Axes: >,\n",
       "        <Axes: >, <Axes: >, <Axes: >, <Axes: >, <Axes: >, <Axes: >,\n",
       "        <Axes: >, <Axes: >, <Axes: >, <Axes: >, <Axes: >, <Axes: >,\n",
       "        <Axes: >, <Axes: >, <Axes: >, <Axes: >], dtype=object))"
      ]
     },
     "execution_count": 18,
     "metadata": {},
     "output_type": "execute_result"
    },
    {
     "data": {
      "image/png": "[encoded data removed]",
      "text/plain": [
       "<Figure size 7600x200 with 76 Axes>"
      ]
     },
     "metadata": {},
     "output_type": "display_data"
    }
   ],
   "source": [
    "dataset_filtered: MazeDataset = variants_dataset.custom_maze_filter(\n",
    "\tlambda m : len(m.get_coord_neighbors(m.start_pos)) > 1\n",
    ")\n",
    "\n",
    "plot_dataset_mazes(dataset_filtered)"
   ]
  },
  {
   "cell_type": "code",
   "execution_count": 19,
   "metadata": {},
   "outputs": [
    {
     "data": {
      "text/plain": [
       "<maze_dataset.dataset.maze_dataset.MazeDataset at 0x3253dd9d0>"
      ]
     },
     "execution_count": 19,
     "metadata": {},
     "output_type": "execute_result"
    }
   ],
   "source": [
    "variants_dataset.custom_maze_filter(lambda m : m.get_solution_tokens()[1][1] < m.get_solution_tokens()[2][1])"
   ]
  },
  {
   "cell_type": "markdown",
   "metadata": {},
   "source": [
    "## Creating data set that always starts with a right turn"
   ]
  },
  {
   "cell_type": "code",
   "execution_count": 20,
   "metadata": {},
   "outputs": [
    {
     "data": {
      "text/plain": [
       "(<Figure size 3400x200 with 34 Axes>,\n",
       " array([<Axes: >, <Axes: >, <Axes: >, <Axes: >, <Axes: >, <Axes: >,\n",
       "        <Axes: >, <Axes: >, <Axes: >, <Axes: >, <Axes: >, <Axes: >,\n",
       "        <Axes: >, <Axes: >, <Axes: >, <Axes: >, <Axes: >, <Axes: >,\n",
       "        <Axes: >, <Axes: >, <Axes: >, <Axes: >, <Axes: >, <Axes: >,\n",
       "        <Axes: >, <Axes: >, <Axes: >, <Axes: >, <Axes: >, <Axes: >,\n",
       "        <Axes: >, <Axes: >, <Axes: >, <Axes: >], dtype=object))"
      ]
     },
     "execution_count": 20,
     "metadata": {},
     "output_type": "execute_result"
    },
    {
     "data": {
      "image/png": "[encoded data removed]",
      "text/plain": [
       "<Figure size 3400x200 with 34 Axes>"
      ]
     },
     "metadata": {},
     "output_type": "display_data"
    }
   ],
   "source": [
    "dataset_right: MazeDataset = variants_dataset.custom_maze_filter(\n",
    "\tlambda m : m.get_solution_tokens()[1][1] < m.get_solution_tokens()[2][1]\n",
    ")\n",
    "\n",
    "dataset_left: MazeDataset = variants_dataset.custom_maze_filter(\n",
    "\tlambda m : m.get_solution_tokens()[1][1] > m.get_solution_tokens()[2][1]\n",
    ")\n",
    "\n",
    "plot_dataset_mazes(dataset_left)"
   ]
  },
  {
   "cell_type": "markdown",
   "metadata": {},
   "source": [
    "Now I need to somehow get the activations of the first step!\n",
    "\n"
   ]
  },
  {
   "cell_type": "code",
   "execution_count": 21,
   "metadata": {},
   "outputs": [
    {
     "data": {
      "application/vnd.jupyter.widget-view+json": {
       "model_id": "93de9dc7c9b24220837ca1a237c6039e",
       "version_major": 2,
       "version_minor": 0
      },
      "text/plain": [
       "  0%|          | 0/40 [00:00<?, ?it/s]"
      ]
     },
     "metadata": {},
     "output_type": "display_data"
    }
   ],
   "source": [
    "# Prepare example and hook\n",
    "example = dataset_right[1].as_tokens(tokenizer)\n",
    "prompt, soln = example[: example.index(\"<PATH_START>\") + 1], example[example.index(\"<PATH_START>\") + 1 :]\n",
    "\n",
    "prediction_original = model.generate(\n",
    "    \" \".join(prompt),\n",
    "    prepend_bos=False,\n",
    "    max_new_tokens=40,\n",
    "    do_sample=False\n",
    ")"
   ]
  },
  {
   "cell_type": "code",
   "execution_count": 22,
   "metadata": {},
   "outputs": [
    {
     "data": {
      "text/plain": [
       "GridSpec(1, 2)[0:1, 0:1]"
      ]
     },
     "execution_count": 22,
     "metadata": {},
     "output_type": "execute_result"
    },
    {
     "data": {
      "image/png": "[encoded data removed]",
      "text/plain": [
       "<Figure size 640x480 with 1 Axes>"
      ]
     },
     "metadata": {},
     "output_type": "display_data"
    }
   ],
   "source": [
    "plot_maze(prediction_original, tokenizer=tokenizer, ax=gs[0, 0], ax_labels={'maze':{'title': 'Original'}})\n"
   ]
  },
  {
   "cell_type": "code",
   "execution_count": 23,
   "metadata": {},
   "outputs": [
    {
     "data": {
      "application/vnd.jupyter.widget-view+json": {
       "model_id": "423999cf67da46d9b675bfc8f3d5e240",
       "version_major": 2,
       "version_minor": 0
      },
      "text/plain": [
       "  0%|          | 0/40 [00:00<?, ?it/s]"
      ]
     },
     "metadata": {},
     "output_type": "display_data"
    },
    {
     "data": {
      "application/vnd.jupyter.widget-view+json": {
       "model_id": "8e9058d767324634b98b6ce305a7eef5",
       "version_major": 2,
       "version_minor": 0
      },
      "text/plain": [
       "  0%|          | 0/40 [00:00<?, ?it/s]"
      ]
     },
     "metadata": {},
     "output_type": "display_data"
    },
    {
     "data": {
      "application/vnd.jupyter.widget-view+json": {
       "model_id": "c143c444e0384b8db1e5e231fe48c126",
       "version_major": 2,
       "version_minor": 0
      },
      "text/plain": [
       "  0%|          | 0/40 [00:00<?, ?it/s]"
      ]
     },
     "metadata": {},
     "output_type": "display_data"
    },
    {
     "data": {
      "application/vnd.jupyter.widget-view+json": {
       "model_id": "b421184aeeb34459b1173460edd2d93d",
       "version_major": 2,
       "version_minor": 0
      },
      "text/plain": [
       "  0%|          | 0/40 [00:00<?, ?it/s]"
      ]
     },
     "metadata": {},
     "output_type": "display_data"
    },
    {
     "data": {
      "application/vnd.jupyter.widget-view+json": {
       "model_id": "7fbe894c6f71447fbfe6ceb5a178a9a8",
       "version_major": 2,
       "version_minor": 0
      },
      "text/plain": [
       "  0%|          | 0/40 [00:00<?, ?it/s]"
      ]
     },
     "metadata": {},
     "output_type": "display_data"
    },
    {
     "data": {
      "application/vnd.jupyter.widget-view+json": {
       "model_id": "956e32fb15f842378d9f778b16a623c0",
       "version_major": 2,
       "version_minor": 0
      },
      "text/plain": [
       "  0%|          | 0/40 [00:00<?, ?it/s]"
      ]
     },
     "metadata": {},
     "output_type": "display_data"
    },
    {
     "data": {
      "application/vnd.jupyter.widget-view+json": {
       "model_id": "98cc2bdad505436c9e36c8a1a9dfaa26",
       "version_major": 2,
       "version_minor": 0
      },
      "text/plain": [
       "  0%|          | 0/40 [00:00<?, ?it/s]"
      ]
     },
     "metadata": {},
     "output_type": "display_data"
    },
    {
     "data": {
      "application/vnd.jupyter.widget-view+json": {
       "model_id": "a86d029fec84488aaac697afad241b0c",
       "version_major": 2,
       "version_minor": 0
      },
      "text/plain": [
       "  0%|          | 0/40 [00:00<?, ?it/s]"
      ]
     },
     "metadata": {},
     "output_type": "display_data"
    },
    {
     "data": {
      "application/vnd.jupyter.widget-view+json": {
       "model_id": "1d6d8e40dce7464db4bf7e44d6feab6f",
       "version_major": 2,
       "version_minor": 0
      },
      "text/plain": [
       "  0%|          | 0/40 [00:00<?, ?it/s]"
      ]
     },
     "metadata": {},
     "output_type": "display_data"
    },
    {
     "data": {
      "application/vnd.jupyter.widget-view+json": {
       "model_id": "9f570251a9314dd996846bb5c88c8693",
       "version_major": 2,
       "version_minor": 0
      },
      "text/plain": [
       "  0%|          | 0/40 [00:00<?, ?it/s]"
      ]
     },
     "metadata": {},
     "output_type": "display_data"
    },
    {
     "data": {
      "application/vnd.jupyter.widget-view+json": {
       "model_id": "00c2f09a99a54d53acd3b5dd46ba3256",
       "version_major": 2,
       "version_minor": 0
      },
      "text/plain": [
       "  0%|          | 0/40 [00:00<?, ?it/s]"
      ]
     },
     "metadata": {},
     "output_type": "display_data"
    },
    {
     "data": {
      "application/vnd.jupyter.widget-view+json": {
       "model_id": "0647a48633684da79ff6aa6caea19f99",
       "version_major": 2,
       "version_minor": 0
      },
      "text/plain": [
       "  0%|          | 0/40 [00:00<?, ?it/s]"
      ]
     },
     "metadata": {},
     "output_type": "display_data"
    },
    {
     "data": {
      "application/vnd.jupyter.widget-view+json": {
       "model_id": "226442648b6d46adbb0a2cfe7172946f",
       "version_major": 2,
       "version_minor": 0
      },
      "text/plain": [
       "  0%|          | 0/40 [00:00<?, ?it/s]"
      ]
     },
     "metadata": {},
     "output_type": "display_data"
    },
    {
     "data": {
      "application/vnd.jupyter.widget-view+json": {
       "model_id": "7a43c919abc24c62a7e7cba3060501ac",
       "version_major": 2,
       "version_minor": 0
      },
      "text/plain": [
       "  0%|          | 0/40 [00:00<?, ?it/s]"
      ]
     },
     "metadata": {},
     "output_type": "display_data"
    },
    {
     "data": {
      "application/vnd.jupyter.widget-view+json": {
       "model_id": "dbf6fd78aa2945d58a51f9ee2dc1299e",
       "version_major": 2,
       "version_minor": 0
      },
      "text/plain": [
       "  0%|          | 0/40 [00:00<?, ?it/s]"
      ]
     },
     "metadata": {},
     "output_type": "display_data"
    },
    {
     "data": {
      "application/vnd.jupyter.widget-view+json": {
       "model_id": "c8d17ef3aeee40f991549c9577dfa77c",
       "version_major": 2,
       "version_minor": 0
      },
      "text/plain": [
       "  0%|          | 0/40 [00:00<?, ?it/s]"
      ]
     },
     "metadata": {},
     "output_type": "display_data"
    },
    {
     "data": {
      "application/vnd.jupyter.widget-view+json": {
       "model_id": "16249e4a38e14ed3b60c9ec051022e94",
       "version_major": 2,
       "version_minor": 0
      },
      "text/plain": [
       "  0%|          | 0/40 [00:00<?, ?it/s]"
      ]
     },
     "metadata": {},
     "output_type": "display_data"
    },
    {
     "data": {
      "application/vnd.jupyter.widget-view+json": {
       "model_id": "3a7211471b474aecb4cf0f22c11a0045",
       "version_major": 2,
       "version_minor": 0
      },
      "text/plain": [
       "  0%|          | 0/40 [00:00<?, ?it/s]"
      ]
     },
     "metadata": {},
     "output_type": "display_data"
    },
    {
     "data": {
      "application/vnd.jupyter.widget-view+json": {
       "model_id": "0074bcd10f674ce3ad2b5fa161d23cdb",
       "version_major": 2,
       "version_minor": 0
      },
      "text/plain": [
       "  0%|          | 0/40 [00:00<?, ?it/s]"
      ]
     },
     "metadata": {},
     "output_type": "display_data"
    },
    {
     "data": {
      "application/vnd.jupyter.widget-view+json": {
       "model_id": "47b219d0aecf4fc1ac3da6ef5d7f1016",
       "version_major": 2,
       "version_minor": 0
      },
      "text/plain": [
       "  0%|          | 0/40 [00:00<?, ?it/s]"
      ]
     },
     "metadata": {},
     "output_type": "display_data"
    },
    {
     "data": {
      "application/vnd.jupyter.widget-view+json": {
       "model_id": "990c93b835b54032898b558461ff1c10",
       "version_major": 2,
       "version_minor": 0
      },
      "text/plain": [
       "  0%|          | 0/40 [00:00<?, ?it/s]"
      ]
     },
     "metadata": {},
     "output_type": "display_data"
    },
    {
     "data": {
      "application/vnd.jupyter.widget-view+json": {
       "model_id": "8409330dd26f44ba9419fb2c0c8ad215",
       "version_major": 2,
       "version_minor": 0
      },
      "text/plain": [
       "  0%|          | 0/40 [00:00<?, ?it/s]"
      ]
     },
     "metadata": {},
     "output_type": "display_data"
    },
    {
     "data": {
      "application/vnd.jupyter.widget-view+json": {
       "model_id": "f80823ff3e2a4f6d98822318112b34e5",
       "version_major": 2,
       "version_minor": 0
      },
      "text/plain": [
       "  0%|          | 0/40 [00:00<?, ?it/s]"
      ]
     },
     "metadata": {},
     "output_type": "display_data"
    },
    {
     "data": {
      "application/vnd.jupyter.widget-view+json": {
       "model_id": "4d4241d8066f4146bcaa1d657e67c5d2",
       "version_major": 2,
       "version_minor": 0
      },
      "text/plain": [
       "  0%|          | 0/40 [00:00<?, ?it/s]"
      ]
     },
     "metadata": {},
     "output_type": "display_data"
    },
    {
     "data": {
      "application/vnd.jupyter.widget-view+json": {
       "model_id": "f84cd137a5444f15a8f3b851b0ef2130",
       "version_major": 2,
       "version_minor": 0
      },
      "text/plain": [
       "  0%|          | 0/40 [00:00<?, ?it/s]"
      ]
     },
     "metadata": {},
     "output_type": "display_data"
    },
    {
     "data": {
      "application/vnd.jupyter.widget-view+json": {
       "model_id": "df140c5e667a48fcb9f2e58060891fcb",
       "version_major": 2,
       "version_minor": 0
      },
      "text/plain": [
       "  0%|          | 0/40 [00:00<?, ?it/s]"
      ]
     },
     "metadata": {},
     "output_type": "display_data"
    },
    {
     "data": {
      "application/vnd.jupyter.widget-view+json": {
       "model_id": "80e73f8285a641ae89e97b24ba256969",
       "version_major": 2,
       "version_minor": 0
      },
      "text/plain": [
       "  0%|          | 0/40 [00:00<?, ?it/s]"
      ]
     },
     "metadata": {},
     "output_type": "display_data"
    },
    {
     "data": {
      "application/vnd.jupyter.widget-view+json": {
       "model_id": "c5384fbe599c403f8deb474d8f097992",
       "version_major": 2,
       "version_minor": 0
      },
      "text/plain": [
       "  0%|          | 0/40 [00:00<?, ?it/s]"
      ]
     },
     "metadata": {},
     "output_type": "display_data"
    },
    {
     "data": {
      "application/vnd.jupyter.widget-view+json": {
       "model_id": "4c0c7c4f03ed45738a63f6790afbe7f3",
       "version_major": 2,
       "version_minor": 0
      },
      "text/plain": [
       "  0%|          | 0/40 [00:00<?, ?it/s]"
      ]
     },
     "metadata": {},
     "output_type": "display_data"
    },
    {
     "data": {
      "application/vnd.jupyter.widget-view+json": {
       "model_id": "3c91941848d7464eb120653f2bc1b5a7",
       "version_major": 2,
       "version_minor": 0
      },
      "text/plain": [
       "  0%|          | 0/40 [00:00<?, ?it/s]"
      ]
     },
     "metadata": {},
     "output_type": "display_data"
    },
    {
     "data": {
      "application/vnd.jupyter.widget-view+json": {
       "model_id": "39b2311dc693437dae0328a4969d5fdc",
       "version_major": 2,
       "version_minor": 0
      },
      "text/plain": [
       "  0%|          | 0/40 [00:00<?, ?it/s]"
      ]
     },
     "metadata": {},
     "output_type": "display_data"
    },
    {
     "data": {
      "application/vnd.jupyter.widget-view+json": {
       "model_id": "ff3a141c632343eeb3bc9ed3685608cc",
       "version_major": 2,
       "version_minor": 0
      },
      "text/plain": [
       "  0%|          | 0/40 [00:00<?, ?it/s]"
      ]
     },
     "metadata": {},
     "output_type": "display_data"
    },
    {
     "data": {
      "application/vnd.jupyter.widget-view+json": {
       "model_id": "333466aff10840878bc032b578147ef0",
       "version_major": 2,
       "version_minor": 0
      },
      "text/plain": [
       "  0%|          | 0/40 [00:00<?, ?it/s]"
      ]
     },
     "metadata": {},
     "output_type": "display_data"
    },
    {
     "data": {
      "application/vnd.jupyter.widget-view+json": {
       "model_id": "0988c52ce45147e0a60e2fc4cc3ca6d6",
       "version_major": 2,
       "version_minor": 0
      },
      "text/plain": [
       "  0%|          | 0/40 [00:00<?, ?it/s]"
      ]
     },
     "metadata": {},
     "output_type": "display_data"
    }
   ],
   "source": [
    "preds=[]\n",
    "for i in range(len(dataset_left)):\n",
    "    # Prepare example and hook\n",
    "    example = dataset_left[i].as_tokens(tokenizer) \n",
    "    prompt, soln = example[: example.index(\"<PATH_START>\") + 1], example[example.index(\"<PATH_START>\") + 1 :]\n",
    "\n",
    "    prediction_original = model.generate(\n",
    "        \" \".join(prompt),\n",
    "        prepend_bos=False,\n",
    "        max_new_tokens=40,\n",
    "        do_sample=False\n",
    "    )\n",
    "    preds.append(prediction_original)\n",
    "\n"
   ]
  },
  {
   "cell_type": "code",
   "execution_count": 24,
   "metadata": {},
   "outputs": [
    {
     "data": {
      "image/png": "[encoded data removed]",
      "text/plain": [
       "<Figure size 1500x500 with 34 Axes>"
      ]
     },
     "metadata": {},
     "output_type": "display_data"
    }
   ],
   "source": [
    "plt.figure(figsize=(15,5))\n",
    "gs = GridSpec(1, len(dataset_left))\n",
    "for i in range(len(dataset_left)):\n",
    "    plot_maze(preds[i], tokenizer=tokenizer, ax=gs[0, i])"
   ]
  },
  {
   "cell_type": "code",
   "execution_count": 37,
   "metadata": {},
   "outputs": [],
   "source": [
    "layer = 5\n",
    "coeff = 5"
   ]
  },
  {
   "cell_type": "code",
   "execution_count": 38,
   "metadata": {},
   "outputs": [],
   "source": [
    "example = dataset_right[0].as_tokens(tokenizer) \n",
    "prompt, soln = example[: example.index(\"<PATH_START>\") + 1], example[example.index(\"<PATH_START>\") + 1 :]\n",
    "\n",
    "name = f\"blocks.{layer}.hook_resid_pre\"\n",
    "cache, caching_hooks, _ = model.get_caching_hooks(lambda n: n == name)\n",
    "with model.hooks(fwd_hooks=caching_hooks):\n",
    "    _ = model(\" \".join(prompt))\n",
    "c = cache[name]"
   ]
  },
  {
   "cell_type": "code",
   "execution_count": 39,
   "metadata": {},
   "outputs": [],
   "source": [
    "cache_n_r=torch.zeros_like(c)\n",
    "for i in range(len(dataset_right)):\n",
    "    # Prepare example and hook\n",
    "    example = dataset_right[i].as_tokens(tokenizer) \n",
    "    prompt, soln = example[: example.index(\"<PATH_START>\") + 1], example[example.index(\"<PATH_START>\") + 1 :]\n",
    "\n",
    "    name = f\"blocks.{layer}.hook_resid_pre\"\n",
    "    cache, caching_hooks, _ = model.get_caching_hooks(lambda n: n == name)\n",
    "    with model.hooks(fwd_hooks=caching_hooks):\n",
    "        _ = model(\" \".join(prompt))\n",
    "    cache_n_r+= cache[name]/len(dataset_right)"
   ]
  },
  {
   "cell_type": "markdown",
   "metadata": {},
   "source": [
    "TO DO\n",
    "put the mazes into a batch and can just run the batch in the model!!\n",
    "make sure they are padded (they are the same lenght)"
   ]
  },
  {
   "cell_type": "code",
   "execution_count": 40,
   "metadata": {},
   "outputs": [],
   "source": [
    "cache_n_l=torch.zeros_like(c)\n",
    "\n",
    "for i in range(len(dataset_left)):\n",
    "    # Prepare example and hook\n",
    "    example = dataset_left[i].as_tokens(tokenizer) \n",
    "    prompt, soln = example[: example.index(\"<PATH_START>\") + 1], example[example.index(\"<PATH_START>\") + 1 :]\n",
    "\n",
    "    name = f\"blocks.{layer}.hook_resid_pre\"\n",
    "    cache, caching_hooks, _ = model.get_caching_hooks(lambda n: True)\n",
    "    with model.hooks(fwd_hooks=caching_hooks):\n",
    "        _ = model(\" \".join(prompt))\n",
    "    cache_n_l += cache[name]/len(dataset_left)"
   ]
  },
  {
   "cell_type": "code",
   "execution_count": 41,
   "metadata": {},
   "outputs": [
    {
     "data": {
      "text/plain": [
       "torch.Size([1, 106, 512])"
      ]
     },
     "execution_count": 41,
     "metadata": {},
     "output_type": "execute_result"
    }
   ],
   "source": [
    "cache_n_r.shape"
   ]
  },
  {
   "cell_type": "code",
   "execution_count": 42,
   "metadata": {},
   "outputs": [
    {
     "data": {
      "text/plain": [
       "105"
      ]
     },
     "execution_count": 42,
     "metadata": {},
     "output_type": "execute_result"
    }
   ],
   "source": [
    "len(prompt)"
   ]
  },
  {
   "cell_type": "code",
   "execution_count": 43,
   "metadata": {},
   "outputs": [],
   "source": [
    "act_diff = cache_n_r-cache_n_l"
   ]
  },
  {
   "cell_type": "code",
   "execution_count": 44,
   "metadata": {},
   "outputs": [
    {
     "name": "stdout",
     "output_type": "stream",
     "text": [
      "blocks:\n",
      "  '[0-11]':\n",
      "    attn:\n",
      "      hook_q: (1, 106, 8, 64)\n",
      "      hook_v: (1, 106, 8, 64)\n",
      "      hook_z: (1, 106, 8, 64)\n",
      "    hook_attn_out: (1, 106, 512)\n",
      "    hook_mlp_out: (1, 106, 512)\n",
      "    hook_resid_mid: (1, 106, 512)\n",
      "    hook_resid_post: (1, 106, 512)\n",
      "    hook_resid_pre: (1, 106, 512)\n",
      "    ln1:\n",
      "      hook_normalized: (1, 106, 512)\n",
      "      hook_scale: (1, 106, 1)\n",
      "    ln2:\n",
      "      hook_normalized: (1, 106, 512)\n",
      "      hook_scale: (1, 106, 1)\n",
      "    mlp:\n",
      "      hook_post: (1, 106, 2048)\n",
      "      hook_pre: (1, 106, 2048)\n",
      "hook_embed: (1, 106, 512)\n",
      "hook_pos_embed: (1, 106, 512)\n",
      "ln_final.hook_normalized: (1, 106, 512)\n",
      "ln_final.hook_scale: (1, 106, 1)\n",
      "\n"
     ]
    }
   ],
   "source": [
    "import re\n",
    "import pprint\n",
    "from collections import defaultdict\n",
    "\n",
    "def construct_activation_summary(cache, shapes_as_str: bool = False):\n",
    "    def recursive_insert(tree, keys, value):\n",
    "        if len(keys) == 1:\n",
    "            tree[keys[0]] = value\n",
    "        else:\n",
    "            if keys[0] not in tree:\n",
    "                tree[keys[0]] = {}\n",
    "            recursive_insert(tree[keys[0]], keys[1:], value)\n",
    "\n",
    "    def shape_conversion(value):\n",
    "        if shapes_as_str:\n",
    "            return str(tuple(value.shape))\n",
    "        else:\n",
    "            return tuple(value.shape)\n",
    "\n",
    "    activation_summary = {}\n",
    "    pattern = re.compile(r'^blocks\\.(\\d+)\\.(.*)$')\n",
    "    block_keys = defaultdict(lambda: defaultdict(lambda: []))\n",
    "\n",
    "    # First pass to collect keys and block numbers\n",
    "    for key, value in cache.items():\n",
    "        match = pattern.match(key)\n",
    "        if match:\n",
    "            block_num, sub_key = match.groups()\n",
    "            block_keys[sub_key][shape_conversion(value)].append(int(block_num))\n",
    "\n",
    "    # Second pass to insert with aggregated ranges\n",
    "    for sub_key, shapes in block_keys.items():\n",
    "        for shape, blocks in shapes.items():\n",
    "            blocks.sort()\n",
    "            # Check if the sequence of blocks is continuous\n",
    "            if blocks[-1] - blocks[0] == len(blocks) - 1:\n",
    "                new_key = f\"blocks.[{blocks[0]}-{blocks[-1]}].{sub_key}\"\n",
    "            else:\n",
    "                new_key = ', '.join([f\"blocks.[{b}]\" for b in blocks]) + f\".{sub_key}\"\n",
    "            keys_hierarchy = new_key.split('.')\n",
    "            recursive_insert(activation_summary, keys_hierarchy, shape)\n",
    "\n",
    "    # Insert non-block keys directly\n",
    "    for key, value in cache.items():\n",
    "        if not pattern.match(key):\n",
    "            activation_summary[key] = shape_conversion(value)\n",
    "\n",
    "    return activation_summary\n",
    "\n",
    "# Assuming `cache` is your ActivationCache object\n",
    "activation_summary = construct_activation_summary(cache, shapes_as_str=True)\n",
    "import json\n",
    "import yaml\n",
    "print(yaml.dump(activation_summary, default_flow_style=False))"
   ]
  },
  {
   "cell_type": "code",
   "execution_count": null,
   "metadata": {},
   "outputs": [],
   "source": []
  },
  {
   "cell_type": "code",
   "execution_count": 45,
   "metadata": {},
   "outputs": [],
   "source": [
    "#print(model)"
   ]
  },
  {
   "cell_type": "code",
   "execution_count": 101,
   "metadata": {},
   "outputs": [],
   "source": [
    "def patching_hook_right(model_in, token_to_patch, layer_to_patch, coeff, act_diff):\n",
    "    # Model in is list of str tokens (could batch tensor and use gather)\n",
    "    def layer_output_patch_hook(inp, hook):\n",
    "        # inp has shape [batch_size, seq_len, hidden_dim]\n",
    "\n",
    "        if inp.shape[1] == 1:\n",
    "            return  \n",
    "        \n",
    "        ppos, apos = inp.shape[1], act_diff.shape[1]\n",
    "\n",
    "        if apos <= ppos:\n",
    "            inp[:, :apos, :] += coeff * act_diff\n",
    "        else:\n",
    "            inp += coeff * act_diff[:,apos-ppos:]\n",
    "        \n",
    "        return inp\n",
    "\n",
    "    return [(f\"blocks.{layer_to_patch}.hook_resid_post\", layer_output_patch_hook)]\n",
    "\n",
    "# def patching_hook_right2(model_in, token_to_patch, layer_to_patch, act_diff):\n",
    "#     # Model in is list of str tokens (could batch tensor and use gather)\n",
    "#     def layer_output_patch_hook(inp, hook):\n",
    "#         # inp has shape [batch_size, seq_len, hidden_dim]\n",
    "\n",
    "#         matched_pos = model_in.index(token_to_patch)\n",
    "\n",
    "#         # patch inp at matched_pos\n",
    "#         inp[:,matched_pos] += 20 * act_diff[:,matched_pos,:] \n",
    "        \n",
    "#         return inp\n",
    "\n",
    "#     return [(f\"blocks.{layer_to_patch}.hook_resid_post\", layer_output_patch_hook)]\n",
    "\n",
    "# def patching_hook_rand(model_in, token_to_patch, new_start_pos, layer_to_patch, act_diff):\n",
    "#     # Model in is list of str tokens (could batch tensor and use gather)\n",
    "#     def layer_output_patch_hook(inp, hook):\n",
    "#         # inp has shape [batch_size, seq_len, hidden_dim]\n",
    "\n",
    "#         if inp.shape[1] == 1:\n",
    "#             return  \n",
    "        \n",
    "#         ppos, apos = inp.shape[1], act_diff.shape[1]\n",
    "\n",
    "#         if apos <= ppos:\n",
    "#             inp[:, :apos, :] += coeff * act_diff\n",
    "#         else:\n",
    "#             inp += coeff * act_diff[:,apos-ppos:]\n",
    "        \n",
    "#         matched_pos = model_in.index(token_to_patch)\n",
    "\n",
    "#         # patch inp at matched_pos\n",
    "#         inp[:,matched_pos] += 5 * inp[:, model_in.new_start_pos, :]# 10 * torch.randn_like(inp[:, 0, :])\n",
    "        \n",
    "#         return inp\n",
    "\n",
    "#     return [(f\"blocks.{layer_to_patch}.hook_resid_post\", layer_output_patch_hook)]"
   ]
  },
  {
   "cell_type": "markdown",
   "metadata": {},
   "source": [
    "## Questions:\n",
    " - Shape of act_diff needs to somehow match the inp shape? Or I shouldn't add act_diff to inp, but something else?\n",
    " - Also why is the shape of the act_diff (105,2,512) ?\n",
    " - Which token do I add act_diff to here? Is it PATH_START, or the one after it?\n",
    " - Which layer should I add it to? \n",
    " - How can I patch to not the very first token?"
   ]
  },
  {
   "cell_type": "code",
   "execution_count": 102,
   "metadata": {},
   "outputs": [
    {
     "data": {
      "application/vnd.jupyter.widget-view+json": {
       "model_id": "8885f7db5c324fbabcba7669928c09aa",
       "version_major": 2,
       "version_minor": 0
      },
      "text/plain": [
       "  0%|          | 0/40 [00:00<?, ?it/s]"
      ]
     },
     "metadata": {},
     "output_type": "display_data"
    },
    {
     "data": {
      "application/vnd.jupyter.widget-view+json": {
       "model_id": "762087546ca44ed48132dff40db6caa5",
       "version_major": 2,
       "version_minor": 0
      },
      "text/plain": [
       "  0%|          | 0/40 [00:00<?, ?it/s]"
      ]
     },
     "metadata": {},
     "output_type": "display_data"
    }
   ],
   "source": [
    "# Prepare example and hook\n",
    "example = dataset_left[21].as_tokens(tokenizer)\n",
    "prompt, soln = example[: example.index(\"<PATH_START>\") + 1], example[example.index(\"<PATH_START>\") + 1 :]\n",
    "\n",
    "turn_right_patch_hook = patching_hook_right(prompt, example[example.index(\"<PATH_START>\") + 1], layer, coeff, act_diff)\n",
    "\n",
    "\n",
    "# Run intervention - generate with hook applied to same layer\n",
    "#                    and token at each step of the rollout\n",
    "\n",
    "prediction_original = model.generate(\n",
    "    \" \".join(prompt),\n",
    "    prepend_bos=False,\n",
    "    max_new_tokens=40,\n",
    "    do_sample=False\n",
    ")\n",
    "\n",
    "prediction_perturbed = intervene_upon_generation(\n",
    "    model,\n",
    "    \" \".join(prompt),\n",
    "    turn_right_patch_hook,\n",
    "    do_sample=False,\n",
    "    max_new_tokens=40,\n",
    "    device=DEVICE,\n",
    ")\n",
    "prediction_perturbed = model.to_string(prediction_perturbed)[0]"
   ]
  },
  {
   "cell_type": "code",
   "execution_count": 104,
   "metadata": {},
   "outputs": [
    {
     "name": "stdout",
     "output_type": "stream",
     "text": [
      "Layer = 5\n"
     ]
    },
    {
     "data": {
      "image/png": "[encoded data removed]",
      "text/plain": [
       "<Figure size 640x480 with 2 Axes>"
      ]
     },
     "metadata": {},
     "output_type": "display_data"
    }
   ],
   "source": [
    "\n",
    "# Plot the output\n",
    "gs = GridSpec(1, 2)\n",
    "plot_maze(prediction_original, tokenizer=tokenizer, ax=gs[0, 0], ax_labels={'maze':{'title': 'Original'}})\n",
    "plot_maze(prediction_perturbed, tokenizer=tokenizer, ax=gs[0, 1], ax_labels={'maze':{'title': 'Perturbed'}});\n",
    "print(f\"Layer = {layer}\")"
   ]
  },
  {
   "cell_type": "code",
   "execution_count": 106,
   "metadata": {},
   "outputs": [],
   "source": [
    "def find_vector(data_set, layer):\n",
    "\n",
    "    cache_n=torch.zeros_like(c)\n",
    "    \n",
    "    for i in range(len(data_set)):\n",
    "        # Prepare example and hook\n",
    "        example = data_set[i].as_tokens(tokenizer) \n",
    "        prompt, soln = example[: example.index(\"<PATH_START>\") + 1], example[example.index(\"<PATH_START>\") + 1 :]\n",
    "\n",
    "        name = f\"blocks.{layer}.hook_resid_pre\"\n",
    "        cache, caching_hooks, _ = model.get_caching_hooks(lambda n: n == name)\n",
    "        with model.hooks(fwd_hooks=caching_hooks):\n",
    "            _ = model(\" \".join(prompt))\n",
    "        cache_n+= cache[name]/len(data_set)\n",
    "\n",
    "    return cache_n\n",
    "\n"
   ]
  },
  {
   "cell_type": "code",
   "execution_count": 107,
   "metadata": {},
   "outputs": [],
   "source": [
    "def create_activation_vector(pos_data_set, neg_data_set, layer):\n",
    "\n",
    "    pos_vec = find_vector(pos_data_set, layer)\n",
    "    neg_vec = find_vector(neg_data_set, layer)\n",
    "\n",
    "    return pos_vec-neg_vec"
   ]
  },
  {
   "cell_type": "code",
   "execution_count": 108,
   "metadata": {},
   "outputs": [],
   "source": [
    "act_vec0 = create_activation_vector(dataset_right, dataset_left, 0)\n",
    "act_vec1 = create_activation_vector(dataset_right, dataset_left, 1)\n",
    "act_vec2 = create_activation_vector(dataset_right, dataset_left, 2)\n",
    "act_vec3 = create_activation_vector(dataset_right, dataset_left, 3)\n",
    "act_vec4 = create_activation_vector(dataset_right, dataset_left, 4)\n",
    "act_vec5 = create_activation_vector(dataset_right, dataset_left, 5)\n",
    "#act_vec6 = create_activation_vector(dataset_right, dataset_left, 6)\n",
    "#act_vec7 = create_activation_vector(dataset_right, dataset_left, 7)\n"
   ]
  },
  {
   "cell_type": "code",
   "execution_count": 139,
   "metadata": {},
   "outputs": [],
   "source": [
    "def apply_act_vecs(act_vec, layer, coeff, example):\n",
    "\n",
    "    prompt, soln = example[: example.index(\"<PATH_START>\") + 1], example[example.index(\"<PATH_START>\") + 1 :]\n",
    "\n",
    "    turn_right_patch_hook = patching_hook_right(prompt, example[example.index(\"<PATH_START>\") + 2], layer, coeff, act_vec)\n",
    "\n",
    "    prediction_original = model.generate(\n",
    "        \"\".join(prompt),\n",
    "        prepend_bos=False,\n",
    "        max_new_tokens=40,\n",
    "        do_sample=False\n",
    "    ) \n",
    "\n",
    "    prediction_perturbed = intervene_upon_generation(\n",
    "        model,\n",
    "        \"\".join(prompt),\n",
    "        turn_right_patch_hook,\n",
    "        do_sample=False,\n",
    "        max_new_tokens=40,\n",
    "        device=DEVICE,\n",
    "    )\n",
    "    prediction_perturbed = model.to_string(prediction_perturbed)[0]\n",
    "\n",
    "\n",
    "    # Plot the output\n",
    "    gs = GridSpec(1, 2)\n",
    "    plot_maze(prediction_original, tokenizer=tokenizer, ax=gs[0, 0], ax_labels={'maze':{'title': 'Original'}})\n",
    "    plot_maze(prediction_perturbed, tokenizer=tokenizer, ax=gs[0, 1], ax_labels={'maze':{'title': 'Perturbed'}});\n",
    "    #print(f\"Layer = {la}\")\n"
   ]
  },
  {
   "cell_type": "code",
   "execution_count": 158,
   "metadata": {},
   "outputs": [
    {
     "data": {
      "application/vnd.jupyter.widget-view+json": {
       "model_id": "a7939573458f4911aaa0a26b2b89e9ce",
       "version_major": 2,
       "version_minor": 0
      },
      "text/plain": [
       "  0%|          | 0/40 [00:00<?, ?it/s]"
      ]
     },
     "metadata": {},
     "output_type": "display_data"
    },
    {
     "data": {
      "text/plain": [
       "GridSpec(1, 2)[0:1, 0:1]"
      ]
     },
     "execution_count": 158,
     "metadata": {},
     "output_type": "execute_result"
    },
    {
     "data": {
      "image/png": "[encoded data removed]",
      "text/plain": [
       "<Figure size 640x480 with 1 Axes>"
      ]
     },
     "metadata": {},
     "output_type": "display_data"
    }
   ],
   "source": [
    "maze_num = 21\n",
    "\n",
    "example = dataset_left[maze_num].as_tokens(tokenizer) \n",
    "\n",
    "prompt, soln = example[: example.index(\"<PATH_START>\") + 1], example[example.index(\"<PATH_START>\") + 1 :]\n",
    "\n",
    "prediction_original = model.generate(\n",
    "        \"\".join(prompt),\n",
    "        prepend_bos=False,\n",
    "        max_new_tokens=40,\n",
    "        do_sample=False\n",
    "    ) \n",
    "\n",
    "plot_maze(prediction_original, tokenizer=tokenizer, ax=gs[0, 0], ax_labels={'maze':{'title': 'Original'}})\n"
   ]
  },
  {
   "cell_type": "code",
   "execution_count": 167,
   "metadata": {},
   "outputs": [
    {
     "data": {
      "application/vnd.jupyter.widget-view+json": {
       "model_id": "0b12f28e6ac04164829ef8a57a4d5f18",
       "version_major": 2,
       "version_minor": 0
      },
      "text/plain": [
       "  0%|          | 0/40 [00:00<?, ?it/s]"
      ]
     },
     "metadata": {},
     "output_type": "display_data"
    },
    {
     "data": {
      "application/vnd.jupyter.widget-view+json": {
       "model_id": "0f17d9fac52749958c442300b9a0348d",
       "version_major": 2,
       "version_minor": 0
      },
      "text/plain": [
       "  0%|          | 0/40 [00:00<?, ?it/s]"
      ]
     },
     "metadata": {},
     "output_type": "display_data"
    },
    {
     "data": {
      "image/png": "[encoded data removed]",
      "text/plain": [
       "<Figure size 640x480 with 2 Axes>"
      ]
     },
     "metadata": {},
     "output_type": "display_data"
    }
   ],
   "source": [
    "example = dataset_left[maze_num].as_tokens(tokenizer)\n",
    "\n",
    "apply_act_vecs(act_vec0, 0, 80, example)"
   ]
  },
  {
   "cell_type": "code",
   "execution_count": 160,
   "metadata": {},
   "outputs": [
    {
     "data": {
      "application/vnd.jupyter.widget-view+json": {
       "model_id": "25c14c6de56d4415beb8b0c4d810f630",
       "version_major": 2,
       "version_minor": 0
      },
      "text/plain": [
       "  0%|          | 0/40 [00:00<?, ?it/s]"
      ]
     },
     "metadata": {},
     "output_type": "display_data"
    },
    {
     "data": {
      "application/vnd.jupyter.widget-view+json": {
       "model_id": "92fad5fb680f4b70b6af06d896274966",
       "version_major": 2,
       "version_minor": 0
      },
      "text/plain": [
       "  0%|          | 0/40 [00:00<?, ?it/s]"
      ]
     },
     "metadata": {},
     "output_type": "display_data"
    },
    {
     "data": {
      "image/png": "[encoded data removed]",
      "text/plain": [
       "<Figure size 640x480 with 2 Axes>"
      ]
     },
     "metadata": {},
     "output_type": "display_data"
    }
   ],
   "source": [
    "apply_act_vecs(act_vec1, 1, 80, example)"
   ]
  },
  {
   "cell_type": "code",
   "execution_count": 161,
   "metadata": {},
   "outputs": [
    {
     "data": {
      "application/vnd.jupyter.widget-view+json": {
       "model_id": "3a74951bb436422ab3e8532d1b192a16",
       "version_major": 2,
       "version_minor": 0
      },
      "text/plain": [
       "  0%|          | 0/40 [00:00<?, ?it/s]"
      ]
     },
     "metadata": {},
     "output_type": "display_data"
    },
    {
     "data": {
      "application/vnd.jupyter.widget-view+json": {
       "model_id": "a29e62e1e0804d6ebcafa7756ef75be7",
       "version_major": 2,
       "version_minor": 0
      },
      "text/plain": [
       "  0%|          | 0/40 [00:00<?, ?it/s]"
      ]
     },
     "metadata": {},
     "output_type": "display_data"
    },
    {
     "data": {
      "image/png": "[encoded data removed]",
      "text/plain": [
       "<Figure size 640x480 with 2 Axes>"
      ]
     },
     "metadata": {},
     "output_type": "display_data"
    }
   ],
   "source": [
    "apply_act_vecs(act_vec2, 2, 80, example)"
   ]
  },
  {
   "cell_type": "code",
   "execution_count": 162,
   "metadata": {},
   "outputs": [
    {
     "data": {
      "application/vnd.jupyter.widget-view+json": {
       "model_id": "53493f954d0b47fb9be86a1656385abd",
       "version_major": 2,
       "version_minor": 0
      },
      "text/plain": [
       "  0%|          | 0/40 [00:00<?, ?it/s]"
      ]
     },
     "metadata": {},
     "output_type": "display_data"
    },
    {
     "data": {
      "application/vnd.jupyter.widget-view+json": {
       "model_id": "c480264dd26b4bd2b41110b4fd92bb9b",
       "version_major": 2,
       "version_minor": 0
      },
      "text/plain": [
       "  0%|          | 0/40 [00:00<?, ?it/s]"
      ]
     },
     "metadata": {},
     "output_type": "display_data"
    },
    {
     "data": {
      "image/png": "[encoded data removed]",
      "text/plain": [
       "<Figure size 640x480 with 2 Axes>"
      ]
     },
     "metadata": {},
     "output_type": "display_data"
    }
   ],
   "source": [
    "apply_act_vecs(act_vec3, 3, 80, example)"
   ]
  },
  {
   "cell_type": "code",
   "execution_count": 163,
   "metadata": {},
   "outputs": [
    {
     "data": {
      "application/vnd.jupyter.widget-view+json": {
       "model_id": "f80690986a5141f5aa7decc92d834d25",
       "version_major": 2,
       "version_minor": 0
      },
      "text/plain": [
       "  0%|          | 0/40 [00:00<?, ?it/s]"
      ]
     },
     "metadata": {},
     "output_type": "display_data"
    },
    {
     "data": {
      "application/vnd.jupyter.widget-view+json": {
       "model_id": "397a8b642d1a4f229bcb349bf558561d",
       "version_major": 2,
       "version_minor": 0
      },
      "text/plain": [
       "  0%|          | 0/40 [00:00<?, ?it/s]"
      ]
     },
     "metadata": {},
     "output_type": "display_data"
    },
    {
     "data": {
      "image/png": "[encoded data removed]",
      "text/plain": [
       "<Figure size 640x480 with 2 Axes>"
      ]
     },
     "metadata": {},
     "output_type": "display_data"
    }
   ],
   "source": [
    "apply_act_vecs(act_vec4, 4, 80, example)"
   ]
  },
  {
   "cell_type": "code",
   "execution_count": 164,
   "metadata": {},
   "outputs": [
    {
     "data": {
      "application/vnd.jupyter.widget-view+json": {
       "model_id": "0e2db9cea08240b881278d23d469a748",
       "version_major": 2,
       "version_minor": 0
      },
      "text/plain": [
       "  0%|          | 0/40 [00:00<?, ?it/s]"
      ]
     },
     "metadata": {},
     "output_type": "display_data"
    },
    {
     "data": {
      "application/vnd.jupyter.widget-view+json": {
       "model_id": "aa9eaacb8a9d42debeee2a5b608b09ec",
       "version_major": 2,
       "version_minor": 0
      },
      "text/plain": [
       "  0%|          | 0/40 [00:00<?, ?it/s]"
      ]
     },
     "metadata": {},
     "output_type": "display_data"
    },
    {
     "data": {
      "image/png": "[encoded data removed]",
      "text/plain": [
       "<Figure size 640x480 with 2 Axes>"
      ]
     },
     "metadata": {},
     "output_type": "display_data"
    }
   ],
   "source": [
    "apply_act_vecs(act_vec5, 5, 300, example)"
   ]
  },
  {
   "cell_type": "code",
   "execution_count": null,
   "metadata": {},
   "outputs": [],
   "source": []
  },
  {
   "cell_type": "code",
   "execution_count": null,
   "metadata": {},
   "outputs": [],
   "source": []
  }
 ],
 "metadata": {
  "kernelspec": {
   "display_name": "search_env",
   "language": "python",
   "name": "python3"
  },
  "language_info": {
   "codemirror_mode": {
    "name": "ipython",
    "version": 3
   },
   "file_extension": ".py",
   "mimetype": "text/x-python",
   "name": "python",
   "nbconvert_exporter": "python",
   "pygments_lexer": "ipython3",
   "version": "3.11.7"
  }
 },
 "nbformat": 4,
 "nbformat_minor": 2
}
